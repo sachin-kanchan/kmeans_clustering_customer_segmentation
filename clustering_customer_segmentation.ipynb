{
 "cells": [
  {
   "cell_type": "markdown",
   "metadata": {},
   "source": [
    "# K-Means Clustering\n",
    "# Customer Segmentation for Targeted Marketing\n",
    "\n",
    "In today’s competitive e-commerce landscape, personalized marketing strategies are essential for building customer loyalty and driving sales. Customer segmentation, powered by unsupervised clustering algorithms, enables businesses to identify distinct groups within their customer base based on purchasing behavior, preferences, and other relevant factors.\n",
    "\n",
    "This project focuses on utilizing clustering techniques to analyze the *Online Retail Dataset* (a transactional dataset from a UK-based non-store online retailer) to discover meaningful customer segments. The dataset contains transaction details, including product descriptions, quantities purchased, invoice dates, customer IDs, and geographical locations. By identifying unique customer segments, the company can implement tailored marketing campaigns and optimize its overall business strategy.\n",
    "\n",
    "---\n",
    "\n",
    "## Objective\n",
    "The primary objective is to segment customers into meaningful clusters based on their purchasing behavior. These clusters will help the company:\n",
    "- Design targeted marketing campaigns for specific customer groups.\n",
    "- Identify high-value customers to prioritize for loyalty programs.\n",
    "- Uncover purchasing trends and patterns across different regions.\n",
    "- Improve inventory planning by understanding customer demand patterns.\n",
    "\n",
    "---\n",
    "\n",
    "## Dataset Description\n",
    "The dataset contains the following key attributes:\n",
    "- **InvoiceNo**: Unique identifier for each transaction.\n",
    "- **StockCode**: Unique identifier for products.\n",
    "- **Description**: Product description.\n",
    "- **Quantity**: Number of products purchased.\n",
    "- **InvoiceDate**: Date and time of the transaction.\n",
    "- **UnitPrice**: Price per product unit.\n",
    "- **CustomerID**: Unique identifier for customers.\n",
    "- **Country**: Country of the customer.\n",
    "\n",
    "---\n",
    "\n",
    "## Analysis Plan\n",
    "\n",
    "#### 1. Read and Understand the Data\n",
    "- Load the dataset into a pandas DataFrame.\n",
    "- Explore the dataset to understand its structure, column meanings, and unique values.\n",
    "- Identify the presence of missing or inconsistent data.\n",
    "\n",
    "#### 2. Data Cleaning\n",
    "- Handle missing values (e.g., drop rows with missing `CustomerID` or impute missing data where appropriate).\n",
    "- Remove duplicate records, if any.\n",
    "- Filter out records with invalid or negative quantities and unit prices (e.g., cancellations, returns).\n",
    "- Parse and convert dates to a standard format for time-based analysis.\n",
    "\n",
    "#### 3. Data Preparation for Modeling\n",
    "- **Feature Engineering**:\n",
    "  - Compute **TotalSales** for each transaction: `TotalSales = Quantity * UnitPrice`.\n",
    "  - Aggregate data to create customer-level metrics (e.g., total spend, number of purchases, average purchase value).\n",
    "  - Derive **RFM Metrics** (Recency, Frequency, Monetary value):\n",
    "    - **Recency**: Days since the last purchase.\n",
    "    - **Frequency**: Number of transactions made by the customer.\n",
    "    - **Monetary Value**: Total money spent by the customer.\n",
    "- Scale the features (e.g., using `StandardScaler`) to standardize data for clustering.\n",
    "\n",
    "#### 4. Clustering\n",
    "- **Exploratory Data Analysis (EDA)**:\n",
    "  - Visualize feature distributions (e.g., histograms, box plots).\n",
    "  - Identify relationships between features using pair plots or correlation matrices.\n",
    "- **Clustering Model**:\n",
    "  - Apply clustering algorithms (e.g., K-Means) to segment customers.\n",
    "  - Determine the optimal number of clusters using the **Elbow Method** or **Silhouette Score**.\n",
    "  - Assign cluster labels to customers.\n",
    "- **Visualize Clusters**:\n",
    "  - Use scatter plots (e.g., with PCA or t-SNE for dimensionality reduction) to visualize clusters.\n",
    "  - Analyze the characteristics of each cluster to understand customer behaviors.\n",
    "\n",
    "#### 5. Final Analysis and Recommendations\n",
    "- **Interpret Clusters**:\n",
    "  - Profile each customer segment (e.g., high-value customers, infrequent buyers).\n",
    "  - Identify actionable insights based on cluster characteristics.\n",
    "- **Business Recommendations**:\n",
    "  - Develop targeted marketing strategies for each segment.\n",
    "  - Suggest promotional offers or campaigns to incentivize low-value customers.\n",
    "  - Recommend inventory adjustments to cater to high-demand products.\n",
    "\n",
    "---\n",
    "\n",
    "## Deliverables\n",
    "1. **Cluster Profiles**:\n",
    "   - Summary of each customer cluster, including size, characteristics, and purchasing behavior.\n",
    "2. **Visualizations**:\n",
    "   - Distribution plots, cluster scatter plots, and feature importance charts.\n",
    "3. **Actionable Insights**:\n",
    "   - Marketing and business recommendations based on clustering results.\n",
    "4. **Documentation**:\n",
    "   - Comprehensive report on the methodology, findings, and suggestions for implementation.\n",
    "\n",
    "---\n",
    "\n",
    "## Expected Outcomes\n",
    "By the end of this project, the retailer will have:\n",
    "- A clear understanding of customer segmentation.\n",
    "- Actionable insights to implement personalized marketing campaigns.\n",
    "- Data-driven recommendations to optimize inventory and sales strategies."
   ]
  },
  {
   "cell_type": "markdown",
   "metadata": {},
   "source": [
    "# 1. Libraries & Dataset Import"
   ]
  },
  {
   "cell_type": "code",
   "execution_count": 1,
   "metadata": {},
   "outputs": [],
   "source": [
    "# for data wrangling\n",
    "import pandas as pd\n",
    "import numpy as np\n",
    "\n",
    "# for data viz\n",
    "import matplotlib.pyplot as plt\n",
    "import seaborn as sns\n",
    "\n",
    "import datetime as dt\n",
    "\n",
    "# for machine learning\n",
    "import sklearn\n",
    "from sklearn.preprocessing import StandardScaler\n",
    "from sklearn.cluster import KMeans\n",
    "from sklearn.metrics import silhouette_score\n",
    "\n",
    "from scipy.cluster.hierarchy import linkage\n",
    "from scipy.cluster.hierarchy import dendrogram\n",
    "from scipy.cluster.hierarchy import cut_tree\n",
    "\n",
    "\n",
    "import warnings\n",
    "warnings.filterwarnings('ignore')"
   ]
  },
  {
   "cell_type": "code",
   "execution_count": 2,
   "metadata": {},
   "outputs": [],
   "source": [
    "# read the dataset\n",
    "retail_df = pd.read_csv(\"Online+Retail.csv\", sep=\",\", encoding=\"ISO-8859-1\", header=0)"
   ]
  },
  {
   "cell_type": "markdown",
   "metadata": {},
   "source": [
    "# 2. Dataset Inspection"
   ]
  },
  {
   "cell_type": "code",
   "execution_count": 3,
   "metadata": {},
   "outputs": [
    {
     "data": {
      "text/html": [
       "<div>\n",
       "<style scoped>\n",
       "    .dataframe tbody tr th:only-of-type {\n",
       "        vertical-align: middle;\n",
       "    }\n",
       "\n",
       "    .dataframe tbody tr th {\n",
       "        vertical-align: top;\n",
       "    }\n",
       "\n",
       "    .dataframe thead th {\n",
       "        text-align: right;\n",
       "    }\n",
       "</style>\n",
       "<table border=\"1\" class=\"dataframe\">\n",
       "  <thead>\n",
       "    <tr style=\"text-align: right;\">\n",
       "      <th></th>\n",
       "      <th>InvoiceNo</th>\n",
       "      <th>StockCode</th>\n",
       "      <th>Description</th>\n",
       "      <th>Quantity</th>\n",
       "      <th>InvoiceDate</th>\n",
       "      <th>UnitPrice</th>\n",
       "      <th>CustomerID</th>\n",
       "      <th>Country</th>\n",
       "    </tr>\n",
       "  </thead>\n",
       "  <tbody>\n",
       "    <tr>\n",
       "      <th>0</th>\n",
       "      <td>536365</td>\n",
       "      <td>85123A</td>\n",
       "      <td>WHITE HANGING HEART T-LIGHT HOLDER</td>\n",
       "      <td>6</td>\n",
       "      <td>01-12-2010 08:26</td>\n",
       "      <td>2.55</td>\n",
       "      <td>17850.0</td>\n",
       "      <td>United Kingdom</td>\n",
       "    </tr>\n",
       "    <tr>\n",
       "      <th>1</th>\n",
       "      <td>536365</td>\n",
       "      <td>71053</td>\n",
       "      <td>WHITE METAL LANTERN</td>\n",
       "      <td>6</td>\n",
       "      <td>01-12-2010 08:26</td>\n",
       "      <td>3.39</td>\n",
       "      <td>17850.0</td>\n",
       "      <td>United Kingdom</td>\n",
       "    </tr>\n",
       "    <tr>\n",
       "      <th>2</th>\n",
       "      <td>536365</td>\n",
       "      <td>84406B</td>\n",
       "      <td>CREAM CUPID HEARTS COAT HANGER</td>\n",
       "      <td>8</td>\n",
       "      <td>01-12-2010 08:26</td>\n",
       "      <td>2.75</td>\n",
       "      <td>17850.0</td>\n",
       "      <td>United Kingdom</td>\n",
       "    </tr>\n",
       "    <tr>\n",
       "      <th>3</th>\n",
       "      <td>536365</td>\n",
       "      <td>84029G</td>\n",
       "      <td>KNITTED UNION FLAG HOT WATER BOTTLE</td>\n",
       "      <td>6</td>\n",
       "      <td>01-12-2010 08:26</td>\n",
       "      <td>3.39</td>\n",
       "      <td>17850.0</td>\n",
       "      <td>United Kingdom</td>\n",
       "    </tr>\n",
       "    <tr>\n",
       "      <th>4</th>\n",
       "      <td>536365</td>\n",
       "      <td>84029E</td>\n",
       "      <td>RED WOOLLY HOTTIE WHITE HEART.</td>\n",
       "      <td>6</td>\n",
       "      <td>01-12-2010 08:26</td>\n",
       "      <td>3.39</td>\n",
       "      <td>17850.0</td>\n",
       "      <td>United Kingdom</td>\n",
       "    </tr>\n",
       "  </tbody>\n",
       "</table>\n",
       "</div>"
      ],
      "text/plain": [
       "  InvoiceNo StockCode                          Description  Quantity  \\\n",
       "0    536365    85123A   WHITE HANGING HEART T-LIGHT HOLDER         6   \n",
       "1    536365     71053                  WHITE METAL LANTERN         6   \n",
       "2    536365    84406B       CREAM CUPID HEARTS COAT HANGER         8   \n",
       "3    536365    84029G  KNITTED UNION FLAG HOT WATER BOTTLE         6   \n",
       "4    536365    84029E       RED WOOLLY HOTTIE WHITE HEART.         6   \n",
       "\n",
       "        InvoiceDate  UnitPrice  CustomerID         Country  \n",
       "0  01-12-2010 08:26       2.55     17850.0  United Kingdom  \n",
       "1  01-12-2010 08:26       3.39     17850.0  United Kingdom  \n",
       "2  01-12-2010 08:26       2.75     17850.0  United Kingdom  \n",
       "3  01-12-2010 08:26       3.39     17850.0  United Kingdom  \n",
       "4  01-12-2010 08:26       3.39     17850.0  United Kingdom  "
      ]
     },
     "execution_count": 3,
     "metadata": {},
     "output_type": "execute_result"
    }
   ],
   "source": [
    "retail_df.head()"
   ]
  },
  {
   "cell_type": "code",
   "execution_count": 4,
   "metadata": {},
   "outputs": [
    {
     "data": {
      "text/plain": [
       "(541909, 8)"
      ]
     },
     "execution_count": 4,
     "metadata": {},
     "output_type": "execute_result"
    }
   ],
   "source": [
    "retail_df.shape"
   ]
  },
  {
   "cell_type": "code",
   "execution_count": 5,
   "metadata": {},
   "outputs": [
    {
     "name": "stdout",
     "output_type": "stream",
     "text": [
      "<class 'pandas.core.frame.DataFrame'>\n",
      "RangeIndex: 541909 entries, 0 to 541908\n",
      "Data columns (total 8 columns):\n",
      " #   Column       Non-Null Count   Dtype  \n",
      "---  ------       --------------   -----  \n",
      " 0   InvoiceNo    541909 non-null  object \n",
      " 1   StockCode    541909 non-null  object \n",
      " 2   Description  540455 non-null  object \n",
      " 3   Quantity     541909 non-null  int64  \n",
      " 4   InvoiceDate  541909 non-null  object \n",
      " 5   UnitPrice    541909 non-null  float64\n",
      " 6   CustomerID   406829 non-null  float64\n",
      " 7   Country      541909 non-null  object \n",
      "dtypes: float64(2), int64(1), object(5)\n",
      "memory usage: 33.1+ MB\n"
     ]
    }
   ],
   "source": [
    "retail_df.info()"
   ]
  },
  {
   "cell_type": "code",
   "execution_count": 6,
   "metadata": {},
   "outputs": [
    {
     "data": {
      "text/html": [
       "<div>\n",
       "<style scoped>\n",
       "    .dataframe tbody tr th:only-of-type {\n",
       "        vertical-align: middle;\n",
       "    }\n",
       "\n",
       "    .dataframe tbody tr th {\n",
       "        vertical-align: top;\n",
       "    }\n",
       "\n",
       "    .dataframe thead th {\n",
       "        text-align: right;\n",
       "    }\n",
       "</style>\n",
       "<table border=\"1\" class=\"dataframe\">\n",
       "  <thead>\n",
       "    <tr style=\"text-align: right;\">\n",
       "      <th></th>\n",
       "      <th>Quantity</th>\n",
       "      <th>UnitPrice</th>\n",
       "      <th>CustomerID</th>\n",
       "    </tr>\n",
       "  </thead>\n",
       "  <tbody>\n",
       "    <tr>\n",
       "      <th>count</th>\n",
       "      <td>541909.000000</td>\n",
       "      <td>541909.000000</td>\n",
       "      <td>406829.000000</td>\n",
       "    </tr>\n",
       "    <tr>\n",
       "      <th>mean</th>\n",
       "      <td>9.552250</td>\n",
       "      <td>4.611114</td>\n",
       "      <td>15287.690570</td>\n",
       "    </tr>\n",
       "    <tr>\n",
       "      <th>std</th>\n",
       "      <td>218.081158</td>\n",
       "      <td>96.759853</td>\n",
       "      <td>1713.600303</td>\n",
       "    </tr>\n",
       "    <tr>\n",
       "      <th>min</th>\n",
       "      <td>-80995.000000</td>\n",
       "      <td>-11062.060000</td>\n",
       "      <td>12346.000000</td>\n",
       "    </tr>\n",
       "    <tr>\n",
       "      <th>25%</th>\n",
       "      <td>1.000000</td>\n",
       "      <td>1.250000</td>\n",
       "      <td>13953.000000</td>\n",
       "    </tr>\n",
       "    <tr>\n",
       "      <th>50%</th>\n",
       "      <td>3.000000</td>\n",
       "      <td>2.080000</td>\n",
       "      <td>15152.000000</td>\n",
       "    </tr>\n",
       "    <tr>\n",
       "      <th>75%</th>\n",
       "      <td>10.000000</td>\n",
       "      <td>4.130000</td>\n",
       "      <td>16791.000000</td>\n",
       "    </tr>\n",
       "    <tr>\n",
       "      <th>max</th>\n",
       "      <td>80995.000000</td>\n",
       "      <td>38970.000000</td>\n",
       "      <td>18287.000000</td>\n",
       "    </tr>\n",
       "  </tbody>\n",
       "</table>\n",
       "</div>"
      ],
      "text/plain": [
       "            Quantity      UnitPrice     CustomerID\n",
       "count  541909.000000  541909.000000  406829.000000\n",
       "mean        9.552250       4.611114   15287.690570\n",
       "std       218.081158      96.759853    1713.600303\n",
       "min    -80995.000000  -11062.060000   12346.000000\n",
       "25%         1.000000       1.250000   13953.000000\n",
       "50%         3.000000       2.080000   15152.000000\n",
       "75%        10.000000       4.130000   16791.000000\n",
       "max     80995.000000   38970.000000   18287.000000"
      ]
     },
     "execution_count": 6,
     "metadata": {},
     "output_type": "execute_result"
    }
   ],
   "source": [
    "retail_df.describe()"
   ]
  },
  {
   "cell_type": "markdown",
   "metadata": {},
   "source": [
    "# 3. Data Cleaning"
   ]
  },
  {
   "cell_type": "markdown",
   "metadata": {},
   "source": [
    "### Null Check in terms of %"
   ]
  },
  {
   "cell_type": "code",
   "execution_count": 7,
   "metadata": {},
   "outputs": [
    {
     "data": {
      "text/plain": [
       "InvoiceNo       0.00\n",
       "StockCode       0.00\n",
       "Description     0.27\n",
       "Quantity        0.00\n",
       "InvoiceDate     0.00\n",
       "UnitPrice       0.00\n",
       "CustomerID     24.93\n",
       "Country         0.00\n",
       "dtype: float64"
      ]
     },
     "execution_count": 7,
     "metadata": {},
     "output_type": "execute_result"
    }
   ],
   "source": [
    "# Missing Values check\n",
    "round(retail_df.isnull().mean()*100, 2)"
   ]
  },
  {
   "cell_type": "markdown",
   "metadata": {},
   "source": [
    "### Drop Missing Info"
   ]
  },
  {
   "cell_type": "code",
   "execution_count": 8,
   "metadata": {},
   "outputs": [
    {
     "data": {
      "text/plain": [
       "(406829, 8)"
      ]
     },
     "execution_count": 8,
     "metadata": {},
     "output_type": "execute_result"
    }
   ],
   "source": [
    "# Drop rows with missing customerid\n",
    "retail_df = retail_df[~retail_df['CustomerID'].isnull()]\n",
    "retail_df.shape"
   ]
  },
  {
   "cell_type": "markdown",
   "metadata": {},
   "source": [
    "# 4. Prepare the Dataset for Modelling"
   ]
  },
  {
   "cell_type": "markdown",
   "metadata": {},
   "source": [
    "### 4.1 Feature Engineering"
   ]
  },
  {
   "cell_type": "markdown",
   "metadata": {},
   "source": [
    "- R - Recency - No. of days since last purchase\n",
    "- F - Frequency - No. of transactions\n",
    "- M - Monetary (Value) - Total Amount spent by customer on transactions (revenue contributed)"
   ]
  },
  {
   "cell_type": "code",
   "execution_count": 9,
   "metadata": {},
   "outputs": [],
   "source": [
    "rfm = ['recency', 'frequency', 'monetary_value']"
   ]
  },
  {
   "cell_type": "code",
   "execution_count": 10,
   "metadata": {},
   "outputs": [
    {
     "data": {
      "text/plain": [
       "Index(['InvoiceNo', 'StockCode', 'Description', 'Quantity', 'InvoiceDate',\n",
       "       'UnitPrice', 'CustomerID', 'Country'],\n",
       "      dtype='object')"
      ]
     },
     "execution_count": 10,
     "metadata": {},
     "output_type": "execute_result"
    }
   ],
   "source": [
    "retail_df.columns"
   ]
  },
  {
   "cell_type": "code",
   "execution_count": 11,
   "metadata": {},
   "outputs": [
    {
     "name": "stdout",
     "output_type": "stream",
     "text": [
      "Removed negative amount transactions. New shape: (397884, 9)\n"
     ]
    },
    {
     "data": {
      "text/html": [
       "<div>\n",
       "<style scoped>\n",
       "    .dataframe tbody tr th:only-of-type {\n",
       "        vertical-align: middle;\n",
       "    }\n",
       "\n",
       "    .dataframe tbody tr th {\n",
       "        vertical-align: top;\n",
       "    }\n",
       "\n",
       "    .dataframe thead th {\n",
       "        text-align: right;\n",
       "    }\n",
       "</style>\n",
       "<table border=\"1\" class=\"dataframe\">\n",
       "  <thead>\n",
       "    <tr style=\"text-align: right;\">\n",
       "      <th></th>\n",
       "      <th>InvoiceNo</th>\n",
       "      <th>StockCode</th>\n",
       "      <th>Description</th>\n",
       "      <th>Quantity</th>\n",
       "      <th>InvoiceDate</th>\n",
       "      <th>UnitPrice</th>\n",
       "      <th>CustomerID</th>\n",
       "      <th>Country</th>\n",
       "      <th>amount</th>\n",
       "    </tr>\n",
       "  </thead>\n",
       "  <tbody>\n",
       "    <tr>\n",
       "      <th>0</th>\n",
       "      <td>536365</td>\n",
       "      <td>85123A</td>\n",
       "      <td>WHITE HANGING HEART T-LIGHT HOLDER</td>\n",
       "      <td>6</td>\n",
       "      <td>01-12-2010 08:26</td>\n",
       "      <td>2.55</td>\n",
       "      <td>17850.0</td>\n",
       "      <td>United Kingdom</td>\n",
       "      <td>15.30</td>\n",
       "    </tr>\n",
       "    <tr>\n",
       "      <th>1</th>\n",
       "      <td>536365</td>\n",
       "      <td>71053</td>\n",
       "      <td>WHITE METAL LANTERN</td>\n",
       "      <td>6</td>\n",
       "      <td>01-12-2010 08:26</td>\n",
       "      <td>3.39</td>\n",
       "      <td>17850.0</td>\n",
       "      <td>United Kingdom</td>\n",
       "      <td>20.34</td>\n",
       "    </tr>\n",
       "    <tr>\n",
       "      <th>2</th>\n",
       "      <td>536365</td>\n",
       "      <td>84406B</td>\n",
       "      <td>CREAM CUPID HEARTS COAT HANGER</td>\n",
       "      <td>8</td>\n",
       "      <td>01-12-2010 08:26</td>\n",
       "      <td>2.75</td>\n",
       "      <td>17850.0</td>\n",
       "      <td>United Kingdom</td>\n",
       "      <td>22.00</td>\n",
       "    </tr>\n",
       "    <tr>\n",
       "      <th>3</th>\n",
       "      <td>536365</td>\n",
       "      <td>84029G</td>\n",
       "      <td>KNITTED UNION FLAG HOT WATER BOTTLE</td>\n",
       "      <td>6</td>\n",
       "      <td>01-12-2010 08:26</td>\n",
       "      <td>3.39</td>\n",
       "      <td>17850.0</td>\n",
       "      <td>United Kingdom</td>\n",
       "      <td>20.34</td>\n",
       "    </tr>\n",
       "    <tr>\n",
       "      <th>4</th>\n",
       "      <td>536365</td>\n",
       "      <td>84029E</td>\n",
       "      <td>RED WOOLLY HOTTIE WHITE HEART.</td>\n",
       "      <td>6</td>\n",
       "      <td>01-12-2010 08:26</td>\n",
       "      <td>3.39</td>\n",
       "      <td>17850.0</td>\n",
       "      <td>United Kingdom</td>\n",
       "      <td>20.34</td>\n",
       "    </tr>\n",
       "  </tbody>\n",
       "</table>\n",
       "</div>"
      ],
      "text/plain": [
       "  InvoiceNo StockCode                          Description  Quantity  \\\n",
       "0    536365    85123A   WHITE HANGING HEART T-LIGHT HOLDER         6   \n",
       "1    536365     71053                  WHITE METAL LANTERN         6   \n",
       "2    536365    84406B       CREAM CUPID HEARTS COAT HANGER         8   \n",
       "3    536365    84029G  KNITTED UNION FLAG HOT WATER BOTTLE         6   \n",
       "4    536365    84029E       RED WOOLLY HOTTIE WHITE HEART.         6   \n",
       "\n",
       "        InvoiceDate  UnitPrice  CustomerID         Country  amount  \n",
       "0  01-12-2010 08:26       2.55     17850.0  United Kingdom   15.30  \n",
       "1  01-12-2010 08:26       3.39     17850.0  United Kingdom   20.34  \n",
       "2  01-12-2010 08:26       2.75     17850.0  United Kingdom   22.00  \n",
       "3  01-12-2010 08:26       3.39     17850.0  United Kingdom   20.34  \n",
       "4  01-12-2010 08:26       3.39     17850.0  United Kingdom   20.34  "
      ]
     },
     "execution_count": 11,
     "metadata": {},
     "output_type": "execute_result"
    }
   ],
   "source": [
    "# amount - new feature for amount spent in a transaction for a particular item\n",
    "retail_df['amount'] = retail_df['Quantity'] * retail_df['UnitPrice']\n",
    "\n",
    "# Filter out the transactions with negative amounts (returns/cancellations)\n",
    "retail_df = retail_df[retail_df['amount'] > 0]\n",
    "print(f\"Removed negative amount transactions. New shape: {retail_df.shape}\")\n",
    "\n",
    "\n",
    "retail_df.head()"
   ]
  },
  {
   "cell_type": "code",
   "execution_count": 12,
   "metadata": {},
   "outputs": [
    {
     "data": {
      "text/html": [
       "<div>\n",
       "<style scoped>\n",
       "    .dataframe tbody tr th:only-of-type {\n",
       "        vertical-align: middle;\n",
       "    }\n",
       "\n",
       "    .dataframe tbody tr th {\n",
       "        vertical-align: top;\n",
       "    }\n",
       "\n",
       "    .dataframe thead th {\n",
       "        text-align: right;\n",
       "    }\n",
       "</style>\n",
       "<table border=\"1\" class=\"dataframe\">\n",
       "  <thead>\n",
       "    <tr style=\"text-align: right;\">\n",
       "      <th></th>\n",
       "      <th>InvoiceNo</th>\n",
       "      <th>StockCode</th>\n",
       "      <th>Description</th>\n",
       "      <th>Quantity</th>\n",
       "      <th>InvoiceDate</th>\n",
       "      <th>UnitPrice</th>\n",
       "      <th>CustomerID</th>\n",
       "      <th>Country</th>\n",
       "      <th>amount</th>\n",
       "      <th>monetary_value</th>\n",
       "      <th>frequency</th>\n",
       "    </tr>\n",
       "  </thead>\n",
       "  <tbody>\n",
       "    <tr>\n",
       "      <th>0</th>\n",
       "      <td>536365</td>\n",
       "      <td>85123A</td>\n",
       "      <td>WHITE HANGING HEART T-LIGHT HOLDER</td>\n",
       "      <td>6</td>\n",
       "      <td>01-12-2010 08:26</td>\n",
       "      <td>2.55</td>\n",
       "      <td>17850.0</td>\n",
       "      <td>United Kingdom</td>\n",
       "      <td>15.30</td>\n",
       "      <td>5391.21</td>\n",
       "      <td>297</td>\n",
       "    </tr>\n",
       "    <tr>\n",
       "      <th>1</th>\n",
       "      <td>536365</td>\n",
       "      <td>71053</td>\n",
       "      <td>WHITE METAL LANTERN</td>\n",
       "      <td>6</td>\n",
       "      <td>01-12-2010 08:26</td>\n",
       "      <td>3.39</td>\n",
       "      <td>17850.0</td>\n",
       "      <td>United Kingdom</td>\n",
       "      <td>20.34</td>\n",
       "      <td>5391.21</td>\n",
       "      <td>297</td>\n",
       "    </tr>\n",
       "    <tr>\n",
       "      <th>2</th>\n",
       "      <td>536365</td>\n",
       "      <td>84406B</td>\n",
       "      <td>CREAM CUPID HEARTS COAT HANGER</td>\n",
       "      <td>8</td>\n",
       "      <td>01-12-2010 08:26</td>\n",
       "      <td>2.75</td>\n",
       "      <td>17850.0</td>\n",
       "      <td>United Kingdom</td>\n",
       "      <td>22.00</td>\n",
       "      <td>5391.21</td>\n",
       "      <td>297</td>\n",
       "    </tr>\n",
       "    <tr>\n",
       "      <th>3</th>\n",
       "      <td>536365</td>\n",
       "      <td>84029G</td>\n",
       "      <td>KNITTED UNION FLAG HOT WATER BOTTLE</td>\n",
       "      <td>6</td>\n",
       "      <td>01-12-2010 08:26</td>\n",
       "      <td>3.39</td>\n",
       "      <td>17850.0</td>\n",
       "      <td>United Kingdom</td>\n",
       "      <td>20.34</td>\n",
       "      <td>5391.21</td>\n",
       "      <td>297</td>\n",
       "    </tr>\n",
       "    <tr>\n",
       "      <th>4</th>\n",
       "      <td>536365</td>\n",
       "      <td>84029E</td>\n",
       "      <td>RED WOOLLY HOTTIE WHITE HEART.</td>\n",
       "      <td>6</td>\n",
       "      <td>01-12-2010 08:26</td>\n",
       "      <td>3.39</td>\n",
       "      <td>17850.0</td>\n",
       "      <td>United Kingdom</td>\n",
       "      <td>20.34</td>\n",
       "      <td>5391.21</td>\n",
       "      <td>297</td>\n",
       "    </tr>\n",
       "  </tbody>\n",
       "</table>\n",
       "</div>"
      ],
      "text/plain": [
       "  InvoiceNo StockCode                          Description  Quantity  \\\n",
       "0    536365    85123A   WHITE HANGING HEART T-LIGHT HOLDER         6   \n",
       "1    536365     71053                  WHITE METAL LANTERN         6   \n",
       "2    536365    84406B       CREAM CUPID HEARTS COAT HANGER         8   \n",
       "3    536365    84029G  KNITTED UNION FLAG HOT WATER BOTTLE         6   \n",
       "4    536365    84029E       RED WOOLLY HOTTIE WHITE HEART.         6   \n",
       "\n",
       "        InvoiceDate  UnitPrice  CustomerID         Country  amount  \\\n",
       "0  01-12-2010 08:26       2.55     17850.0  United Kingdom   15.30   \n",
       "1  01-12-2010 08:26       3.39     17850.0  United Kingdom   20.34   \n",
       "2  01-12-2010 08:26       2.75     17850.0  United Kingdom   22.00   \n",
       "3  01-12-2010 08:26       3.39     17850.0  United Kingdom   20.34   \n",
       "4  01-12-2010 08:26       3.39     17850.0  United Kingdom   20.34   \n",
       "\n",
       "   monetary_value  frequency  \n",
       "0         5391.21        297  \n",
       "1         5391.21        297  \n",
       "2         5391.21        297  \n",
       "3         5391.21        297  \n",
       "4         5391.21        297  "
      ]
     },
     "execution_count": 12,
     "metadata": {},
     "output_type": "execute_result"
    }
   ],
   "source": [
    "# monetary value of purchases\n",
    "retail_df['monetary_value'] = retail_df.groupby('CustomerID')['amount'].transform('sum')\n",
    "\n",
    "# frequency of purchases\n",
    "retail_df['frequency'] = retail_df.groupby('CustomerID')['InvoiceNo'].transform('count')\n",
    "\n",
    "retail_df.head()"
   ]
  },
  {
   "cell_type": "markdown",
   "metadata": {},
   "source": [
    "### 4.2 Changing the InvoiceDate feature to DateTime"
   ]
  },
  {
   "cell_type": "code",
   "execution_count": 13,
   "metadata": {},
   "outputs": [
    {
     "name": "stdout",
     "output_type": "stream",
     "text": [
      "<class 'pandas.core.frame.DataFrame'>\n",
      "Index: 397884 entries, 0 to 541908\n",
      "Data columns (total 11 columns):\n",
      " #   Column          Non-Null Count   Dtype         \n",
      "---  ------          --------------   -----         \n",
      " 0   InvoiceNo       397884 non-null  object        \n",
      " 1   StockCode       397884 non-null  object        \n",
      " 2   Description     397884 non-null  object        \n",
      " 3   Quantity        397884 non-null  int64         \n",
      " 4   InvoiceDate     397884 non-null  datetime64[ns]\n",
      " 5   UnitPrice       397884 non-null  float64       \n",
      " 6   CustomerID      397884 non-null  float64       \n",
      " 7   Country         397884 non-null  object        \n",
      " 8   amount          397884 non-null  float64       \n",
      " 9   monetary_value  397884 non-null  float64       \n",
      " 10  frequency       397884 non-null  int64         \n",
      "dtypes: datetime64[ns](1), float64(4), int64(2), object(4)\n",
      "memory usage: 36.4+ MB\n"
     ]
    }
   ],
   "source": [
    "retail_df['InvoiceDate'] = pd.to_datetime(retail_df['InvoiceDate'], \n",
    "                                          format='%d-%m-%Y %H:%M')\n",
    "retail_df.info()"
   ]
  },
  {
   "cell_type": "code",
   "execution_count": 14,
   "metadata": {},
   "outputs": [
    {
     "data": {
      "text/plain": [
       "Timestamp('2010-12-01 08:26:00')"
      ]
     },
     "execution_count": 14,
     "metadata": {},
     "output_type": "execute_result"
    }
   ],
   "source": [
    "# Earliest transaction date\n",
    "min_date = retail_df['InvoiceDate'].min()\n",
    "min_date"
   ]
  },
  {
   "cell_type": "code",
   "execution_count": 15,
   "metadata": {},
   "outputs": [
    {
     "data": {
      "text/plain": [
       "Timestamp('2011-12-09 12:50:00')"
      ]
     },
     "execution_count": 15,
     "metadata": {},
     "output_type": "execute_result"
    }
   ],
   "source": [
    "# latest transaction date\n",
    "max_date = retail_df['InvoiceDate'].max()\n",
    "max_date"
   ]
  },
  {
   "cell_type": "code",
   "execution_count": 16,
   "metadata": {},
   "outputs": [
    {
     "data": {
      "text/html": [
       "<div>\n",
       "<style scoped>\n",
       "    .dataframe tbody tr th:only-of-type {\n",
       "        vertical-align: middle;\n",
       "    }\n",
       "\n",
       "    .dataframe tbody tr th {\n",
       "        vertical-align: top;\n",
       "    }\n",
       "\n",
       "    .dataframe thead th {\n",
       "        text-align: right;\n",
       "    }\n",
       "</style>\n",
       "<table border=\"1\" class=\"dataframe\">\n",
       "  <thead>\n",
       "    <tr style=\"text-align: right;\">\n",
       "      <th></th>\n",
       "      <th>InvoiceNo</th>\n",
       "      <th>StockCode</th>\n",
       "      <th>Description</th>\n",
       "      <th>Quantity</th>\n",
       "      <th>InvoiceDate</th>\n",
       "      <th>UnitPrice</th>\n",
       "      <th>CustomerID</th>\n",
       "      <th>Country</th>\n",
       "      <th>amount</th>\n",
       "      <th>monetary_value</th>\n",
       "      <th>frequency</th>\n",
       "      <th>diff</th>\n",
       "    </tr>\n",
       "  </thead>\n",
       "  <tbody>\n",
       "    <tr>\n",
       "      <th>0</th>\n",
       "      <td>536365</td>\n",
       "      <td>85123A</td>\n",
       "      <td>WHITE HANGING HEART T-LIGHT HOLDER</td>\n",
       "      <td>6</td>\n",
       "      <td>2010-12-01 08:26:00</td>\n",
       "      <td>2.55</td>\n",
       "      <td>17850.0</td>\n",
       "      <td>United Kingdom</td>\n",
       "      <td>15.30</td>\n",
       "      <td>5391.21</td>\n",
       "      <td>297</td>\n",
       "      <td>373 days 04:24:00</td>\n",
       "    </tr>\n",
       "    <tr>\n",
       "      <th>1</th>\n",
       "      <td>536365</td>\n",
       "      <td>71053</td>\n",
       "      <td>WHITE METAL LANTERN</td>\n",
       "      <td>6</td>\n",
       "      <td>2010-12-01 08:26:00</td>\n",
       "      <td>3.39</td>\n",
       "      <td>17850.0</td>\n",
       "      <td>United Kingdom</td>\n",
       "      <td>20.34</td>\n",
       "      <td>5391.21</td>\n",
       "      <td>297</td>\n",
       "      <td>373 days 04:24:00</td>\n",
       "    </tr>\n",
       "  </tbody>\n",
       "</table>\n",
       "</div>"
      ],
      "text/plain": [
       "  InvoiceNo StockCode                         Description  Quantity  \\\n",
       "0    536365    85123A  WHITE HANGING HEART T-LIGHT HOLDER         6   \n",
       "1    536365     71053                 WHITE METAL LANTERN         6   \n",
       "\n",
       "          InvoiceDate  UnitPrice  CustomerID         Country  amount  \\\n",
       "0 2010-12-01 08:26:00       2.55     17850.0  United Kingdom   15.30   \n",
       "1 2010-12-01 08:26:00       3.39     17850.0  United Kingdom   20.34   \n",
       "\n",
       "   monetary_value  frequency              diff  \n",
       "0         5391.21        297 373 days 04:24:00  \n",
       "1         5391.21        297 373 days 04:24:00  "
      ]
     },
     "execution_count": 16,
     "metadata": {},
     "output_type": "execute_result"
    }
   ],
   "source": [
    "# difference between max date and transaction date\n",
    "retail_df['diff'] = max_date - retail_df['InvoiceDate']\n",
    "retail_df.head(2)"
   ]
  },
  {
   "cell_type": "code",
   "execution_count": 17,
   "metadata": {},
   "outputs": [
    {
     "data": {
      "text/html": [
       "<div>\n",
       "<style scoped>\n",
       "    .dataframe tbody tr th:only-of-type {\n",
       "        vertical-align: middle;\n",
       "    }\n",
       "\n",
       "    .dataframe tbody tr th {\n",
       "        vertical-align: top;\n",
       "    }\n",
       "\n",
       "    .dataframe thead th {\n",
       "        text-align: right;\n",
       "    }\n",
       "</style>\n",
       "<table border=\"1\" class=\"dataframe\">\n",
       "  <thead>\n",
       "    <tr style=\"text-align: right;\">\n",
       "      <th></th>\n",
       "      <th>InvoiceNo</th>\n",
       "      <th>StockCode</th>\n",
       "      <th>Description</th>\n",
       "      <th>Quantity</th>\n",
       "      <th>InvoiceDate</th>\n",
       "      <th>UnitPrice</th>\n",
       "      <th>CustomerID</th>\n",
       "      <th>Country</th>\n",
       "      <th>amount</th>\n",
       "      <th>monetary_value</th>\n",
       "      <th>frequency</th>\n",
       "      <th>diff</th>\n",
       "      <th>recency</th>\n",
       "    </tr>\n",
       "  </thead>\n",
       "  <tbody>\n",
       "    <tr>\n",
       "      <th>0</th>\n",
       "      <td>536365</td>\n",
       "      <td>85123A</td>\n",
       "      <td>WHITE HANGING HEART T-LIGHT HOLDER</td>\n",
       "      <td>6</td>\n",
       "      <td>2010-12-01 08:26:00</td>\n",
       "      <td>2.55</td>\n",
       "      <td>17850.0</td>\n",
       "      <td>United Kingdom</td>\n",
       "      <td>15.30</td>\n",
       "      <td>5391.21</td>\n",
       "      <td>297</td>\n",
       "      <td>373 days 04:24:00</td>\n",
       "      <td>371 days 21:23:00</td>\n",
       "    </tr>\n",
       "    <tr>\n",
       "      <th>1</th>\n",
       "      <td>536365</td>\n",
       "      <td>71053</td>\n",
       "      <td>WHITE METAL LANTERN</td>\n",
       "      <td>6</td>\n",
       "      <td>2010-12-01 08:26:00</td>\n",
       "      <td>3.39</td>\n",
       "      <td>17850.0</td>\n",
       "      <td>United Kingdom</td>\n",
       "      <td>20.34</td>\n",
       "      <td>5391.21</td>\n",
       "      <td>297</td>\n",
       "      <td>373 days 04:24:00</td>\n",
       "      <td>371 days 21:23:00</td>\n",
       "    </tr>\n",
       "  </tbody>\n",
       "</table>\n",
       "</div>"
      ],
      "text/plain": [
       "  InvoiceNo StockCode                         Description  Quantity  \\\n",
       "0    536365    85123A  WHITE HANGING HEART T-LIGHT HOLDER         6   \n",
       "1    536365     71053                 WHITE METAL LANTERN         6   \n",
       "\n",
       "          InvoiceDate  UnitPrice  CustomerID         Country  amount  \\\n",
       "0 2010-12-01 08:26:00       2.55     17850.0  United Kingdom   15.30   \n",
       "1 2010-12-01 08:26:00       3.39     17850.0  United Kingdom   20.34   \n",
       "\n",
       "   monetary_value  frequency              diff           recency  \n",
       "0         5391.21        297 373 days 04:24:00 371 days 21:23:00  \n",
       "1         5391.21        297 373 days 04:24:00 371 days 21:23:00  "
      ]
     },
     "execution_count": 17,
     "metadata": {},
     "output_type": "execute_result"
    }
   ],
   "source": [
    "retail_df['recency'] = retail_df.groupby('CustomerID')['diff'].transform('min')\n",
    "retail_df.head(2)"
   ]
  },
  {
   "cell_type": "code",
   "execution_count": 18,
   "metadata": {},
   "outputs": [
    {
     "data": {
      "text/html": [
       "<div>\n",
       "<style scoped>\n",
       "    .dataframe tbody tr th:only-of-type {\n",
       "        vertical-align: middle;\n",
       "    }\n",
       "\n",
       "    .dataframe tbody tr th {\n",
       "        vertical-align: top;\n",
       "    }\n",
       "\n",
       "    .dataframe thead th {\n",
       "        text-align: right;\n",
       "    }\n",
       "</style>\n",
       "<table border=\"1\" class=\"dataframe\">\n",
       "  <thead>\n",
       "    <tr style=\"text-align: right;\">\n",
       "      <th></th>\n",
       "      <th>CustomerID</th>\n",
       "      <th>recency</th>\n",
       "      <th>frequency</th>\n",
       "      <th>monetary_value</th>\n",
       "    </tr>\n",
       "  </thead>\n",
       "  <tbody>\n",
       "    <tr>\n",
       "      <th>0</th>\n",
       "      <td>12346.0</td>\n",
       "      <td>325 days 02:49:00</td>\n",
       "      <td>1.0</td>\n",
       "      <td>77183.60</td>\n",
       "    </tr>\n",
       "    <tr>\n",
       "      <th>1</th>\n",
       "      <td>12347.0</td>\n",
       "      <td>1 days 20:58:00</td>\n",
       "      <td>182.0</td>\n",
       "      <td>4310.00</td>\n",
       "    </tr>\n",
       "    <tr>\n",
       "      <th>2</th>\n",
       "      <td>12348.0</td>\n",
       "      <td>74 days 23:37:00</td>\n",
       "      <td>31.0</td>\n",
       "      <td>1797.24</td>\n",
       "    </tr>\n",
       "    <tr>\n",
       "      <th>3</th>\n",
       "      <td>12349.0</td>\n",
       "      <td>18 days 02:59:00</td>\n",
       "      <td>73.0</td>\n",
       "      <td>1757.55</td>\n",
       "    </tr>\n",
       "    <tr>\n",
       "      <th>4</th>\n",
       "      <td>12350.0</td>\n",
       "      <td>309 days 20:49:00</td>\n",
       "      <td>17.0</td>\n",
       "      <td>334.40</td>\n",
       "    </tr>\n",
       "    <tr>\n",
       "      <th>...</th>\n",
       "      <td>...</td>\n",
       "      <td>...</td>\n",
       "      <td>...</td>\n",
       "      <td>...</td>\n",
       "    </tr>\n",
       "    <tr>\n",
       "      <th>4333</th>\n",
       "      <td>18280.0</td>\n",
       "      <td>277 days 02:58:00</td>\n",
       "      <td>10.0</td>\n",
       "      <td>180.60</td>\n",
       "    </tr>\n",
       "    <tr>\n",
       "      <th>4334</th>\n",
       "      <td>18281.0</td>\n",
       "      <td>180 days 01:57:00</td>\n",
       "      <td>7.0</td>\n",
       "      <td>80.82</td>\n",
       "    </tr>\n",
       "    <tr>\n",
       "      <th>4335</th>\n",
       "      <td>18282.0</td>\n",
       "      <td>7 days 01:07:00</td>\n",
       "      <td>12.0</td>\n",
       "      <td>178.05</td>\n",
       "    </tr>\n",
       "    <tr>\n",
       "      <th>4336</th>\n",
       "      <td>18283.0</td>\n",
       "      <td>3 days 00:48:00</td>\n",
       "      <td>756.0</td>\n",
       "      <td>2094.88</td>\n",
       "    </tr>\n",
       "    <tr>\n",
       "      <th>4337</th>\n",
       "      <td>18287.0</td>\n",
       "      <td>42 days 03:21:00</td>\n",
       "      <td>70.0</td>\n",
       "      <td>1837.28</td>\n",
       "    </tr>\n",
       "  </tbody>\n",
       "</table>\n",
       "<p>4338 rows × 4 columns</p>\n",
       "</div>"
      ],
      "text/plain": [
       "      CustomerID           recency  frequency  monetary_value\n",
       "0        12346.0 325 days 02:49:00        1.0        77183.60\n",
       "1        12347.0   1 days 20:58:00      182.0         4310.00\n",
       "2        12348.0  74 days 23:37:00       31.0         1797.24\n",
       "3        12349.0  18 days 02:59:00       73.0         1757.55\n",
       "4        12350.0 309 days 20:49:00       17.0          334.40\n",
       "...          ...               ...        ...             ...\n",
       "4333     18280.0 277 days 02:58:00       10.0          180.60\n",
       "4334     18281.0 180 days 01:57:00        7.0           80.82\n",
       "4335     18282.0   7 days 01:07:00       12.0          178.05\n",
       "4336     18283.0   3 days 00:48:00      756.0         2094.88\n",
       "4337     18287.0  42 days 03:21:00       70.0         1837.28\n",
       "\n",
       "[4338 rows x 4 columns]"
      ]
     },
     "execution_count": 18,
     "metadata": {},
     "output_type": "execute_result"
    }
   ],
   "source": [
    "grouped_df = retail_df.groupby('CustomerID')[rfm].mean().reset_index()\n",
    "grouped_df"
   ]
  },
  {
   "cell_type": "code",
   "execution_count": 19,
   "metadata": {},
   "outputs": [],
   "source": [
    "# retail_df.drop(columns=rfm, inplace=True)\n",
    "# retail_df.head(3)"
   ]
  },
  {
   "cell_type": "code",
   "execution_count": 20,
   "metadata": {},
   "outputs": [
    {
     "data": {
      "text/html": [
       "<div>\n",
       "<style scoped>\n",
       "    .dataframe tbody tr th:only-of-type {\n",
       "        vertical-align: middle;\n",
       "    }\n",
       "\n",
       "    .dataframe tbody tr th {\n",
       "        vertical-align: top;\n",
       "    }\n",
       "\n",
       "    .dataframe thead th {\n",
       "        text-align: right;\n",
       "    }\n",
       "</style>\n",
       "<table border=\"1\" class=\"dataframe\">\n",
       "  <thead>\n",
       "    <tr style=\"text-align: right;\">\n",
       "      <th></th>\n",
       "      <th>CustomerID</th>\n",
       "      <th>recency</th>\n",
       "      <th>frequency</th>\n",
       "      <th>monetary_value</th>\n",
       "    </tr>\n",
       "  </thead>\n",
       "  <tbody>\n",
       "    <tr>\n",
       "      <th>0</th>\n",
       "      <td>12346.0</td>\n",
       "      <td>325</td>\n",
       "      <td>1.0</td>\n",
       "      <td>77183.6</td>\n",
       "    </tr>\n",
       "    <tr>\n",
       "      <th>1</th>\n",
       "      <td>12347.0</td>\n",
       "      <td>1</td>\n",
       "      <td>182.0</td>\n",
       "      <td>4310.0</td>\n",
       "    </tr>\n",
       "  </tbody>\n",
       "</table>\n",
       "</div>"
      ],
      "text/plain": [
       "   CustomerID  recency  frequency  monetary_value\n",
       "0     12346.0      325        1.0         77183.6\n",
       "1     12347.0        1      182.0          4310.0"
      ]
     },
     "execution_count": 20,
     "metadata": {},
     "output_type": "execute_result"
    }
   ],
   "source": [
    "grouped_df['recency'] = grouped_df['recency'].dt.days\n",
    "grouped_df.head(2)"
   ]
  },
  {
   "cell_type": "markdown",
   "metadata": {},
   "source": [
    "### 4.3 PreProcessing before Model Building\n",
    "- Outlier Treatment\n",
    "- Rescaling"
   ]
  },
  {
   "cell_type": "markdown",
   "metadata": {},
   "source": [
    "### Outlier Check & Treatment"
   ]
  },
  {
   "cell_type": "code",
   "execution_count": 21,
   "metadata": {},
   "outputs": [
    {
     "data": {
      "image/png": "[encoded data removed]",
      "text/plain": [
       "<Figure size 640x480 with 1 Axes>"
      ]
     },
     "metadata": {},
     "output_type": "display_data"
    }
   ],
   "source": [
    "# monetary_value outliers\n",
    "sns.boxplot(grouped_df['monetary_value'])\n",
    "plt.show()"
   ]
  },
  {
   "cell_type": "code",
   "execution_count": 22,
   "metadata": {},
   "outputs": [
    {
     "data": {
      "image/png": "[encoded data removed]",
      "text/plain": [
       "<Figure size 640x480 with 1 Axes>"
      ]
     },
     "metadata": {},
     "output_type": "display_data"
    }
   ],
   "source": [
    "# recency outliers\n",
    "sns.boxplot(grouped_df['recency'])\n",
    "plt.show()"
   ]
  },
  {
   "cell_type": "code",
   "execution_count": 23,
   "metadata": {},
   "outputs": [
    {
     "data": {
      "image/png": "[encoded data removed]",
      "text/plain": [
       "<Figure size 640x480 with 1 Axes>"
      ]
     },
     "metadata": {},
     "output_type": "display_data"
    }
   ],
   "source": [
    "# frequency outliers\n",
    "sns.boxplot(grouped_df['frequency'])\n",
    "plt.show()"
   ]
  },
  {
   "cell_type": "code",
   "execution_count": 24,
   "metadata": {},
   "outputs": [],
   "source": [
    "def udf_outlier_removal(df, column, iqr_multiplier=1.5):\n",
    "    \"\"\"\n",
    "    Removes outliers from a column using the standard IQR method.\n",
    "    \n",
    "    df: pandas.DataFrame, input DataFrame.\n",
    "    column: str, the column to remove outliers from.\n",
    "    iqr_multiplier: float, optional, default 1.5, multiplier for IQR.\n",
    "    \n",
    "    Returns: pandas.DataFrame with outliers removed.\n",
    "    \"\"\"\n",
    "    print(f\"Processing column: {column}\")\n",
    "    Q1 = df[column].quantile(0.25)\n",
    "    Q3 = df[column].quantile(0.75)\n",
    "    \n",
    "    IQR = Q3 - Q1\n",
    "    \n",
    "    lower_bound = Q1 - iqr_multiplier * IQR\n",
    "    upper_bound = Q3 + iqr_multiplier * IQR\n",
    "    \n",
    "    # Count outliers before removing\n",
    "    outliers_count = df[(df[column] < lower_bound) | (df[column] > upper_bound)].shape[0]\n",
    "    print(f\"Identified {outliers_count} outliers to remove.\")\n",
    "    \n",
    "    # Filter out rows with values outside the bounds\n",
    "    df_cleaned = df[(df[column] >= lower_bound) & (df[column] <= upper_bound)]\n",
    "    \n",
    "    return df_cleaned\n",
    "\n",
    "def check_outlier_removal(original_df: pd.DataFrame, cleaned_df: pd.DataFrame, column: str):\n",
    "    \"\"\"\n",
    "    Compares and visualizes a column's distribution before and after outlier removal.\n",
    "    \"\"\"\n",
    "    print(\"--- Descriptive Statistics ---\")\n",
    "    print(f\"\\nBefore outlier removal for '{column}':\")\n",
    "    print(original_df[column].describe())\n",
    "    \n",
    "    print(f\"\\nAfter outlier removal for '{column}':\")\n",
    "    print(cleaned_df[column].describe())\n",
    "    \n",
    "    print(\"\\n--- Visual Comparison (Box Plots) ---\")\n",
    "    \n",
    "    plt.figure(figsize=(12, 6))\n",
    "    plt.subplot(1, 2, 1)\n",
    "    sns.boxplot(y=original_df[column])\n",
    "    plt.title(f\"Before Outlier Removal\\n(Column: '{column}')\")\n",
    "    plt.ylabel(\"Value\")\n",
    "    \n",
    "    plt.subplot(1, 2, 2)\n",
    "    sns.boxplot(y=cleaned_df[column])\n",
    "    plt.title(f\"After Outlier Removal\\n(Column: '{column}')\")\n",
    "    plt.ylabel(\"Value\")\n",
    "    \n",
    "    plt.suptitle(f\"Outlier Analysis for '{column}'\", fontsize=16, y=1.02)\n",
    "    plt.tight_layout()\n",
    "    plt.show()\n"
   ]
  },
  {
   "cell_type": "code",
   "execution_count": 25,
   "metadata": {},
   "outputs": [
    {
     "name": "stdout",
     "output_type": "stream",
     "text": [
      "Saved the original dataframe for comparison.\n",
      "Shape of original dataframe: (4338, 4)\n",
      "Processing column: monetary_value\n",
      "Identified 427 outliers to remove.\n",
      "Processing column: recency\n",
      "Identified 81 outliers to remove.\n",
      "Processing column: frequency\n",
      "Identified 244 outliers to remove.\n",
      "Applied outlier removal.\n",
      "Shape of cleaned dataframe: (3586, 4)\n",
      "\n",
      "\n",
      "--- Verifying Outlier Removal for 'monetary_value' ---\n",
      "--- Descriptive Statistics ---\n",
      "\n",
      "Before outlier removal for 'monetary_value':\n",
      "count      4338.000000\n",
      "mean       2054.266460\n",
      "std        8989.230441\n",
      "min           3.750000\n",
      "25%         307.415000\n",
      "50%         674.485000\n",
      "75%        1661.740000\n",
      "max      280206.020000\n",
      "Name: monetary_value, dtype: float64\n",
      "\n",
      "After outlier removal for 'monetary_value':\n",
      "count    3586.000000\n",
      "mean      815.559864\n",
      "std       759.195115\n",
      "min         3.750000\n",
      "25%       272.107500\n",
      "50%       547.040000\n",
      "75%      1101.702500\n",
      "max      3683.860000\n",
      "Name: monetary_value, dtype: float64\n",
      "\n",
      "--- Visual Comparison (Box Plots) ---\n"
     ]
    },
    {
     "data": {
      "image/png": "[encoded data removed]",
      "text/plain": [
       "<Figure size 1200x600 with 2 Axes>"
      ]
     },
     "metadata": {},
     "output_type": "display_data"
    },
    {
     "name": "stdout",
     "output_type": "stream",
     "text": [
      "\n",
      "\n",
      "--- Verifying Outlier Removal for 'recency' ---\n",
      "--- Descriptive Statistics ---\n",
      "\n",
      "Before outlier removal for 'recency':\n",
      "count    4338.000000\n",
      "mean       91.536422\n",
      "std       100.014169\n",
      "min         0.000000\n",
      "25%        17.000000\n",
      "50%        50.000000\n",
      "75%       141.000000\n",
      "max       373.000000\n",
      "Name: recency, dtype: float64\n",
      "\n",
      "After outlier removal for 'recency':\n",
      "count    3586.000000\n",
      "mean       97.591188\n",
      "std        95.845486\n",
      "min         0.000000\n",
      "25%        22.000000\n",
      "50%        59.000000\n",
      "75%       156.750000\n",
      "max       361.000000\n",
      "Name: recency, dtype: float64\n",
      "\n",
      "--- Visual Comparison (Box Plots) ---\n"
     ]
    },
    {
     "data": {
      "image/png": "[encoded data removed]",
      "text/plain": [
       "<Figure size 1200x600 with 2 Axes>"
      ]
     },
     "metadata": {},
     "output_type": "display_data"
    },
    {
     "name": "stdout",
     "output_type": "stream",
     "text": [
      "\n",
      "\n",
      "--- Verifying Outlier Removal for 'frequency' ---\n",
      "--- Descriptive Statistics ---\n",
      "\n",
      "Before outlier removal for 'frequency':\n",
      "count    4338.000000\n",
      "mean       91.720609\n",
      "std       228.785094\n",
      "min         1.000000\n",
      "25%        17.000000\n",
      "50%        41.000000\n",
      "75%       100.000000\n",
      "max      7847.000000\n",
      "Name: frequency, dtype: float64\n",
      "\n",
      "After outlier removal for 'frequency':\n",
      "count    3586.000000\n",
      "mean       46.916062\n",
      "std        41.398009\n",
      "min         1.000000\n",
      "25%        15.000000\n",
      "50%        32.000000\n",
      "75%        69.000000\n",
      "max       178.000000\n",
      "Name: frequency, dtype: float64\n",
      "\n",
      "--- Visual Comparison (Box Plots) ---\n"
     ]
    },
    {
     "data": {
      "image/png": "[encoded data removed]",
      "text/plain": [
       "<Figure size 1200x600 with 2 Axes>"
      ]
     },
     "metadata": {},
     "output_type": "display_data"
    }
   ],
   "source": [
    "# 1. Create a copy of the dataframe BEFORE removing outliers. This is our \"before\" snapshot.\n",
    "grouped_df_original = grouped_df.copy()\n",
    "print(\"Saved the original dataframe for comparison.\")\n",
    "print(\"Shape of original dataframe:\", grouped_df_original.shape)\n",
    "\n",
    "# 2. Apply your outlier removal functions just as you did before.\n",
    "# This modifies the 'grouped_df' dataframe. This is our \"after\" snapshot.\n",
    "grouped_df = udf_outlier_removal(grouped_df, 'monetary_value')\n",
    "grouped_df = udf_outlier_removal(grouped_df, 'recency')\n",
    "grouped_df = udf_outlier_removal(grouped_df, 'frequency')\n",
    "print(\"Applied outlier removal.\")\n",
    "print(\"Shape of cleaned dataframe:\", grouped_df.shape)\n",
    "\n",
    "\n",
    "# 3. NOW, CALL THE CHECKING FUNCTION to see the results.\n",
    "# We compare the \"before\" (grouped_df_original) with the \"after\" (grouped_df).\n",
    "\n",
    "print(\"\\n\\n--- Verifying Outlier Removal for 'monetary_value' ---\")\n",
    "check_outlier_removal(original_df=grouped_df_original, cleaned_df=grouped_df, column='monetary_value')\n",
    "\n",
    "print(\"\\n\\n--- Verifying Outlier Removal for 'recency' ---\")\n",
    "check_outlier_removal(original_df=grouped_df_original, cleaned_df=grouped_df, column='recency')\n",
    "\n",
    "print(\"\\n\\n--- Verifying Outlier Removal for 'frequency' ---\")\n",
    "check_outlier_removal(original_df=grouped_df_original, cleaned_df=grouped_df, column='frequency')\n",
    "\n"
   ]
  },
  {
   "cell_type": "code",
   "execution_count": 26,
   "metadata": {},
   "outputs": [
    {
     "data": {
      "text/plain": [
       "(3586, 3)"
      ]
     },
     "execution_count": 26,
     "metadata": {},
     "output_type": "execute_result"
    }
   ],
   "source": [
    "rfm_df = grouped_df[['monetary_value', 'frequency', 'recency']]\n",
    "rfm_df.shape"
   ]
  },
  {
   "cell_type": "markdown",
   "metadata": {},
   "source": [
    "### Scaling"
   ]
  },
  {
   "cell_type": "code",
   "execution_count": 27,
   "metadata": {},
   "outputs": [],
   "source": [
    "from sklearn.preprocessing import StandardScaler"
   ]
  },
  {
   "cell_type": "code",
   "execution_count": 28,
   "metadata": {},
   "outputs": [
    {
     "data": {
      "text/plain": [
       "(3586, 3)"
      ]
     },
     "execution_count": 28,
     "metadata": {},
     "output_type": "execute_result"
    }
   ],
   "source": [
    "# instantiate\n",
    "scaler = StandardScaler()\n",
    "\n",
    "# fit and transform\n",
    "rfm_scaled = scaler.fit_transform(rfm_df)\n",
    "rfm_scaled.shape"
   ]
  },
  {
   "cell_type": "code",
   "execution_count": 29,
   "metadata": {},
   "outputs": [
    {
     "data": {
      "text/html": [
       "<div>\n",
       "<style scoped>\n",
       "    .dataframe tbody tr th:only-of-type {\n",
       "        vertical-align: middle;\n",
       "    }\n",
       "\n",
       "    .dataframe tbody tr th {\n",
       "        vertical-align: top;\n",
       "    }\n",
       "\n",
       "    .dataframe thead th {\n",
       "        text-align: right;\n",
       "    }\n",
       "</style>\n",
       "<table border=\"1\" class=\"dataframe\">\n",
       "  <thead>\n",
       "    <tr style=\"text-align: right;\">\n",
       "      <th></th>\n",
       "      <th>monetary_value</th>\n",
       "      <th>frequency</th>\n",
       "      <th>recency</th>\n",
       "    </tr>\n",
       "  </thead>\n",
       "  <tbody>\n",
       "    <tr>\n",
       "      <th>0</th>\n",
       "      <td>1.293234</td>\n",
       "      <td>-0.384518</td>\n",
       "      <td>-0.246172</td>\n",
       "    </tr>\n",
       "    <tr>\n",
       "      <th>1</th>\n",
       "      <td>1.240948</td>\n",
       "      <td>0.630165</td>\n",
       "      <td>-0.830527</td>\n",
       "    </tr>\n",
       "    <tr>\n",
       "      <th>2</th>\n",
       "      <td>-0.633865</td>\n",
       "      <td>-0.722746</td>\n",
       "      <td>2.206033</td>\n",
       "    </tr>\n",
       "    <tr>\n",
       "      <th>3</th>\n",
       "      <td>2.226985</td>\n",
       "      <td>0.920074</td>\n",
       "      <td>-0.653134</td>\n",
       "    </tr>\n",
       "    <tr>\n",
       "      <th>4</th>\n",
       "      <td>-0.957147</td>\n",
       "      <td>-1.036814</td>\n",
       "      <td>1.099932</td>\n",
       "    </tr>\n",
       "  </tbody>\n",
       "</table>\n",
       "</div>"
      ],
      "text/plain": [
       "   monetary_value  frequency   recency\n",
       "0        1.293234  -0.384518 -0.246172\n",
       "1        1.240948   0.630165 -0.830527\n",
       "2       -0.633865  -0.722746  2.206033\n",
       "3        2.226985   0.920074 -0.653134\n",
       "4       -0.957147  -1.036814  1.099932"
      ]
     },
     "execution_count": 29,
     "metadata": {},
     "output_type": "execute_result"
    }
   ],
   "source": [
    "# convert to df\n",
    "rfm_scaled = pd.DataFrame(rfm_scaled)\n",
    "rfm_scaled.columns = ['monetary_value', 'frequency', 'recency']\n",
    "rfm_scaled.head()"
   ]
  },
  {
   "cell_type": "markdown",
   "metadata": {},
   "source": [
    "# 5. Modelling"
   ]
  },
  {
   "cell_type": "code",
   "execution_count": 30,
   "metadata": {},
   "outputs": [],
   "source": [
    "from sklearn.cluster import KMeans"
   ]
  },
  {
   "cell_type": "code",
   "execution_count": 31,
   "metadata": {},
   "outputs": [
    {
     "data": {
      "text/html": [
       "<style>#sk-container-id-1 {\n",
       "  /* Definition of color scheme common for light and dark mode */\n",
       "  --sklearn-color-text: #000;\n",
       "  --sklearn-color-text-muted: #666;\n",
       "  --sklearn-color-line: gray;\n",
       "  /* Definition of color scheme for unfitted estimators */\n",
       "  --sklearn-color-unfitted-level-0: #fff5e6;\n",
       "  --sklearn-color-unfitted-level-1: #f6e4d2;\n",
       "  --sklearn-color-unfitted-level-2: #ffe0b3;\n",
       "  --sklearn-color-unfitted-level-3: chocolate;\n",
       "  /* Definition of color scheme for fitted estimators */\n",
       "  --sklearn-color-fitted-level-0: #f0f8ff;\n",
       "  --sklearn-color-fitted-level-1: #d4ebff;\n",
       "  --sklearn-color-fitted-level-2: #b3dbfd;\n",
       "  --sklearn-color-fitted-level-3: cornflowerblue;\n",
       "\n",
       "  /* Specific color for light theme */\n",
       "  --sklearn-color-text-on-default-background: var(--sg-text-color, var(--theme-code-foreground, var(--jp-content-font-color1, black)));\n",
       "  --sklearn-color-background: var(--sg-background-color, var(--theme-background, var(--jp-layout-color0, white)));\n",
       "  --sklearn-color-border-box: var(--sg-text-color, var(--theme-code-foreground, var(--jp-content-font-color1, black)));\n",
       "  --sklearn-color-icon: #696969;\n",
       "\n",
       "  @media (prefers-color-scheme: dark) {\n",
       "    /* Redefinition of color scheme for dark theme */\n",
       "    --sklearn-color-text-on-default-background: var(--sg-text-color, var(--theme-code-foreground, var(--jp-content-font-color1, white)));\n",
       "    --sklearn-color-background: var(--sg-background-color, var(--theme-background, var(--jp-layout-color0, #111)));\n",
       "    --sklearn-color-border-box: var(--sg-text-color, var(--theme-code-foreground, var(--jp-content-font-color1, white)));\n",
       "    --sklearn-color-icon: #878787;\n",
       "  }\n",
       "}\n",
       "\n",
       "#sk-container-id-1 {\n",
       "  color: var(--sklearn-color-text);\n",
       "}\n",
       "\n",
       "#sk-container-id-1 pre {\n",
       "  padding: 0;\n",
       "}\n",
       "\n",
       "#sk-container-id-1 input.sk-hidden--visually {\n",
       "  border: 0;\n",
       "  clip: rect(1px 1px 1px 1px);\n",
       "  clip: rect(1px, 1px, 1px, 1px);\n",
       "  height: 1px;\n",
       "  margin: -1px;\n",
       "  overflow: hidden;\n",
       "  padding: 0;\n",
       "  position: absolute;\n",
       "  width: 1px;\n",
       "}\n",
       "\n",
       "#sk-container-id-1 div.sk-dashed-wrapped {\n",
       "  border: 1px dashed var(--sklearn-color-line);\n",
       "  margin: 0 0.4em 0.5em 0.4em;\n",
       "  box-sizing: border-box;\n",
       "  padding-bottom: 0.4em;\n",
       "  background-color: var(--sklearn-color-background);\n",
       "}\n",
       "\n",
       "#sk-container-id-1 div.sk-container {\n",
       "  /* jupyter's `normalize.less` sets `[hidden] { display: none; }`\n",
       "     but bootstrap.min.css set `[hidden] { display: none !important; }`\n",
       "     so we also need the `!important` here to be able to override the\n",
       "     default hidden behavior on the sphinx rendered scikit-learn.org.\n",
       "     See: https://github.com/scikit-learn/scikit-learn/issues/21755 */\n",
       "  display: inline-block !important;\n",
       "  position: relative;\n",
       "}\n",
       "\n",
       "#sk-container-id-1 div.sk-text-repr-fallback {\n",
       "  display: none;\n",
       "}\n",
       "\n",
       "div.sk-parallel-item,\n",
       "div.sk-serial,\n",
       "div.sk-item {\n",
       "  /* draw centered vertical line to link estimators */\n",
       "  background-image: linear-gradient(var(--sklearn-color-text-on-default-background), var(--sklearn-color-text-on-default-background));\n",
       "  background-size: 2px 100%;\n",
       "  background-repeat: no-repeat;\n",
       "  background-position: center center;\n",
       "}\n",
       "\n",
       "/* Parallel-specific style estimator block */\n",
       "\n",
       "#sk-container-id-1 div.sk-parallel-item::after {\n",
       "  content: \"\";\n",
       "  width: 100%;\n",
       "  border-bottom: 2px solid var(--sklearn-color-text-on-default-background);\n",
       "  flex-grow: 1;\n",
       "}\n",
       "\n",
       "#sk-container-id-1 div.sk-parallel {\n",
       "  display: flex;\n",
       "  align-items: stretch;\n",
       "  justify-content: center;\n",
       "  background-color: var(--sklearn-color-background);\n",
       "  position: relative;\n",
       "}\n",
       "\n",
       "#sk-container-id-1 div.sk-parallel-item {\n",
       "  display: flex;\n",
       "  flex-direction: column;\n",
       "}\n",
       "\n",
       "#sk-container-id-1 div.sk-parallel-item:first-child::after {\n",
       "  align-self: flex-end;\n",
       "  width: 50%;\n",
       "}\n",
       "\n",
       "#sk-container-id-1 div.sk-parallel-item:last-child::after {\n",
       "  align-self: flex-start;\n",
       "  width: 50%;\n",
       "}\n",
       "\n",
       "#sk-container-id-1 div.sk-parallel-item:only-child::after {\n",
       "  width: 0;\n",
       "}\n",
       "\n",
       "/* Serial-specific style estimator block */\n",
       "\n",
       "#sk-container-id-1 div.sk-serial {\n",
       "  display: flex;\n",
       "  flex-direction: column;\n",
       "  align-items: center;\n",
       "  background-color: var(--sklearn-color-background);\n",
       "  padding-right: 1em;\n",
       "  padding-left: 1em;\n",
       "}\n",
       "\n",
       "\n",
       "/* Toggleable style: style used for estimator/Pipeline/ColumnTransformer box that is\n",
       "clickable and can be expanded/collapsed.\n",
       "- Pipeline and ColumnTransformer use this feature and define the default style\n",
       "- Estimators will overwrite some part of the style using the `sk-estimator` class\n",
       "*/\n",
       "\n",
       "/* Pipeline and ColumnTransformer style (default) */\n",
       "\n",
       "#sk-container-id-1 div.sk-toggleable {\n",
       "  /* Default theme specific background. It is overwritten whether we have a\n",
       "  specific estimator or a Pipeline/ColumnTransformer */\n",
       "  background-color: var(--sklearn-color-background);\n",
       "}\n",
       "\n",
       "/* Toggleable label */\n",
       "#sk-container-id-1 label.sk-toggleable__label {\n",
       "  cursor: pointer;\n",
       "  display: flex;\n",
       "  width: 100%;\n",
       "  margin-bottom: 0;\n",
       "  padding: 0.5em;\n",
       "  box-sizing: border-box;\n",
       "  text-align: center;\n",
       "  align-items: start;\n",
       "  justify-content: space-between;\n",
       "  gap: 0.5em;\n",
       "}\n",
       "\n",
       "#sk-container-id-1 label.sk-toggleable__label .caption {\n",
       "  font-size: 0.6rem;\n",
       "  font-weight: lighter;\n",
       "  color: var(--sklearn-color-text-muted);\n",
       "}\n",
       "\n",
       "#sk-container-id-1 label.sk-toggleable__label-arrow:before {\n",
       "  /* Arrow on the left of the label */\n",
       "  content: \"▸\";\n",
       "  float: left;\n",
       "  margin-right: 0.25em;\n",
       "  color: var(--sklearn-color-icon);\n",
       "}\n",
       "\n",
       "#sk-container-id-1 label.sk-toggleable__label-arrow:hover:before {\n",
       "  color: var(--sklearn-color-text);\n",
       "}\n",
       "\n",
       "/* Toggleable content - dropdown */\n",
       "\n",
       "#sk-container-id-1 div.sk-toggleable__content {\n",
       "  max-height: 0;\n",
       "  max-width: 0;\n",
       "  overflow: hidden;\n",
       "  text-align: left;\n",
       "  /* unfitted */\n",
       "  background-color: var(--sklearn-color-unfitted-level-0);\n",
       "}\n",
       "\n",
       "#sk-container-id-1 div.sk-toggleable__content.fitted {\n",
       "  /* fitted */\n",
       "  background-color: var(--sklearn-color-fitted-level-0);\n",
       "}\n",
       "\n",
       "#sk-container-id-1 div.sk-toggleable__content pre {\n",
       "  margin: 0.2em;\n",
       "  border-radius: 0.25em;\n",
       "  color: var(--sklearn-color-text);\n",
       "  /* unfitted */\n",
       "  background-color: var(--sklearn-color-unfitted-level-0);\n",
       "}\n",
       "\n",
       "#sk-container-id-1 div.sk-toggleable__content.fitted pre {\n",
       "  /* unfitted */\n",
       "  background-color: var(--sklearn-color-fitted-level-0);\n",
       "}\n",
       "\n",
       "#sk-container-id-1 input.sk-toggleable__control:checked~div.sk-toggleable__content {\n",
       "  /* Expand drop-down */\n",
       "  max-height: 200px;\n",
       "  max-width: 100%;\n",
       "  overflow: auto;\n",
       "}\n",
       "\n",
       "#sk-container-id-1 input.sk-toggleable__control:checked~label.sk-toggleable__label-arrow:before {\n",
       "  content: \"▾\";\n",
       "}\n",
       "\n",
       "/* Pipeline/ColumnTransformer-specific style */\n",
       "\n",
       "#sk-container-id-1 div.sk-label input.sk-toggleable__control:checked~label.sk-toggleable__label {\n",
       "  color: var(--sklearn-color-text);\n",
       "  background-color: var(--sklearn-color-unfitted-level-2);\n",
       "}\n",
       "\n",
       "#sk-container-id-1 div.sk-label.fitted input.sk-toggleable__control:checked~label.sk-toggleable__label {\n",
       "  background-color: var(--sklearn-color-fitted-level-2);\n",
       "}\n",
       "\n",
       "/* Estimator-specific style */\n",
       "\n",
       "/* Colorize estimator box */\n",
       "#sk-container-id-1 div.sk-estimator input.sk-toggleable__control:checked~label.sk-toggleable__label {\n",
       "  /* unfitted */\n",
       "  background-color: var(--sklearn-color-unfitted-level-2);\n",
       "}\n",
       "\n",
       "#sk-container-id-1 div.sk-estimator.fitted input.sk-toggleable__control:checked~label.sk-toggleable__label {\n",
       "  /* fitted */\n",
       "  background-color: var(--sklearn-color-fitted-level-2);\n",
       "}\n",
       "\n",
       "#sk-container-id-1 div.sk-label label.sk-toggleable__label,\n",
       "#sk-container-id-1 div.sk-label label {\n",
       "  /* The background is the default theme color */\n",
       "  color: var(--sklearn-color-text-on-default-background);\n",
       "}\n",
       "\n",
       "/* On hover, darken the color of the background */\n",
       "#sk-container-id-1 div.sk-label:hover label.sk-toggleable__label {\n",
       "  color: var(--sklearn-color-text);\n",
       "  background-color: var(--sklearn-color-unfitted-level-2);\n",
       "}\n",
       "\n",
       "/* Label box, darken color on hover, fitted */\n",
       "#sk-container-id-1 div.sk-label.fitted:hover label.sk-toggleable__label.fitted {\n",
       "  color: var(--sklearn-color-text);\n",
       "  background-color: var(--sklearn-color-fitted-level-2);\n",
       "}\n",
       "\n",
       "/* Estimator label */\n",
       "\n",
       "#sk-container-id-1 div.sk-label label {\n",
       "  font-family: monospace;\n",
       "  font-weight: bold;\n",
       "  display: inline-block;\n",
       "  line-height: 1.2em;\n",
       "}\n",
       "\n",
       "#sk-container-id-1 div.sk-label-container {\n",
       "  text-align: center;\n",
       "}\n",
       "\n",
       "/* Estimator-specific */\n",
       "#sk-container-id-1 div.sk-estimator {\n",
       "  font-family: monospace;\n",
       "  border: 1px dotted var(--sklearn-color-border-box);\n",
       "  border-radius: 0.25em;\n",
       "  box-sizing: border-box;\n",
       "  margin-bottom: 0.5em;\n",
       "  /* unfitted */\n",
       "  background-color: var(--sklearn-color-unfitted-level-0);\n",
       "}\n",
       "\n",
       "#sk-container-id-1 div.sk-estimator.fitted {\n",
       "  /* fitted */\n",
       "  background-color: var(--sklearn-color-fitted-level-0);\n",
       "}\n",
       "\n",
       "/* on hover */\n",
       "#sk-container-id-1 div.sk-estimator:hover {\n",
       "  /* unfitted */\n",
       "  background-color: var(--sklearn-color-unfitted-level-2);\n",
       "}\n",
       "\n",
       "#sk-container-id-1 div.sk-estimator.fitted:hover {\n",
       "  /* fitted */\n",
       "  background-color: var(--sklearn-color-fitted-level-2);\n",
       "}\n",
       "\n",
       "/* Specification for estimator info (e.g. \"i\" and \"?\") */\n",
       "\n",
       "/* Common style for \"i\" and \"?\" */\n",
       "\n",
       ".sk-estimator-doc-link,\n",
       "a:link.sk-estimator-doc-link,\n",
       "a:visited.sk-estimator-doc-link {\n",
       "  float: right;\n",
       "  font-size: smaller;\n",
       "  line-height: 1em;\n",
       "  font-family: monospace;\n",
       "  background-color: var(--sklearn-color-background);\n",
       "  border-radius: 1em;\n",
       "  height: 1em;\n",
       "  width: 1em;\n",
       "  text-decoration: none !important;\n",
       "  margin-left: 0.5em;\n",
       "  text-align: center;\n",
       "  /* unfitted */\n",
       "  border: var(--sklearn-color-unfitted-level-1) 1pt solid;\n",
       "  color: var(--sklearn-color-unfitted-level-1);\n",
       "}\n",
       "\n",
       ".sk-estimator-doc-link.fitted,\n",
       "a:link.sk-estimator-doc-link.fitted,\n",
       "a:visited.sk-estimator-doc-link.fitted {\n",
       "  /* fitted */\n",
       "  border: var(--sklearn-color-fitted-level-1) 1pt solid;\n",
       "  color: var(--sklearn-color-fitted-level-1);\n",
       "}\n",
       "\n",
       "/* On hover */\n",
       "div.sk-estimator:hover .sk-estimator-doc-link:hover,\n",
       ".sk-estimator-doc-link:hover,\n",
       "div.sk-label-container:hover .sk-estimator-doc-link:hover,\n",
       ".sk-estimator-doc-link:hover {\n",
       "  /* unfitted */\n",
       "  background-color: var(--sklearn-color-unfitted-level-3);\n",
       "  color: var(--sklearn-color-background);\n",
       "  text-decoration: none;\n",
       "}\n",
       "\n",
       "div.sk-estimator.fitted:hover .sk-estimator-doc-link.fitted:hover,\n",
       ".sk-estimator-doc-link.fitted:hover,\n",
       "div.sk-label-container:hover .sk-estimator-doc-link.fitted:hover,\n",
       ".sk-estimator-doc-link.fitted:hover {\n",
       "  /* fitted */\n",
       "  background-color: var(--sklearn-color-fitted-level-3);\n",
       "  color: var(--sklearn-color-background);\n",
       "  text-decoration: none;\n",
       "}\n",
       "\n",
       "/* Span, style for the box shown on hovering the info icon */\n",
       ".sk-estimator-doc-link span {\n",
       "  display: none;\n",
       "  z-index: 9999;\n",
       "  position: relative;\n",
       "  font-weight: normal;\n",
       "  right: .2ex;\n",
       "  padding: .5ex;\n",
       "  margin: .5ex;\n",
       "  width: min-content;\n",
       "  min-width: 20ex;\n",
       "  max-width: 50ex;\n",
       "  color: var(--sklearn-color-text);\n",
       "  box-shadow: 2pt 2pt 4pt #999;\n",
       "  /* unfitted */\n",
       "  background: var(--sklearn-color-unfitted-level-0);\n",
       "  border: .5pt solid var(--sklearn-color-unfitted-level-3);\n",
       "}\n",
       "\n",
       ".sk-estimator-doc-link.fitted span {\n",
       "  /* fitted */\n",
       "  background: var(--sklearn-color-fitted-level-0);\n",
       "  border: var(--sklearn-color-fitted-level-3);\n",
       "}\n",
       "\n",
       ".sk-estimator-doc-link:hover span {\n",
       "  display: block;\n",
       "}\n",
       "\n",
       "/* \"?\"-specific style due to the `<a>` HTML tag */\n",
       "\n",
       "#sk-container-id-1 a.estimator_doc_link {\n",
       "  float: right;\n",
       "  font-size: 1rem;\n",
       "  line-height: 1em;\n",
       "  font-family: monospace;\n",
       "  background-color: var(--sklearn-color-background);\n",
       "  border-radius: 1rem;\n",
       "  height: 1rem;\n",
       "  width: 1rem;\n",
       "  text-decoration: none;\n",
       "  /* unfitted */\n",
       "  color: var(--sklearn-color-unfitted-level-1);\n",
       "  border: var(--sklearn-color-unfitted-level-1) 1pt solid;\n",
       "}\n",
       "\n",
       "#sk-container-id-1 a.estimator_doc_link.fitted {\n",
       "  /* fitted */\n",
       "  border: var(--sklearn-color-fitted-level-1) 1pt solid;\n",
       "  color: var(--sklearn-color-fitted-level-1);\n",
       "}\n",
       "\n",
       "/* On hover */\n",
       "#sk-container-id-1 a.estimator_doc_link:hover {\n",
       "  /* unfitted */\n",
       "  background-color: var(--sklearn-color-unfitted-level-3);\n",
       "  color: var(--sklearn-color-background);\n",
       "  text-decoration: none;\n",
       "}\n",
       "\n",
       "#sk-container-id-1 a.estimator_doc_link.fitted:hover {\n",
       "  /* fitted */\n",
       "  background-color: var(--sklearn-color-fitted-level-3);\n",
       "}\n",
       "</style><div id=\"sk-container-id-1\" class=\"sk-top-container\"><div class=\"sk-text-repr-fallback\"><pre>KMeans(max_iter=50, n_clusters=4)</pre><b>In a Jupyter environment, please rerun this cell to show the HTML representation or trust the notebook. <br />On GitHub, the HTML representation is unable to render, please try loading this page with nbviewer.org.</b></div><div class=\"sk-container\" hidden><div class=\"sk-item\"><div class=\"sk-estimator fitted sk-toggleable\"><input class=\"sk-toggleable__control sk-hidden--visually\" id=\"sk-estimator-id-1\" type=\"checkbox\" checked><label for=\"sk-estimator-id-1\" class=\"sk-toggleable__label fitted sk-toggleable__label-arrow\"><div><div>KMeans</div></div><div><a class=\"sk-estimator-doc-link fitted\" rel=\"noreferrer\" target=\"_blank\" href=\"https://scikit-learn.org/1.6/modules/generated/sklearn.cluster.KMeans.html\">?<span>Documentation for KMeans</span></a><span class=\"sk-estimator-doc-link fitted\">i<span>Fitted</span></span></div></label><div class=\"sk-toggleable__content fitted\"><pre>KMeans(max_iter=50, n_clusters=4)</pre></div> </div></div></div></div>"
      ],
      "text/plain": [
       "KMeans(max_iter=50, n_clusters=4)"
      ]
     },
     "execution_count": 31,
     "metadata": {},
     "output_type": "execute_result"
    }
   ],
   "source": [
    "# k-means with arbitrary k value\n",
    "kmeans = KMeans(n_clusters=4, max_iter=50)\n",
    "kmeans.fit(rfm_scaled)"
   ]
  },
  {
   "cell_type": "code",
   "execution_count": 32,
   "metadata": {},
   "outputs": [
    {
     "data": {
      "text/plain": [
       "array([0, 0, 1, ..., 1, 3, 0], dtype=int32)"
      ]
     },
     "execution_count": 32,
     "metadata": {},
     "output_type": "execute_result"
    }
   ],
   "source": [
    "kmeans.labels_"
   ]
  },
  {
   "cell_type": "markdown",
   "metadata": {},
   "source": [
    "### 5.1 Optimal Number of Clusters"
   ]
  },
  {
   "cell_type": "code",
   "execution_count": 33,
   "metadata": {},
   "outputs": [
    {
     "data": {
      "image/png": "[encoded data removed]",
      "text/plain": [
       "<Figure size 640x480 with 1 Axes>"
      ]
     },
     "metadata": {},
     "output_type": "display_data"
    }
   ],
   "source": [
    "# elbow curve // sum of square distances (ssd)\n",
    "ssd = []\n",
    "range_n_clusters = [2,3,4,5,6,7,8]\n",
    "for num_clusters in range_n_clusters:\n",
    "    kmeans = KMeans(n_clusters=num_clusters, max_iter=50)\n",
    "    kmeans.fit(rfm_scaled)\n",
    "\n",
    "    ssd.append(kmeans.inertia_)\n",
    "\n",
    "# plot SSDs (inertia) for each n_clusters\n",
    "plt.plot(ssd)\n",
    "plt.show()"
   ]
  },
  {
   "cell_type": "markdown",
   "metadata": {},
   "source": [
    "### 5.2 Silhouette Analysis\n",
    "\n",
    "$$\\text{silhouette score}=\\frac{p-q}{max(p,q)}$$\n",
    "\n",
    "$p$ is the mean distance to the points in the nearest cluster that the data point is not a part of\n",
    "\n",
    "$q$ is the mean intra-cluster distance to all the points in its own cluster.\n",
    "\n",
    "* The value of the silhouette score range lies between -1 to 1. \n",
    "\n",
    "* A score closer to 1 indicates that the data point is very similar to other data points in the cluster, \n",
    "\n",
    "* A score closer to -1 indicates that the data point is not similar to the data points in its cluster."
   ]
  },
  {
   "cell_type": "code",
   "execution_count": 34,
   "metadata": {},
   "outputs": [
    {
     "name": "stdout",
     "output_type": "stream",
     "text": [
      "For n_clusters = 2, the silhouette score is 0.42707755685494364\n",
      "For n_clusters = 3, the silhouette score is 0.4404137317662358\n",
      "For n_clusters = 4, the silhouette score is 0.41001166430902913\n",
      "For n_clusters = 5, the silhouette score is 0.397160026749759\n",
      "For n_clusters = 6, the silhouette score is 0.3567892966279292\n",
      "For n_clusters = 7, the silhouette score is 0.36209272459679237\n",
      "For n_clusters = 8, the silhouette score is 0.3442522430173946\n"
     ]
    }
   ],
   "source": [
    "# silhouette score analysis\n",
    "\n",
    "range_n_clusters = [2,3,4,5,6,7,8]\n",
    "\n",
    "for num_clusters in range_n_clusters:\n",
    "\n",
    "    # initialize kmeans\n",
    "    kmeans = KMeans(n_clusters=num_clusters, max_iter=50)\n",
    "    kmeans.fit(rfm_scaled)\n",
    "\n",
    "    cluster_labels = kmeans.labels_\n",
    "\n",
    "    # silhouette score\n",
    "    silhouette_avg = silhouette_score(rfm_scaled, cluster_labels)\n",
    "    print(f'For n_clusters = {num_clusters}, the silhouette score is {silhouette_avg}')\n"
   ]
  },
  {
   "cell_type": "markdown",
   "metadata": {},
   "source": [
    "**OBSERVATION**-\n",
    "- From above results we can see that `n_clusters = 3` seems to be the optimal cluster count.\n",
    "- In some runs, n_clusters = 2 seems to give highest silhouette score but depending on businss requirement, 2 clusters might be too few."
   ]
  },
  {
   "cell_type": "markdown",
   "metadata": {},
   "source": [
    "### 5.3 Final Model with k=3"
   ]
  },
  {
   "cell_type": "code",
   "execution_count": 35,
   "metadata": {},
   "outputs": [
    {
     "data": {
      "text/html": [
       "<style>#sk-container-id-2 {\n",
       "  /* Definition of color scheme common for light and dark mode */\n",
       "  --sklearn-color-text: #000;\n",
       "  --sklearn-color-text-muted: #666;\n",
       "  --sklearn-color-line: gray;\n",
       "  /* Definition of color scheme for unfitted estimators */\n",
       "  --sklearn-color-unfitted-level-0: #fff5e6;\n",
       "  --sklearn-color-unfitted-level-1: #f6e4d2;\n",
       "  --sklearn-color-unfitted-level-2: #ffe0b3;\n",
       "  --sklearn-color-unfitted-level-3: chocolate;\n",
       "  /* Definition of color scheme for fitted estimators */\n",
       "  --sklearn-color-fitted-level-0: #f0f8ff;\n",
       "  --sklearn-color-fitted-level-1: #d4ebff;\n",
       "  --sklearn-color-fitted-level-2: #b3dbfd;\n",
       "  --sklearn-color-fitted-level-3: cornflowerblue;\n",
       "\n",
       "  /* Specific color for light theme */\n",
       "  --sklearn-color-text-on-default-background: var(--sg-text-color, var(--theme-code-foreground, var(--jp-content-font-color1, black)));\n",
       "  --sklearn-color-background: var(--sg-background-color, var(--theme-background, var(--jp-layout-color0, white)));\n",
       "  --sklearn-color-border-box: var(--sg-text-color, var(--theme-code-foreground, var(--jp-content-font-color1, black)));\n",
       "  --sklearn-color-icon: #696969;\n",
       "\n",
       "  @media (prefers-color-scheme: dark) {\n",
       "    /* Redefinition of color scheme for dark theme */\n",
       "    --sklearn-color-text-on-default-background: var(--sg-text-color, var(--theme-code-foreground, var(--jp-content-font-color1, white)));\n",
       "    --sklearn-color-background: var(--sg-background-color, var(--theme-background, var(--jp-layout-color0, #111)));\n",
       "    --sklearn-color-border-box: var(--sg-text-color, var(--theme-code-foreground, var(--jp-content-font-color1, white)));\n",
       "    --sklearn-color-icon: #878787;\n",
       "  }\n",
       "}\n",
       "\n",
       "#sk-container-id-2 {\n",
       "  color: var(--sklearn-color-text);\n",
       "}\n",
       "\n",
       "#sk-container-id-2 pre {\n",
       "  padding: 0;\n",
       "}\n",
       "\n",
       "#sk-container-id-2 input.sk-hidden--visually {\n",
       "  border: 0;\n",
       "  clip: rect(1px 1px 1px 1px);\n",
       "  clip: rect(1px, 1px, 1px, 1px);\n",
       "  height: 1px;\n",
       "  margin: -1px;\n",
       "  overflow: hidden;\n",
       "  padding: 0;\n",
       "  position: absolute;\n",
       "  width: 1px;\n",
       "}\n",
       "\n",
       "#sk-container-id-2 div.sk-dashed-wrapped {\n",
       "  border: 1px dashed var(--sklearn-color-line);\n",
       "  margin: 0 0.4em 0.5em 0.4em;\n",
       "  box-sizing: border-box;\n",
       "  padding-bottom: 0.4em;\n",
       "  background-color: var(--sklearn-color-background);\n",
       "}\n",
       "\n",
       "#sk-container-id-2 div.sk-container {\n",
       "  /* jupyter's `normalize.less` sets `[hidden] { display: none; }`\n",
       "     but bootstrap.min.css set `[hidden] { display: none !important; }`\n",
       "     so we also need the `!important` here to be able to override the\n",
       "     default hidden behavior on the sphinx rendered scikit-learn.org.\n",
       "     See: https://github.com/scikit-learn/scikit-learn/issues/21755 */\n",
       "  display: inline-block !important;\n",
       "  position: relative;\n",
       "}\n",
       "\n",
       "#sk-container-id-2 div.sk-text-repr-fallback {\n",
       "  display: none;\n",
       "}\n",
       "\n",
       "div.sk-parallel-item,\n",
       "div.sk-serial,\n",
       "div.sk-item {\n",
       "  /* draw centered vertical line to link estimators */\n",
       "  background-image: linear-gradient(var(--sklearn-color-text-on-default-background), var(--sklearn-color-text-on-default-background));\n",
       "  background-size: 2px 100%;\n",
       "  background-repeat: no-repeat;\n",
       "  background-position: center center;\n",
       "}\n",
       "\n",
       "/* Parallel-specific style estimator block */\n",
       "\n",
       "#sk-container-id-2 div.sk-parallel-item::after {\n",
       "  content: \"\";\n",
       "  width: 100%;\n",
       "  border-bottom: 2px solid var(--sklearn-color-text-on-default-background);\n",
       "  flex-grow: 1;\n",
       "}\n",
       "\n",
       "#sk-container-id-2 div.sk-parallel {\n",
       "  display: flex;\n",
       "  align-items: stretch;\n",
       "  justify-content: center;\n",
       "  background-color: var(--sklearn-color-background);\n",
       "  position: relative;\n",
       "}\n",
       "\n",
       "#sk-container-id-2 div.sk-parallel-item {\n",
       "  display: flex;\n",
       "  flex-direction: column;\n",
       "}\n",
       "\n",
       "#sk-container-id-2 div.sk-parallel-item:first-child::after {\n",
       "  align-self: flex-end;\n",
       "  width: 50%;\n",
       "}\n",
       "\n",
       "#sk-container-id-2 div.sk-parallel-item:last-child::after {\n",
       "  align-self: flex-start;\n",
       "  width: 50%;\n",
       "}\n",
       "\n",
       "#sk-container-id-2 div.sk-parallel-item:only-child::after {\n",
       "  width: 0;\n",
       "}\n",
       "\n",
       "/* Serial-specific style estimator block */\n",
       "\n",
       "#sk-container-id-2 div.sk-serial {\n",
       "  display: flex;\n",
       "  flex-direction: column;\n",
       "  align-items: center;\n",
       "  background-color: var(--sklearn-color-background);\n",
       "  padding-right: 1em;\n",
       "  padding-left: 1em;\n",
       "}\n",
       "\n",
       "\n",
       "/* Toggleable style: style used for estimator/Pipeline/ColumnTransformer box that is\n",
       "clickable and can be expanded/collapsed.\n",
       "- Pipeline and ColumnTransformer use this feature and define the default style\n",
       "- Estimators will overwrite some part of the style using the `sk-estimator` class\n",
       "*/\n",
       "\n",
       "/* Pipeline and ColumnTransformer style (default) */\n",
       "\n",
       "#sk-container-id-2 div.sk-toggleable {\n",
       "  /* Default theme specific background. It is overwritten whether we have a\n",
       "  specific estimator or a Pipeline/ColumnTransformer */\n",
       "  background-color: var(--sklearn-color-background);\n",
       "}\n",
       "\n",
       "/* Toggleable label */\n",
       "#sk-container-id-2 label.sk-toggleable__label {\n",
       "  cursor: pointer;\n",
       "  display: flex;\n",
       "  width: 100%;\n",
       "  margin-bottom: 0;\n",
       "  padding: 0.5em;\n",
       "  box-sizing: border-box;\n",
       "  text-align: center;\n",
       "  align-items: start;\n",
       "  justify-content: space-between;\n",
       "  gap: 0.5em;\n",
       "}\n",
       "\n",
       "#sk-container-id-2 label.sk-toggleable__label .caption {\n",
       "  font-size: 0.6rem;\n",
       "  font-weight: lighter;\n",
       "  color: var(--sklearn-color-text-muted);\n",
       "}\n",
       "\n",
       "#sk-container-id-2 label.sk-toggleable__label-arrow:before {\n",
       "  /* Arrow on the left of the label */\n",
       "  content: \"▸\";\n",
       "  float: left;\n",
       "  margin-right: 0.25em;\n",
       "  color: var(--sklearn-color-icon);\n",
       "}\n",
       "\n",
       "#sk-container-id-2 label.sk-toggleable__label-arrow:hover:before {\n",
       "  color: var(--sklearn-color-text);\n",
       "}\n",
       "\n",
       "/* Toggleable content - dropdown */\n",
       "\n",
       "#sk-container-id-2 div.sk-toggleable__content {\n",
       "  max-height: 0;\n",
       "  max-width: 0;\n",
       "  overflow: hidden;\n",
       "  text-align: left;\n",
       "  /* unfitted */\n",
       "  background-color: var(--sklearn-color-unfitted-level-0);\n",
       "}\n",
       "\n",
       "#sk-container-id-2 div.sk-toggleable__content.fitted {\n",
       "  /* fitted */\n",
       "  background-color: var(--sklearn-color-fitted-level-0);\n",
       "}\n",
       "\n",
       "#sk-container-id-2 div.sk-toggleable__content pre {\n",
       "  margin: 0.2em;\n",
       "  border-radius: 0.25em;\n",
       "  color: var(--sklearn-color-text);\n",
       "  /* unfitted */\n",
       "  background-color: var(--sklearn-color-unfitted-level-0);\n",
       "}\n",
       "\n",
       "#sk-container-id-2 div.sk-toggleable__content.fitted pre {\n",
       "  /* unfitted */\n",
       "  background-color: var(--sklearn-color-fitted-level-0);\n",
       "}\n",
       "\n",
       "#sk-container-id-2 input.sk-toggleable__control:checked~div.sk-toggleable__content {\n",
       "  /* Expand drop-down */\n",
       "  max-height: 200px;\n",
       "  max-width: 100%;\n",
       "  overflow: auto;\n",
       "}\n",
       "\n",
       "#sk-container-id-2 input.sk-toggleable__control:checked~label.sk-toggleable__label-arrow:before {\n",
       "  content: \"▾\";\n",
       "}\n",
       "\n",
       "/* Pipeline/ColumnTransformer-specific style */\n",
       "\n",
       "#sk-container-id-2 div.sk-label input.sk-toggleable__control:checked~label.sk-toggleable__label {\n",
       "  color: var(--sklearn-color-text);\n",
       "  background-color: var(--sklearn-color-unfitted-level-2);\n",
       "}\n",
       "\n",
       "#sk-container-id-2 div.sk-label.fitted input.sk-toggleable__control:checked~label.sk-toggleable__label {\n",
       "  background-color: var(--sklearn-color-fitted-level-2);\n",
       "}\n",
       "\n",
       "/* Estimator-specific style */\n",
       "\n",
       "/* Colorize estimator box */\n",
       "#sk-container-id-2 div.sk-estimator input.sk-toggleable__control:checked~label.sk-toggleable__label {\n",
       "  /* unfitted */\n",
       "  background-color: var(--sklearn-color-unfitted-level-2);\n",
       "}\n",
       "\n",
       "#sk-container-id-2 div.sk-estimator.fitted input.sk-toggleable__control:checked~label.sk-toggleable__label {\n",
       "  /* fitted */\n",
       "  background-color: var(--sklearn-color-fitted-level-2);\n",
       "}\n",
       "\n",
       "#sk-container-id-2 div.sk-label label.sk-toggleable__label,\n",
       "#sk-container-id-2 div.sk-label label {\n",
       "  /* The background is the default theme color */\n",
       "  color: var(--sklearn-color-text-on-default-background);\n",
       "}\n",
       "\n",
       "/* On hover, darken the color of the background */\n",
       "#sk-container-id-2 div.sk-label:hover label.sk-toggleable__label {\n",
       "  color: var(--sklearn-color-text);\n",
       "  background-color: var(--sklearn-color-unfitted-level-2);\n",
       "}\n",
       "\n",
       "/* Label box, darken color on hover, fitted */\n",
       "#sk-container-id-2 div.sk-label.fitted:hover label.sk-toggleable__label.fitted {\n",
       "  color: var(--sklearn-color-text);\n",
       "  background-color: var(--sklearn-color-fitted-level-2);\n",
       "}\n",
       "\n",
       "/* Estimator label */\n",
       "\n",
       "#sk-container-id-2 div.sk-label label {\n",
       "  font-family: monospace;\n",
       "  font-weight: bold;\n",
       "  display: inline-block;\n",
       "  line-height: 1.2em;\n",
       "}\n",
       "\n",
       "#sk-container-id-2 div.sk-label-container {\n",
       "  text-align: center;\n",
       "}\n",
       "\n",
       "/* Estimator-specific */\n",
       "#sk-container-id-2 div.sk-estimator {\n",
       "  font-family: monospace;\n",
       "  border: 1px dotted var(--sklearn-color-border-box);\n",
       "  border-radius: 0.25em;\n",
       "  box-sizing: border-box;\n",
       "  margin-bottom: 0.5em;\n",
       "  /* unfitted */\n",
       "  background-color: var(--sklearn-color-unfitted-level-0);\n",
       "}\n",
       "\n",
       "#sk-container-id-2 div.sk-estimator.fitted {\n",
       "  /* fitted */\n",
       "  background-color: var(--sklearn-color-fitted-level-0);\n",
       "}\n",
       "\n",
       "/* on hover */\n",
       "#sk-container-id-2 div.sk-estimator:hover {\n",
       "  /* unfitted */\n",
       "  background-color: var(--sklearn-color-unfitted-level-2);\n",
       "}\n",
       "\n",
       "#sk-container-id-2 div.sk-estimator.fitted:hover {\n",
       "  /* fitted */\n",
       "  background-color: var(--sklearn-color-fitted-level-2);\n",
       "}\n",
       "\n",
       "/* Specification for estimator info (e.g. \"i\" and \"?\") */\n",
       "\n",
       "/* Common style for \"i\" and \"?\" */\n",
       "\n",
       ".sk-estimator-doc-link,\n",
       "a:link.sk-estimator-doc-link,\n",
       "a:visited.sk-estimator-doc-link {\n",
       "  float: right;\n",
       "  font-size: smaller;\n",
       "  line-height: 1em;\n",
       "  font-family: monospace;\n",
       "  background-color: var(--sklearn-color-background);\n",
       "  border-radius: 1em;\n",
       "  height: 1em;\n",
       "  width: 1em;\n",
       "  text-decoration: none !important;\n",
       "  margin-left: 0.5em;\n",
       "  text-align: center;\n",
       "  /* unfitted */\n",
       "  border: var(--sklearn-color-unfitted-level-1) 1pt solid;\n",
       "  color: var(--sklearn-color-unfitted-level-1);\n",
       "}\n",
       "\n",
       ".sk-estimator-doc-link.fitted,\n",
       "a:link.sk-estimator-doc-link.fitted,\n",
       "a:visited.sk-estimator-doc-link.fitted {\n",
       "  /* fitted */\n",
       "  border: var(--sklearn-color-fitted-level-1) 1pt solid;\n",
       "  color: var(--sklearn-color-fitted-level-1);\n",
       "}\n",
       "\n",
       "/* On hover */\n",
       "div.sk-estimator:hover .sk-estimator-doc-link:hover,\n",
       ".sk-estimator-doc-link:hover,\n",
       "div.sk-label-container:hover .sk-estimator-doc-link:hover,\n",
       ".sk-estimator-doc-link:hover {\n",
       "  /* unfitted */\n",
       "  background-color: var(--sklearn-color-unfitted-level-3);\n",
       "  color: var(--sklearn-color-background);\n",
       "  text-decoration: none;\n",
       "}\n",
       "\n",
       "div.sk-estimator.fitted:hover .sk-estimator-doc-link.fitted:hover,\n",
       ".sk-estimator-doc-link.fitted:hover,\n",
       "div.sk-label-container:hover .sk-estimator-doc-link.fitted:hover,\n",
       ".sk-estimator-doc-link.fitted:hover {\n",
       "  /* fitted */\n",
       "  background-color: var(--sklearn-color-fitted-level-3);\n",
       "  color: var(--sklearn-color-background);\n",
       "  text-decoration: none;\n",
       "}\n",
       "\n",
       "/* Span, style for the box shown on hovering the info icon */\n",
       ".sk-estimator-doc-link span {\n",
       "  display: none;\n",
       "  z-index: 9999;\n",
       "  position: relative;\n",
       "  font-weight: normal;\n",
       "  right: .2ex;\n",
       "  padding: .5ex;\n",
       "  margin: .5ex;\n",
       "  width: min-content;\n",
       "  min-width: 20ex;\n",
       "  max-width: 50ex;\n",
       "  color: var(--sklearn-color-text);\n",
       "  box-shadow: 2pt 2pt 4pt #999;\n",
       "  /* unfitted */\n",
       "  background: var(--sklearn-color-unfitted-level-0);\n",
       "  border: .5pt solid var(--sklearn-color-unfitted-level-3);\n",
       "}\n",
       "\n",
       ".sk-estimator-doc-link.fitted span {\n",
       "  /* fitted */\n",
       "  background: var(--sklearn-color-fitted-level-0);\n",
       "  border: var(--sklearn-color-fitted-level-3);\n",
       "}\n",
       "\n",
       ".sk-estimator-doc-link:hover span {\n",
       "  display: block;\n",
       "}\n",
       "\n",
       "/* \"?\"-specific style due to the `<a>` HTML tag */\n",
       "\n",
       "#sk-container-id-2 a.estimator_doc_link {\n",
       "  float: right;\n",
       "  font-size: 1rem;\n",
       "  line-height: 1em;\n",
       "  font-family: monospace;\n",
       "  background-color: var(--sklearn-color-background);\n",
       "  border-radius: 1rem;\n",
       "  height: 1rem;\n",
       "  width: 1rem;\n",
       "  text-decoration: none;\n",
       "  /* unfitted */\n",
       "  color: var(--sklearn-color-unfitted-level-1);\n",
       "  border: var(--sklearn-color-unfitted-level-1) 1pt solid;\n",
       "}\n",
       "\n",
       "#sk-container-id-2 a.estimator_doc_link.fitted {\n",
       "  /* fitted */\n",
       "  border: var(--sklearn-color-fitted-level-1) 1pt solid;\n",
       "  color: var(--sklearn-color-fitted-level-1);\n",
       "}\n",
       "\n",
       "/* On hover */\n",
       "#sk-container-id-2 a.estimator_doc_link:hover {\n",
       "  /* unfitted */\n",
       "  background-color: var(--sklearn-color-unfitted-level-3);\n",
       "  color: var(--sklearn-color-background);\n",
       "  text-decoration: none;\n",
       "}\n",
       "\n",
       "#sk-container-id-2 a.estimator_doc_link.fitted:hover {\n",
       "  /* fitted */\n",
       "  background-color: var(--sklearn-color-fitted-level-3);\n",
       "}\n",
       "</style><div id=\"sk-container-id-2\" class=\"sk-top-container\"><div class=\"sk-text-repr-fallback\"><pre>KMeans(max_iter=50, n_clusters=3)</pre><b>In a Jupyter environment, please rerun this cell to show the HTML representation or trust the notebook. <br />On GitHub, the HTML representation is unable to render, please try loading this page with nbviewer.org.</b></div><div class=\"sk-container\" hidden><div class=\"sk-item\"><div class=\"sk-estimator fitted sk-toggleable\"><input class=\"sk-toggleable__control sk-hidden--visually\" id=\"sk-estimator-id-2\" type=\"checkbox\" checked><label for=\"sk-estimator-id-2\" class=\"sk-toggleable__label fitted sk-toggleable__label-arrow\"><div><div>KMeans</div></div><div><a class=\"sk-estimator-doc-link fitted\" rel=\"noreferrer\" target=\"_blank\" href=\"https://scikit-learn.org/1.6/modules/generated/sklearn.cluster.KMeans.html\">?<span>Documentation for KMeans</span></a><span class=\"sk-estimator-doc-link fitted\">i<span>Fitted</span></span></div></label><div class=\"sk-toggleable__content fitted\"><pre>KMeans(max_iter=50, n_clusters=3)</pre></div> </div></div></div></div>"
      ],
      "text/plain": [
       "KMeans(max_iter=50, n_clusters=3)"
      ]
     },
     "execution_count": 35,
     "metadata": {},
     "output_type": "execute_result"
    }
   ],
   "source": [
    "kmeans = KMeans(n_clusters=3, max_iter=50)\n",
    "kmeans.fit(rfm_scaled)"
   ]
  },
  {
   "cell_type": "code",
   "execution_count": 36,
   "metadata": {},
   "outputs": [
    {
     "data": {
      "text/plain": [
       "array([0, 2, 1, ..., 1, 0, 2], dtype=int32)"
      ]
     },
     "execution_count": 36,
     "metadata": {},
     "output_type": "execute_result"
    }
   ],
   "source": [
    "kmeans.labels_"
   ]
  },
  {
   "cell_type": "code",
   "execution_count": 37,
   "metadata": {},
   "outputs": [
    {
     "data": {
      "text/plain": [
       "(3586,)"
      ]
     },
     "execution_count": 37,
     "metadata": {},
     "output_type": "execute_result"
    }
   ],
   "source": [
    "kmeans.labels_.shape"
   ]
  },
  {
   "cell_type": "markdown",
   "metadata": {},
   "source": [
    "### Assign the Labels"
   ]
  },
  {
   "cell_type": "code",
   "execution_count": 38,
   "metadata": {},
   "outputs": [
    {
     "data": {
      "text/html": [
       "<div>\n",
       "<style scoped>\n",
       "    .dataframe tbody tr th:only-of-type {\n",
       "        vertical-align: middle;\n",
       "    }\n",
       "\n",
       "    .dataframe tbody tr th {\n",
       "        vertical-align: top;\n",
       "    }\n",
       "\n",
       "    .dataframe thead th {\n",
       "        text-align: right;\n",
       "    }\n",
       "</style>\n",
       "<table border=\"1\" class=\"dataframe\">\n",
       "  <thead>\n",
       "    <tr style=\"text-align: right;\">\n",
       "      <th></th>\n",
       "      <th>CustomerID</th>\n",
       "      <th>recency</th>\n",
       "      <th>frequency</th>\n",
       "      <th>monetary_value</th>\n",
       "      <th>cluster_id</th>\n",
       "    </tr>\n",
       "  </thead>\n",
       "  <tbody>\n",
       "    <tr>\n",
       "      <th>2</th>\n",
       "      <td>12348.0</td>\n",
       "      <td>74</td>\n",
       "      <td>31.0</td>\n",
       "      <td>1797.24</td>\n",
       "      <td>0</td>\n",
       "    </tr>\n",
       "    <tr>\n",
       "      <th>3</th>\n",
       "      <td>12349.0</td>\n",
       "      <td>18</td>\n",
       "      <td>73.0</td>\n",
       "      <td>1757.55</td>\n",
       "      <td>2</td>\n",
       "    </tr>\n",
       "    <tr>\n",
       "      <th>4</th>\n",
       "      <td>12350.0</td>\n",
       "      <td>309</td>\n",
       "      <td>17.0</td>\n",
       "      <td>334.40</td>\n",
       "      <td>1</td>\n",
       "    </tr>\n",
       "    <tr>\n",
       "      <th>5</th>\n",
       "      <td>12352.0</td>\n",
       "      <td>35</td>\n",
       "      <td>85.0</td>\n",
       "      <td>2506.04</td>\n",
       "      <td>2</td>\n",
       "    </tr>\n",
       "    <tr>\n",
       "      <th>6</th>\n",
       "      <td>12353.0</td>\n",
       "      <td>203</td>\n",
       "      <td>4.0</td>\n",
       "      <td>89.00</td>\n",
       "      <td>1</td>\n",
       "    </tr>\n",
       "  </tbody>\n",
       "</table>\n",
       "</div>"
      ],
      "text/plain": [
       "   CustomerID  recency  frequency  monetary_value  cluster_id\n",
       "2     12348.0       74       31.0         1797.24           0\n",
       "3     12349.0       18       73.0         1757.55           2\n",
       "4     12350.0      309       17.0          334.40           1\n",
       "5     12352.0       35       85.0         2506.04           2\n",
       "6     12353.0      203        4.0           89.00           1"
      ]
     },
     "execution_count": 38,
     "metadata": {},
     "output_type": "execute_result"
    }
   ],
   "source": [
    "grouped_df['cluster_id'] = kmeans.labels_\n",
    "grouped_df.head()"
   ]
  },
  {
   "cell_type": "code",
   "execution_count": 39,
   "metadata": {},
   "outputs": [
    {
     "data": {
      "text/plain": [
       "(3586, 5)"
      ]
     },
     "execution_count": 39,
     "metadata": {},
     "output_type": "execute_result"
    }
   ],
   "source": [
    "grouped_df.shape"
   ]
  },
  {
   "cell_type": "markdown",
   "metadata": {},
   "source": [
    "### Boxplots for each feature"
   ]
  },
  {
   "cell_type": "code",
   "execution_count": 40,
   "metadata": {},
   "outputs": [
    {
     "data": {
      "image/png": "[encoded data removed]",
      "text/plain": [
       "<Figure size 640x480 with 1 Axes>"
      ]
     },
     "metadata": {},
     "output_type": "display_data"
    }
   ],
   "source": [
    "sns.boxplot(x='cluster_id', y='monetary_value', data=grouped_df)\n",
    "plt.show()"
   ]
  },
  {
   "cell_type": "code",
   "execution_count": 41,
   "metadata": {},
   "outputs": [
    {
     "data": {
      "image/png": "[encoded data removed]",
      "text/plain": [
       "<Figure size 640x480 with 1 Axes>"
      ]
     },
     "metadata": {},
     "output_type": "display_data"
    }
   ],
   "source": [
    "sns.boxplot(x='cluster_id', y='recency', data=grouped_df)\n",
    "plt.show()"
   ]
  },
  {
   "cell_type": "code",
   "execution_count": 42,
   "metadata": {},
   "outputs": [
    {
     "data": {
      "image/png": "[encoded data removed]",
      "text/plain": [
       "<Figure size 640x480 with 1 Axes>"
      ]
     },
     "metadata": {},
     "output_type": "display_data"
    }
   ],
   "source": [
    "sns.boxplot(x='cluster_id', y='frequency', data=grouped_df)\n",
    "plt.show()"
   ]
  },
  {
   "cell_type": "markdown",
   "metadata": {},
   "source": [
    "### 5.4 Interactive 3-D Plot of the K-Means Clusters"
   ]
  },
  {
   "cell_type": "code",
   "execution_count": 43,
   "metadata": {},
   "outputs": [
    {
     "data": {
      "application/vnd.plotly.v1+json": {
       "config": {
        "plotlyServerURL": "https://plot.ly"
       },
       "data": [
        {
         "hovertemplate": "Revenue=%{x}<br>Recency=%{y}<br>Frequency=%{z}<br>cluster_id=%{marker.color}<extra></extra>",
         "legendgroup": "",
         "marker": {
          "color": {
           "bdata": "AAAAAAIAAAABAAAAAgAAAAEAAAABAAAAAQAAAAIAAAAAAAAAAgAAAAEAAAAAAAAAAgAAAAEAAAAAAAAAAgAAAAIAAAAAAAAAAQAAAAAAAAAAAAAAAQAAAAAAAAACAAAAAgAAAAIAAAAAAAAAAQAAAAIAAAAAAAAAAAAAAAIAAAAAAAAAAgAAAAIAAAACAAAAAAAAAAEAAAABAAAAAAAAAAIAAAACAAAAAgAAAAIAAAABAAAAAAAAAAAAAAABAAAAAAAAAAAAAAAAAAAAAAAAAAIAAAAAAAAAAAAAAAEAAAAAAAAAAAAAAAAAAAAAAAAAAgAAAAAAAAAAAAAAAAAAAAEAAAAAAAAAAQAAAAAAAAAAAAAAAgAAAAIAAAACAAAAAgAAAAAAAAAAAAAAAAAAAAIAAAAAAAAAAAAAAAEAAAAAAAAAAAAAAAAAAAACAAAAAgAAAAAAAAABAAAAAAAAAAAAAAABAAAAAgAAAAAAAAAAAAAAAgAAAAAAAAABAAAAAAAAAAAAAAABAAAAAAAAAAAAAAAAAAAAAQAAAAEAAAAAAAAAAgAAAAAAAAACAAAAAAAAAAAAAAACAAAAAgAAAAAAAAACAAAAAgAAAAAAAAAAAAAAAAAAAAAAAAAAAAAAAAAAAAAAAAAAAAAAAAAAAAEAAAABAAAAAAAAAAEAAAAAAAAAAgAAAAAAAAABAAAAAgAAAAEAAAABAAAAAQAAAAAAAAAAAAAAAAAAAAEAAAABAAAAAgAAAAIAAAACAAAAAAAAAAEAAAAAAAAAAQAAAAIAAAACAAAAAAAAAAAAAAAAAAAAAAAAAAEAAAAAAAAAAAAAAAIAAAAAAAAAAgAAAAAAAAACAAAAAQAAAAAAAAAAAAAAAAAAAAIAAAAAAAAAAgAAAAAAAAAAAAAAAgAAAAEAAAACAAAAAAAAAAAAAAAAAAAAAgAAAAIAAAABAAAAAQAAAAAAAAACAAAAAAAAAAAAAAAAAAAAAgAAAAIAAAAAAAAAAQAAAAAAAAAAAAAAAAAAAAIAAAAAAAAAAgAAAAAAAAABAAAAAAAAAAAAAAABAAAAAQAAAAIAAAAAAAAAAAAAAAAAAAAAAAAAAAAAAAEAAAAAAAAAAgAAAAIAAAABAAAAAAAAAAIAAAAAAAAAAAAAAAAAAAACAAAAAgAAAAIAAAABAAAAAAAAAAAAAAAAAAAAAAAAAAAAAAAAAAAAAAAAAAAAAAACAAAAAQAAAAIAAAACAAAAAAAAAAAAAAAAAAAAAAAAAAAAAAAAAAAAAgAAAAAAAAAAAAAAAAAAAAIAAAAAAAAAAAAAAAEAAAABAAAAAQAAAAEAAAABAAAAAAAAAAAAAAACAAAAAAAAAAIAAAAAAAAAAgAAAAIAAAACAAAAAAAAAAEAAAABAAAAAQAAAAAAAAACAAAAAAAAAAAAAAACAAAAAgAAAAAAAAAAAAAAAAAAAAEAAAABAAAAAQAAAAAAAAAAAAAAAQAAAAAAAAABAAAAAQAAAAAAAAAAAAAAAAAAAAAAAAABAAAAAQAAAAAAAAABAAAAAAAAAAAAAAAAAAAAAgAAAAAAAAAAAAAAAQAAAAEAAAAAAAAAAQAAAAEAAAACAAAAAQAAAAIAAAACAAAAAAAAAAIAAAAAAAAAAQAAAAIAAAAAAAAAAAAAAAEAAAACAAAAAgAAAAEAAAAAAAAAAQAAAAIAAAABAAAAAgAAAAAAAAABAAAAAQAAAAEAAAACAAAAAgAAAAEAAAAAAAAAAQAAAAAAAAAAAAAAAAAAAAAAAAACAAAAAQAAAAAAAAABAAAAAAAAAAAAAAABAAAAAQAAAAAAAAACAAAAAQAAAAIAAAACAAAAAAAAAAIAAAABAAAAAgAAAAAAAAAAAAAAAAAAAAEAAAAAAAAAAAAAAAAAAAACAAAAAQAAAAAAAAACAAAAAgAAAAAAAAACAAAAAAAAAAIAAAAAAAAAAAAAAAEAAAACAAAAAgAAAAAAAAAAAAAAAgAAAAAAAAABAAAAAAAAAAIAAAACAAAAAAAAAAEAAAAAAAAAAgAAAAEAAAABAAAAAQAAAAAAAAABAAAAAAAAAAIAAAAAAAAAAQAAAAAAAAAAAAAAAAAAAAAAAAAAAAAAAAAAAAEAAAAAAAAAAQAAAAAAAAABAAAAAAAAAAEAAAACAAAAAgAAAAIAAAAAAAAAAAAAAAIAAAAAAAAAAAAAAAAAAAAAAAAAAgAAAAAAAAABAAAAAAAAAAAAAAAAAAAAAAAAAAAAAAABAAAAAQAAAAAAAAAAAAAAAgAAAAIAAAAAAAAAAQAAAAIAAAAAAAAAAQAAAAEAAAAAAAAAAQAAAAAAAAAAAAAAAAAAAAAAAAABAAAAAQAAAAAAAAACAAAAAAAAAAEAAAACAAAAAAAAAAEAAAAAAAAAAAAAAAAAAAAAAAAAAAAAAAEAAAAAAAAAAAAAAAEAAAACAAAAAAAAAAIAAAACAAAAAAAAAAAAAAACAAAAAQAAAAEAAAAAAAAAAgAAAAAAAAAAAAAAAAAAAAEAAAABAAAAAgAAAAIAAAACAAAAAAAAAAAAAAACAAAAAAAAAAEAAAAAAAAAAAAAAAAAAAACAAAAAQAAAAAAAAAAAAAAAgAAAAIAAAACAAAAAAAAAAEAAAACAAAAAAAAAAEAAAAAAAAAAgAAAAAAAAAAAAAAAAAAAAAAAAAAAAAAAAAAAAAAAAABAAAAAgAAAAEAAAAAAAAAAAAAAAAAAAAAAAAAAQAAAAIAAAAAAAAAAAAAAAAAAAACAAAAAAAAAAAAAAACAAAAAgAAAAEAAAAAAAAAAAAAAAAAAAABAAAAAQAAAAIAAAABAAAAAQAAAAAAAAABAAAAAAAAAAEAAAAAAAAAAAAAAAEAAAAAAAAAAAAAAAEAAAAAAAAAAAAAAAIAAAAAAAAAAAAAAAAAAAAAAAAAAAAAAAAAAAAAAAAAAAAAAAEAAAABAAAAAgAAAAAAAAAAAAAAAAAAAAAAAAAAAAAAAAAAAAAAAAAAAAAAAAAAAAAAAAABAAAAAQAAAAAAAAABAAAAAQAAAAEAAAACAAAAAAAAAAEAAAABAAAAAAAAAAEAAAABAAAAAgAAAAAAAAAAAAAAAgAAAAAAAAAAAAAAAgAAAAAAAAACAAAAAAAAAAIAAAAAAAAAAAAAAAAAAAAAAAAAAgAAAAEAAAAAAAAAAAAAAAAAAAAAAAAAAQAAAAEAAAABAAAAAQAAAAIAAAABAAAAAAAAAAAAAAAAAAAAAAAAAAAAAAAAAAAAAAAAAAAAAAAAAAAAAQAAAAEAAAAAAAAAAgAAAAAAAAAAAAAAAgAAAAAAAAABAAAAAAAAAAIAAAAAAAAAAAAAAAAAAAACAAAAAQAAAAEAAAAAAAAAAAAAAAAAAAABAAAAAgAAAAEAAAAAAAAAAAAAAAEAAAAAAAAAAAAAAAAAAAAAAAAAAAAAAAAAAAAAAAAAAAAAAAAAAAAAAAAAAQAAAAIAAAACAAAAAgAAAAIAAAAAAAAAAAAAAAAAAAAAAAAAAAAAAAAAAAAAAAAAAgAAAAEAAAAAAAAAAAAAAAAAAAACAAAAAQAAAAEAAAAAAAAAAgAAAAAAAAAAAAAAAQAAAAAAAAABAAAAAgAAAAAAAAAAAAAAAQAAAAIAAAABAAAAAgAAAAEAAAACAAAAAQAAAAAAAAABAAAAAQAAAAAAAAAAAAAAAAAAAAIAAAAAAAAAAQAAAAEAAAACAAAAAAAAAAEAAAAAAAAAAAAAAAEAAAAAAAAAAAAAAAAAAAABAAAAAgAAAAEAAAAAAAAAAgAAAAEAAAAAAAAAAAAAAAAAAAAAAAAAAgAAAAAAAAAAAAAAAgAAAAAAAAAAAAAAAAAAAAAAAAABAAAAAAAAAAEAAAAAAAAAAAAAAAAAAAAAAAAAAgAAAAAAAAABAAAAAAAAAAIAAAAAAAAAAQAAAAIAAAAAAAAAAgAAAAAAAAACAAAAAQAAAAAAAAABAAAAAQAAAAAAAAAAAAAAAgAAAAAAAAABAAAAAAAAAAEAAAAAAAAAAgAAAAAAAAACAAAAAAAAAAAAAAACAAAAAAAAAAIAAAAAAAAAAQAAAAAAAAAAAAAAAAAAAAAAAAAAAAAAAAAAAAEAAAAAAAAAAQAAAAAAAAAAAAAAAQAAAAIAAAACAAAAAgAAAAIAAAAAAAAAAAAAAAIAAAAAAAAAAAAAAAEAAAAAAAAAAgAAAAAAAAACAAAAAQAAAAIAAAAAAAAAAAAAAAIAAAAAAAAAAQAAAAAAAAACAAAAAgAAAAAAAAABAAAAAAAAAAAAAAAAAAAAAAAAAAEAAAAAAAAAAQAAAAEAAAAAAAAAAQAAAAEAAAACAAAAAQAAAAAAAAAAAAAAAAAAAAIAAAAAAAAAAQAAAAEAAAACAAAAAAAAAAEAAAABAAAAAQAAAAAAAAABAAAAAQAAAAEAAAABAAAAAgAAAAEAAAAAAAAAAAAAAAAAAAACAAAAAQAAAAIAAAAAAAAAAAAAAAAAAAAAAAAAAQAAAAAAAAABAAAAAAAAAAEAAAAAAAAAAAAAAAAAAAABAAAAAAAAAAAAAAABAAAAAgAAAAEAAAABAAAAAgAAAAAAAAAAAAAAAAAAAAEAAAAAAAAAAgAAAAIAAAACAAAAAAAAAAAAAAAAAAAAAQAAAAIAAAACAAAAAAAAAAAAAAAAAAAAAAAAAAAAAAABAAAAAAAAAAEAAAACAAAAAAAAAAAAAAACAAAAAQAAAAAAAAABAAAAAAAAAAIAAAACAAAAAAAAAAAAAAABAAAAAAAAAAAAAAAAAAAAAAAAAAEAAAAAAAAAAAAAAAIAAAAAAAAAAQAAAAAAAAABAAAAAgAAAAEAAAAAAAAAAAAAAAAAAAAAAAAAAgAAAAIAAAACAAAAAAAAAAEAAAAAAAAAAQAAAAIAAAACAAAAAQAAAAAAAAAAAAAAAAAAAAIAAAACAAAAAAAAAAEAAAACAAAAAAAAAAAAAAAAAAAAAgAAAAAAAAACAAAAAAAAAAEAAAAAAAAAAQAAAAAAAAAAAAAAAgAAAAAAAAABAAAAAAAAAAIAAAAAAAAAAQAAAAAAAAABAAAAAgAAAAAAAAACAAAAAgAAAAAAAAAAAAAAAAAAAAAAAAABAAAAAAAAAAIAAAAAAAAAAAAAAAAAAAAAAAAAAQAAAAAAAAAAAAAAAQAAAAAAAAABAAAAAQAAAAEAAAAAAAAAAAAAAAAAAAAAAAAAAAAAAAEAAAACAAAAAAAAAAEAAAACAAAAAgAAAAAAAAABAAAAAgAAAAAAAAAAAAAAAAAAAAEAAAABAAAAAgAAAAAAAAABAAAAAAAAAAEAAAAAAAAAAAAAAAAAAAACAAAAAgAAAAAAAAAAAAAAAAAAAAEAAAAAAAAAAAAAAAIAAAACAAAAAgAAAAEAAAACAAAAAAAAAAIAAAAAAAAAAQAAAAEAAAAAAAAAAAAAAAAAAAACAAAAAAAAAAEAAAABAAAAAAAAAAAAAAAAAAAAAAAAAAIAAAAAAAAAAgAAAAEAAAABAAAAAgAAAAAAAAABAAAAAAAAAAEAAAAAAAAAAQAAAAAAAAAAAAAAAAAAAAAAAAAAAAAAAQAAAAIAAAABAAAAAAAAAAEAAAAAAAAAAAAAAAAAAAAAAAAAAAAAAAAAAAAAAAAAAgAAAAAAAAAAAAAAAQAAAAAAAAAAAAAAAAAAAAIAAAABAAAAAQAAAAIAAAAAAAAAAAAAAAAAAAACAAAAAAAAAAEAAAACAAAAAQAAAAIAAAAAAAAAAgAAAAAAAAAAAAAAAAAAAAAAAAABAAAAAAAAAAAAAAAAAAAAAAAAAAAAAAABAAAAAAAAAAEAAAABAAAAAAAAAAAAAAABAAAAAQAAAAAAAAAAAAAAAgAAAAEAAAACAAAAAAAAAAEAAAAAAAAAAAAAAAAAAAAAAAAAAgAAAAEAAAAAAAAAAgAAAAAAAAABAAAAAgAAAAAAAAABAAAAAAAAAAAAAAABAAAAAAAAAAAAAAAAAAAAAQAAAAAAAAACAAAAAgAAAAIAAAAAAAAAAAAAAAIAAAACAAAAAgAAAAAAAAAAAAAAAQAAAAEAAAAAAAAAAgAAAAIAAAACAAAAAAAAAAEAAAACAAAAAAAAAAIAAAACAAAAAAAAAAEAAAACAAAAAAAAAAEAAAABAAAAAgAAAAIAAAACAAAAAQAAAAEAAAACAAAAAgAAAAEAAAACAAAAAQAAAAAAAAACAAAAAQAAAAAAAAAAAAAAAQAAAAEAAAAAAAAAAAAAAAAAAAABAAAAAAAAAAAAAAAAAAAAAQAAAAAAAAACAAAAAAAAAAAAAAAAAAAAAAAAAAAAAAABAAAAAgAAAAIAAAACAAAAAQAAAAIAAAAAAAAAAgAAAAAAAAABAAAAAgAAAAAAAAABAAAAAQAAAAAAAAAAAAAAAAAAAAIAAAAAAAAAAgAAAAEAAAABAAAAAQAAAAIAAAAAAAAAAAAAAAAAAAAAAAAAAQAAAAAAAAABAAAAAQAAAAAAAAABAAAAAAAAAAAAAAAAAAAAAAAAAAIAAAAAAAAAAQAAAAEAAAABAAAAAQAAAAEAAAAAAAAAAAAAAAIAAAAAAAAAAAAAAAEAAAACAAAAAAAAAAEAAAAAAAAAAgAAAAEAAAAAAAAAAgAAAAAAAAACAAAAAgAAAAIAAAABAAAAAAAAAAEAAAACAAAAAAAAAAIAAAAAAAAAAAAAAAEAAAAAAAAAAAAAAAIAAAABAAAAAAAAAAAAAAABAAAAAQAAAAIAAAACAAAAAQAAAAIAAAAAAAAAAAAAAAEAAAACAAAAAAAAAAEAAAABAAAAAAAAAAAAAAAAAAAAAgAAAAIAAAAAAAAAAAAAAAAAAAAAAAAAAAAAAAEAAAAAAAAAAQAAAAAAAAABAAAAAgAAAAEAAAAAAAAAAAAAAAIAAAAAAAAAAQAAAAEAAAACAAAAAAAAAAAAAAABAAAAAQAAAAAAAAABAAAAAgAAAAIAAAACAAAAAAAAAAIAAAABAAAAAAAAAAAAAAACAAAAAAAAAAAAAAAAAAAAAAAAAAAAAAAAAAAAAQAAAAIAAAABAAAAAAAAAAAAAAAAAAAAAAAAAAIAAAABAAAAAgAAAAIAAAABAAAAAQAAAAAAAAAAAAAAAQAAAAIAAAAAAAAAAAAAAAIAAAAAAAAAAgAAAAAAAAAAAAAAAAAAAAEAAAACAAAAAAAAAAAAAAAAAAAAAgAAAAAAAAABAAAAAgAAAAIAAAAAAAAAAgAAAAAAAAAAAAAAAQAAAAAAAAABAAAAAAAAAAAAAAABAAAAAAAAAAEAAAABAAAAAgAAAAEAAAACAAAAAAAAAAEAAAACAAAAAAAAAAIAAAAAAAAAAQAAAAEAAAAAAAAAAAAAAAIAAAACAAAAAAAAAAAAAAABAAAAAAAAAAEAAAABAAAAAAAAAAAAAAACAAAAAQAAAAIAAAAAAAAAAAAAAAAAAAACAAAAAAAAAAIAAAAAAAAAAgAAAAEAAAABAAAAAgAAAAAAAAACAAAAAAAAAAEAAAAAAAAAAQAAAAAAAAACAAAAAAAAAAEAAAACAAAAAQAAAAEAAAACAAAAAAAAAAEAAAAAAAAAAgAAAAAAAAAAAAAAAAAAAAAAAAAAAAAAAQAAAAAAAAABAAAAAAAAAAIAAAAAAAAAAAAAAAIAAAAAAAAAAAAAAAAAAAABAAAAAgAAAAAAAAAAAAAAAAAAAAAAAAAAAAAAAgAAAAIAAAABAAAAAAAAAAEAAAAAAAAAAAAAAAIAAAAAAAAAAQAAAAAAAAAAAAAAAgAAAAAAAAABAAAAAAAAAAEAAAAAAAAAAAAAAAAAAAAAAAAAAAAAAAAAAAAAAAAAAgAAAAEAAAAAAAAAAAAAAAAAAAABAAAAAAAAAAAAAAAAAAAAAAAAAAEAAAABAAAAAAAAAAAAAAAAAAAAAQAAAAAAAAACAAAAAQAAAAAAAAAAAAAAAgAAAAAAAAACAAAAAQAAAAIAAAACAAAAAgAAAAEAAAABAAAAAAAAAAIAAAAAAAAAAgAAAAAAAAAAAAAAAAAAAAAAAAAAAAAAAAAAAAAAAAAAAAAAAAAAAAEAAAACAAAAAAAAAAEAAAAAAAAAAQAAAAAAAAACAAAAAAAAAAAAAAAAAAAAAAAAAAAAAAABAAAAAAAAAAEAAAABAAAAAQAAAAAAAAACAAAAAAAAAAEAAAAAAAAAAgAAAAIAAAAAAAAAAAAAAAEAAAACAAAAAAAAAAAAAAAAAAAAAgAAAAAAAAACAAAAAAAAAAEAAAACAAAAAAAAAAEAAAAAAAAAAgAAAAAAAAACAAAAAQAAAAAAAAAAAAAAAAAAAAAAAAAAAAAAAAAAAAAAAAAAAAAAAQAAAAAAAAAAAAAAAAAAAAEAAAABAAAAAAAAAAAAAAAAAAAAAAAAAAAAAAACAAAAAAAAAAAAAAAAAAAAAAAAAAAAAAABAAAAAAAAAAEAAAAAAAAAAQAAAAAAAAAAAAAAAQAAAAAAAAACAAAAAgAAAAIAAAABAAAAAAAAAAIAAAAAAAAAAQAAAAAAAAAAAAAAAQAAAAIAAAACAAAAAAAAAAAAAAAAAAAAAAAAAAAAAAACAAAAAAAAAAIAAAACAAAAAQAAAAEAAAAAAAAAAQAAAAEAAAAAAAAAAQAAAAIAAAACAAAAAQAAAAAAAAAAAAAAAQAAAAIAAAAAAAAAAQAAAAIAAAAAAAAAAgAAAAAAAAABAAAAAAAAAAAAAAAAAAAAAAAAAAEAAAABAAAAAAAAAAEAAAABAAAAAAAAAAIAAAABAAAAAAAAAAEAAAAAAAAAAAAAAAAAAAAAAAAAAQAAAAAAAAAAAAAAAQAAAAIAAAACAAAAAQAAAAAAAAABAAAAAAAAAAIAAAACAAAAAAAAAAAAAAACAAAAAQAAAAEAAAAAAAAAAAAAAAIAAAACAAAAAAAAAAAAAAACAAAAAgAAAAEAAAAAAAAAAAAAAAIAAAABAAAAAAAAAAEAAAACAAAAAAAAAAEAAAAAAAAAAgAAAAEAAAAAAAAAAAAAAAAAAAAAAAAAAAAAAAIAAAAAAAAAAQAAAAAAAAACAAAAAQAAAAAAAAABAAAAAgAAAAEAAAAAAAAAAQAAAAIAAAAAAAAAAQAAAAAAAAAAAAAAAAAAAAAAAAAAAAAAAAAAAAAAAAAAAAAAAAAAAAIAAAABAAAAAAAAAAAAAAAAAAAAAQAAAAAAAAABAAAAAQAAAAIAAAAAAAAAAAAAAAEAAAACAAAAAQAAAAEAAAABAAAAAQAAAAEAAAAAAAAAAgAAAAEAAAAAAAAAAQAAAAIAAAABAAAAAgAAAAAAAAAAAAAAAgAAAAIAAAAAAAAAAAAAAAIAAAABAAAAAAAAAAAAAAAAAAAAAAAAAAAAAAABAAAAAQAAAAEAAAACAAAAAAAAAAEAAAAAAAAAAAAAAAIAAAABAAAAAAAAAAAAAAACAAAAAAAAAAAAAAAAAAAAAAAAAAAAAAABAAAAAQAAAAIAAAAAAAAAAAAAAAIAAAAAAAAAAQAAAAAAAAAAAAAAAQAAAAAAAAAAAAAAAAAAAAEAAAAAAAAAAAAAAAEAAAAAAAAAAQAAAAAAAAABAAAAAAAAAAIAAAAAAAAAAAAAAAEAAAAAAAAAAAAAAAAAAAABAAAAAAAAAAAAAAAAAAAAAAAAAAAAAAAAAAAAAAAAAAAAAAABAAAAAAAAAAAAAAABAAAAAAAAAAAAAAABAAAAAAAAAAIAAAAAAAAAAgAAAAAAAAACAAAAAAAAAAIAAAAAAAAAAgAAAAAAAAABAAAAAQAAAAAAAAABAAAAAQAAAAEAAAACAAAAAAAAAAIAAAABAAAAAAAAAAEAAAACAAAAAAAAAAAAAAAAAAAAAQAAAAAAAAACAAAAAQAAAAIAAAACAAAAAQAAAAAAAAABAAAAAAAAAAAAAAAAAAAAAQAAAAAAAAABAAAAAAAAAAAAAAAAAAAAAQAAAAAAAAAAAAAAAQAAAAAAAAAAAAAAAQAAAAEAAAABAAAAAQAAAAAAAAAAAAAAAAAAAAEAAAABAAAAAQAAAAAAAAABAAAAAAAAAAAAAAACAAAAAAAAAAAAAAAAAAAAAAAAAAAAAAAAAAAAAAAAAAAAAAAAAAAAAAAAAAAAAAACAAAAAAAAAAAAAAACAAAAAAAAAAIAAAAAAAAAAAAAAAAAAAACAAAAAgAAAAEAAAACAAAAAQAAAAIAAAABAAAAAAAAAAEAAAAAAAAAAAAAAAAAAAAAAAAAAgAAAAAAAAACAAAAAQAAAAIAAAAAAAAAAQAAAAEAAAAAAAAAAAAAAAAAAAABAAAAAAAAAAIAAAAAAAAAAAAAAAEAAAAAAAAAAQAAAAAAAAAAAAAAAAAAAAEAAAACAAAAAAAAAAAAAAAAAAAAAAAAAAAAAAAAAAAAAgAAAAAAAAABAAAAAQAAAAAAAAACAAAAAAAAAAIAAAABAAAAAAAAAAEAAAAAAAAAAAAAAAIAAAACAAAAAAAAAAAAAAAAAAAAAAAAAAAAAAAAAAAAAAAAAAIAAAABAAAAAAAAAAEAAAAAAAAAAAAAAAAAAAAAAAAAAAAAAAIAAAAAAAAAAQAAAAAAAAACAAAAAAAAAAIAAAAAAAAAAgAAAAAAAAAAAAAAAAAAAAAAAAACAAAAAQAAAAAAAAABAAAAAQAAAAEAAAAAAAAAAAAAAAAAAAAAAAAAAQAAAAAAAAAAAAAAAQAAAAAAAAACAAAAAQAAAAAAAAAAAAAAAgAAAAAAAAABAAAAAAAAAAEAAAACAAAAAgAAAAIAAAAAAAAAAAAAAAAAAAACAAAAAgAAAAAAAAAAAAAAAgAAAAAAAAAAAAAAAQAAAAAAAAABAAAAAgAAAAAAAAABAAAAAQAAAAIAAAABAAAAAAAAAAEAAAAAAAAAAQAAAAAAAAACAAAAAQAAAAIAAAAAAAAAAgAAAAEAAAAAAAAAAQAAAAAAAAABAAAAAQAAAAAAAAAAAAAAAAAAAAAAAAAAAAAAAAAAAAAAAAAAAAAAAgAAAAAAAAABAAAAAAAAAAIAAAAAAAAAAAAAAAEAAAAAAAAAAAAAAAAAAAAAAAAAAAAAAAAAAAABAAAAAAAAAAEAAAABAAAAAAAAAAIAAAAAAAAAAgAAAAEAAAAAAAAAAgAAAAAAAAAAAAAAAgAAAAAAAAACAAAAAgAAAAAAAAABAAAAAAAAAAAAAAAAAAAAAAAAAAIAAAACAAAAAAAAAAEAAAACAAAAAgAAAAIAAAABAAAAAAAAAAAAAAABAAAAAgAAAAIAAAAAAAAAAAAAAAAAAAABAAAAAAAAAAAAAAAAAAAAAAAAAAAAAAAAAAAAAQAAAAAAAAAAAAAAAAAAAAEAAAAAAAAAAgAAAAAAAAAAAAAAAgAAAAIAAAAAAAAAAAAAAAAAAAAAAAAAAQAAAAAAAAACAAAAAgAAAAEAAAABAAAAAAAAAAAAAAAAAAAAAAAAAAAAAAABAAAAAQAAAAEAAAABAAAAAgAAAAAAAAAAAAAAAAAAAAIAAAABAAAAAQAAAAIAAAABAAAAAQAAAAIAAAABAAAAAQAAAAEAAAAAAAAAAgAAAAAAAAABAAAAAAAAAAAAAAABAAAAAAAAAAEAAAAAAAAAAAAAAAAAAAACAAAAAAAAAAAAAAACAAAAAAAAAAAAAAAAAAAAAgAAAAAAAAAAAAAAAQAAAAIAAAAAAAAAAAAAAAAAAAAAAAAAAgAAAAIAAAACAAAAAAAAAAAAAAACAAAAAAAAAAAAAAAAAAAAAAAAAAIAAAACAAAAAQAAAAAAAAACAAAAAQAAAAIAAAACAAAAAAAAAAAAAAAAAAAAAQAAAAIAAAAAAAAAAAAAAAAAAAAAAAAAAQAAAAAAAAABAAAAAAAAAAEAAAAAAAAAAAAAAAIAAAAAAAAAAAAAAAIAAAABAAAAAAAAAAIAAAAAAAAAAQAAAAAAAAACAAAAAAAAAAEAAAACAAAAAAAAAAAAAAABAAAAAQAAAAIAAAABAAAAAAAAAAAAAAAAAAAAAQAAAAIAAAAAAAAAAQAAAAAAAAAAAAAAAAAAAAEAAAABAAAAAgAAAAAAAAACAAAAAgAAAAAAAAAAAAAAAQAAAAAAAAACAAAAAAAAAAEAAAABAAAAAQAAAAEAAAABAAAAAQAAAAAAAAAAAAAAAAAAAAAAAAABAAAAAAAAAAIAAAACAAAAAAAAAAEAAAAAAAAAAAAAAAAAAAAAAAAAAQAAAAIAAAABAAAAAQAAAAAAAAABAAAAAAAAAAIAAAABAAAAAgAAAAIAAAAAAAAAAQAAAAAAAAABAAAAAQAAAAAAAAACAAAAAgAAAAAAAAAAAAAAAgAAAAAAAAAAAAAAAAAAAAEAAAAAAAAAAAAAAAAAAAAAAAAAAAAAAAAAAAAAAAAAAAAAAAEAAAAAAAAAAgAAAAEAAAAAAAAAAAAAAAIAAAAAAAAAAAAAAAAAAAACAAAAAAAAAAAAAAAAAAAAAQAAAAAAAAABAAAAAQAAAAIAAAACAAAAAQAAAAIAAAACAAAAAQAAAAEAAAAAAAAAAQAAAAAAAAAAAAAAAAAAAAAAAAAAAAAAAAAAAAIAAAACAAAAAQAAAAAAAAACAAAAAQAAAAIAAAABAAAAAQAAAAAAAAACAAAAAAAAAAAAAAABAAAAAgAAAAAAAAABAAAAAQAAAAAAAAACAAAAAAAAAAEAAAACAAAAAgAAAAEAAAAAAAAAAgAAAAIAAAABAAAAAAAAAAAAAAAAAAAAAQAAAAIAAAAAAAAAAAAAAAAAAAABAAAAAgAAAAIAAAAAAAAAAQAAAAEAAAAAAAAAAAAAAAEAAAACAAAAAAAAAAAAAAACAAAAAAAAAAEAAAABAAAAAgAAAAIAAAAAAAAAAAAAAAEAAAAAAAAAAgAAAAEAAAAAAAAAAQAAAAAAAAAAAAAAAQAAAAAAAAACAAAAAgAAAAIAAAAAAAAAAAAAAAAAAAAAAAAAAAAAAAIAAAAAAAAAAgAAAAAAAAAAAAAAAgAAAAEAAAABAAAAAgAAAAAAAAACAAAAAAAAAAAAAAAAAAAAAQAAAAAAAAABAAAAAgAAAAIAAAAAAAAAAAAAAAEAAAABAAAAAAAAAAEAAAAAAAAAAgAAAAAAAAAAAAAAAAAAAAAAAAAAAAAAAAAAAAIAAAAAAAAAAAAAAAEAAAABAAAAAQAAAAAAAAAAAAAAAQAAAAAAAAAAAAAAAgAAAAIAAAAAAAAAAgAAAAAAAAAAAAAAAAAAAAEAAAABAAAAAQAAAAAAAAAAAAAAAgAAAAIAAAABAAAAAgAAAAEAAAAAAAAAAgAAAAIAAAAAAAAAAgAAAAEAAAABAAAAAAAAAAIAAAAAAAAAAAAAAAAAAAAAAAAAAQAAAAEAAAAAAAAAAAAAAAAAAAAAAAAAAQAAAAAAAAACAAAAAgAAAAEAAAABAAAAAAAAAAIAAAAAAAAAAAAAAAAAAAABAAAAAgAAAAAAAAACAAAAAAAAAAEAAAAAAAAAAAAAAAIAAAABAAAAAAAAAAAAAAABAAAAAgAAAAIAAAAAAAAAAAAAAAAAAAAAAAAAAQAAAAEAAAAAAAAAAQAAAAAAAAAAAAAAAAAAAAAAAAAAAAAAAAAAAAAAAAABAAAAAAAAAAIAAAAAAAAAAAAAAAAAAAABAAAAAAAAAAAAAAABAAAAAQAAAAAAAAAAAAAAAAAAAAAAAAAAAAAAAAAAAAAAAAABAAAAAAAAAAAAAAAAAAAAAAAAAAIAAAABAAAAAQAAAAAAAAAAAAAAAQAAAAAAAAABAAAAAgAAAAEAAAAAAAAAAAAAAAEAAAAAAAAAAQAAAAAAAAACAAAAAAAAAAIAAAABAAAAAAAAAAIAAAAAAAAAAAAAAAAAAAABAAAAAQAAAAEAAAAAAAAAAAAAAAAAAAAAAAAAAQAAAAAAAAABAAAAAAAAAAAAAAAAAAAAAgAAAAAAAAAAAAAAAgAAAAIAAAAAAAAAAgAAAAAAAAAAAAAAAAAAAAAAAAAAAAAAAQAAAAAAAAAAAAAAAQAAAAEAAAACAAAAAAAAAAIAAAAAAAAAAQAAAAAAAAABAAAAAAAAAAEAAAAAAAAAAQAAAAAAAAAAAAAAAAAAAAIAAAAAAAAAAQAAAAEAAAAAAAAAAAAAAAIAAAAAAAAAAAAAAAAAAAACAAAAAQAAAAEAAAAAAAAAAAAAAAAAAAACAAAAAQAAAAEAAAABAAAAAAAAAAEAAAACAAAAAAAAAAAAAAACAAAAAAAAAAAAAAAAAAAAAAAAAAAAAAACAAAAAAAAAAIAAAABAAAAAAAAAAAAAAACAAAAAgAAAAAAAAAAAAAAAQAAAAIAAAAAAAAAAAAAAAIAAAABAAAAAAAAAAEAAAAAAAAAAgAAAAAAAAABAAAAAAAAAAAAAAAAAAAAAAAAAAEAAAAAAAAAAQAAAAAAAAABAAAAAAAAAAAAAAACAAAAAQAAAAIAAAAAAAAAAAAAAAAAAAAAAAAAAQAAAAEAAAAAAAAAAAAAAAAAAAAAAAAAAAAAAAAAAAAAAAAAAQAAAAIAAAACAAAAAAAAAAIAAAACAAAAAAAAAAIAAAAAAAAAAAAAAAEAAAAAAAAAAAAAAAAAAAACAAAAAAAAAAAAAAABAAAAAgAAAAIAAAAAAAAAAAAAAAAAAAAAAAAAAgAAAAAAAAACAAAAAQAAAAAAAAAAAAAAAgAAAAEAAAACAAAAAAAAAAAAAAAAAAAAAgAAAAAAAAAAAAAAAAAAAAAAAAAAAAAAAQAAAAEAAAAAAAAAAAAAAAAAAAACAAAAAAAAAAAAAAACAAAAAQAAAAAAAAABAAAAAAAAAAAAAAAAAAAAAQAAAAEAAAACAAAAAQAAAAAAAAAAAAAAAAAAAAEAAAAAAAAAAgAAAAEAAAAAAAAAAgAAAAAAAAACAAAAAAAAAAAAAAABAAAAAgAAAAAAAAABAAAAAQAAAAAAAAAAAAAAAAAAAAAAAAAAAAAAAAAAAAAAAAAAAAAAAAAAAAAAAAAAAAAAAAAAAAEAAAACAAAAAAAAAAAAAAAAAAAAAAAAAAAAAAABAAAAAgAAAAAAAAAAAAAAAAAAAAIAAAACAAAAAAAAAAAAAAABAAAAAAAAAAAAAAABAAAAAAAAAAAAAAACAAAAAAAAAAEAAAABAAAAAgAAAAAAAAACAAAAAAAAAAIAAAACAAAAAAAAAAAAAAAAAAAAAAAAAAAAAAAAAAAAAgAAAAAAAAACAAAAAgAAAAIAAAACAAAAAgAAAAEAAAACAAAAAAAAAAAAAAAAAAAAAQAAAAAAAAACAAAAAQAAAAAAAAACAAAAAAAAAAEAAAABAAAAAAAAAAEAAAAAAAAAAQAAAAEAAAAAAAAAAQAAAAIAAAAAAAAAAAAAAAEAAAABAAAAAQAAAAAAAAAAAAAAAgAAAAAAAAABAAAAAAAAAAAAAAAAAAAAAAAAAAAAAAACAAAAAgAAAAAAAAACAAAAAQAAAAAAAAAAAAAAAQAAAAAAAAABAAAAAgAAAAEAAAABAAAAAgAAAAAAAAACAAAAAAAAAAEAAAACAAAAAAAAAAAAAAAAAAAAAQAAAAAAAAAAAAAAAAAAAAIAAAACAAAAAAAAAAAAAAABAAAAAgAAAAIAAAABAAAAAAAAAAAAAAAAAAAAAQAAAAEAAAAAAAAAAAAAAAIAAAAAAAAAAAAAAAEAAAAAAAAAAgAAAAAAAAABAAAAAAAAAAAAAAABAAAAAAAAAAAAAAAAAAAAAAAAAAAAAAAAAAAAAAAAAAAAAAACAAAAAAAAAAEAAAACAAAAAAAAAAAAAAAAAAAAAgAAAAAAAAABAAAAAQAAAAAAAAACAAAAAAAAAAIAAAACAAAAAgAAAAAAAAABAAAAAgAAAAAAAAAAAAAAAAAAAAAAAAAAAAAAAgAAAAEAAAAAAAAAAAAAAAAAAAACAAAAAgAAAAIAAAAAAAAAAgAAAAAAAAABAAAAAAAAAAAAAAAAAAAAAAAAAAEAAAAAAAAAAQAAAAAAAAAAAAAAAAAAAAEAAAACAAAAAAAAAAAAAAAAAAAAAQAAAAAAAAABAAAAAAAAAAIAAAAAAAAAAQAAAAEAAAACAAAAAAAAAAAAAAAAAAAAAQAAAAEAAAAAAAAAAAAAAAAAAAAAAAAAAAAAAAAAAAACAAAAAAAAAAAAAAABAAAAAQAAAAEAAAAAAAAAAAAAAAIAAAAAAAAAAgAAAAIAAAABAAAAAQAAAAAAAAAAAAAAAAAAAAAAAAAAAAAAAAAAAAAAAAACAAAAAAAAAAAAAAAAAAAAAAAAAAAAAAABAAAAAAAAAAAAAAACAAAAAAAAAAEAAAABAAAAAgAAAAEAAAACAAAAAQAAAAAAAAACAAAAAAAAAAEAAAABAAAAAAAAAAAAAAACAAAAAAAAAAIAAAAAAAAAAQAAAAAAAAAAAAAAAgAAAAIAAAAAAAAAAAAAAAIAAAAAAAAAAQAAAAAAAAACAAAAAgAAAAEAAAAAAAAAAQAAAAAAAAABAAAAAAAAAAEAAAAAAAAAAAAAAAIAAAAAAAAAAAAAAAEAAAABAAAAAAAAAAIAAAAAAAAAAAAAAAAAAAACAAAAAQAAAAIAAAAAAAAAAAAAAAAAAAAAAAAAAQAAAAEAAAAAAAAAAAAAAAEAAAAAAAAAAQAAAAEAAAAAAAAAAAAAAAAAAAABAAAAAgAAAAEAAAAAAAAAAQAAAAEAAAAAAAAAAAAAAAIAAAAAAAAAAQAAAAAAAAAAAAAAAAAAAAAAAAAAAAAAAgAAAAEAAAAAAAAAAAAAAAEAAAABAAAAAAAAAAEAAAABAAAAAAAAAAAAAAACAAAAAAAAAAAAAAACAAAAAAAAAAEAAAAAAAAAAQAAAAAAAAACAAAAAAAAAAAAAAABAAAAAAAAAAEAAAAAAAAAAAAAAAAAAAAAAAAAAAAAAAIAAAABAAAAAAAAAAIAAAAAAAAAAAAAAAEAAAAAAAAAAAAAAAIAAAABAAAAAAAAAAIAAAAAAAAAAAAAAAAAAAABAAAAAgAAAAIAAAAAAAAAAgAAAAAAAAACAAAAAAAAAAAAAAACAAAAAAAAAAIAAAABAAAAAAAAAAIAAAAAAAAAAgAAAAEAAAAAAAAAAAAAAAIAAAAAAAAAAgAAAAEAAAAAAAAAAAAAAAEAAAAAAAAAAgAAAAEAAAABAAAAAgAAAAEAAAACAAAAAAAAAAEAAAACAAAAAQAAAAEAAAABAAAAAAAAAAAAAAABAAAAAQAAAAEAAAAAAAAAAgAAAAIAAAAAAAAAAAAAAAIAAAAAAAAAAAAAAAAAAAAAAAAAAAAAAAIAAAACAAAAAAAAAAIAAAABAAAAAAAAAAEAAAABAAAAAgAAAAIAAAAAAAAAAAAAAAEAAAAAAAAAAQAAAAAAAAACAAAAAQAAAAAAAAAAAAAAAgAAAAEAAAAAAAAAAQAAAAAAAAAAAAAAAAAAAAIAAAAAAAAAAQAAAAAAAAAAAAAAAQAAAAAAAAACAAAAAgAAAAIAAAAAAAAAAAAAAAIAAAAAAAAAAAAAAAAAAAACAAAAAQAAAAAAAAAAAAAAAAAAAAAAAAAAAAAAAgAAAAIAAAAAAAAAAQAAAAAAAAAAAAAAAAAAAAEAAAAAAAAAAQAAAAAAAAABAAAAAQAAAAIAAAAAAAAAAQAAAAIAAAAAAAAAAQAAAAIAAAABAAAAAQAAAAAAAAABAAAAAQAAAAIAAAACAAAAAAAAAAIAAAAAAAAAAAAAAAEAAAABAAAAAQAAAAAAAAABAAAAAAAAAAAAAAACAAAAAAAAAAEAAAABAAAAAAAAAAAAAAAAAAAAAQAAAAAAAAABAAAAAAAAAAAAAAAAAAAAAAAAAAIAAAABAAAAAgAAAAAAAAAAAAAAAAAAAAAAAAAAAAAAAgAAAAAAAAAAAAAAAAAAAAEAAAAAAAAAAAAAAAEAAAAAAAAAAQAAAAAAAAAAAAAAAQAAAAEAAAAAAAAAAAAAAAEAAAAAAAAAAAAAAAAAAAABAAAAAQAAAAEAAAAAAAAAAAAAAAIAAAABAAAAAAAAAAAAAAAAAAAAAQAAAAAAAAABAAAAAQAAAAAAAAABAAAAAgAAAAAAAAAAAAAAAQAAAAAAAAAAAAAAAgAAAAEAAAABAAAAAQAAAAAAAAAAAAAAAgAAAAAAAAAAAAAAAAAAAAEAAAAAAAAAAAAAAAEAAAAAAAAAAAAAAAAAAAAAAAAAAQAAAAAAAAAAAAAAAgAAAAIAAAAAAAAAAQAAAAEAAAAAAAAAAQAAAAAAAAAAAAAAAgAAAAEAAAAAAAAAAgAAAAAAAAAAAAAAAQAAAAEAAAABAAAAAgAAAAEAAAACAAAAAAAAAAAAAAAAAAAAAAAAAAEAAAABAAAAAAAAAAIAAAACAAAAAQAAAAIAAAAAAAAAAAAAAAAAAAAAAAAAAQAAAAEAAAAAAAAAAAAAAAEAAAAAAAAAAQAAAAAAAAAAAAAAAAAAAAAAAAABAAAAAAAAAAEAAAAAAAAAAAAAAAEAAAABAAAAAAAAAAIAAAABAAAAAAAAAAAAAAAAAAAAAAAAAAAAAAAAAAAAAgAAAAAAAAABAAAAAAAAAAIAAAAAAAAAAQAAAAAAAAACAAAAAAAAAAAAAAAAAAAAAgAAAAAAAAABAAAAAgAAAAIAAAACAAAAAgAAAAAAAAABAAAAAAAAAAEAAAACAAAAAAAAAAEAAAABAAAAAAAAAAEAAAAAAAAAAgAAAAAAAAABAAAAAQAAAAAAAAAAAAAAAgAAAAAAAAABAAAAAQAAAAAAAAAAAAAAAAAAAAEAAAACAAAAAQAAAAAAAAAAAAAAAQAAAAEAAAAAAAAAAgAAAAIAAAAAAAAAAQAAAAIAAAAAAAAAAAAAAAIAAAAAAAAAAgAAAAIAAAACAAAAAAAAAAAAAAAAAAAAAQAAAAAAAAAAAAAAAgAAAAIAAAACAAAAAAAAAAEAAAAAAAAAAAAAAAEAAAAAAAAAAgAAAAAAAAAAAAAAAAAAAAAAAAAAAAAAAQAAAAEAAAAAAAAAAgAAAA==",
           "dtype": "i4"
          },
          "coloraxis": "coloraxis",
          "opacity": 0.99,
          "symbol": "circle"
         },
         "mode": "markers",
         "name": "",
         "scene": "scene",
         "showlegend": false,
         "type": "scatter3d",
         "x": {
          "bdata": "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",
          "dtype": "f8"
         },
         "y": {
          "bdata": "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",
          "dtype": "i2"
         },
         "z": {
          "bdata": "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",
          "dtype": "f8"
         }
        }
       ],
       "layout": {
        "coloraxis": {
         "colorbar": {
          "title": {
           "text": "cluster_id"
          }
         },
         "colorscale": [
          [
           0,
           "#fde725"
          ],
          [
           0.1111111111111111,
           "#b5de2b"
          ],
          [
           0.2222222222222222,
           "#6ece58"
          ],
          [
           0.3333333333333333,
           "#35b779"
          ],
          [
           0.4444444444444444,
           "#1f9e89"
          ],
          [
           0.5555555555555556,
           "#26828e"
          ],
          [
           0.6666666666666666,
           "#31688e"
          ],
          [
           0.7777777777777778,
           "#3e4989"
          ],
          [
           0.8888888888888888,
           "#482878"
          ],
          [
           1,
           "#440154"
          ]
         ]
        },
        "font": {
         "color": "white"
        },
        "height": 1200,
        "legend": {
         "tracegroupgap": 0
        },
        "paper_bgcolor": "rgb(28, 28, 28)",
        "plot_bgcolor": "rgb(28, 28, 28)",
        "scene": {
         "domain": {
          "x": [
           0,
           1
          ],
          "y": [
           0,
           1
          ]
         },
         "xaxis": {
          "title": {
           "text": "Revenue"
          }
         },
         "yaxis": {
          "title": {
           "text": "Recency"
          }
         },
         "zaxis": {
          "title": {
           "text": "Frequency"
          }
         }
        },
        "template": {
         "data": {
          "bar": [
           {
            "error_x": {
             "color": "#2a3f5f"
            },
            "error_y": {
             "color": "#2a3f5f"
            },
            "marker": {
             "line": {
              "color": "#E5ECF6",
              "width": 0.5
             },
             "pattern": {
              "fillmode": "overlay",
              "size": 10,
              "solidity": 0.2
             }
            },
            "type": "bar"
           }
          ],
          "barpolar": [
           {
            "marker": {
             "line": {
              "color": "#E5ECF6",
              "width": 0.5
             },
             "pattern": {
              "fillmode": "overlay",
              "size": 10,
              "solidity": 0.2
             }
            },
            "type": "barpolar"
           }
          ],
          "carpet": [
           {
            "aaxis": {
             "endlinecolor": "#2a3f5f",
             "gridcolor": "white",
             "linecolor": "white",
             "minorgridcolor": "white",
             "startlinecolor": "#2a3f5f"
            },
            "baxis": {
             "endlinecolor": "#2a3f5f",
             "gridcolor": "white",
             "linecolor": "white",
             "minorgridcolor": "white",
             "startlinecolor": "#2a3f5f"
            },
            "type": "carpet"
           }
          ],
          "choropleth": [
           {
            "colorbar": {
             "outlinewidth": 0,
             "ticks": ""
            },
            "type": "choropleth"
           }
          ],
          "contour": [
           {
            "colorbar": {
             "outlinewidth": 0,
             "ticks": ""
            },
            "colorscale": [
             [
              0,
              "#0d0887"
             ],
             [
              0.1111111111111111,
              "#46039f"
             ],
             [
              0.2222222222222222,
              "#7201a8"
             ],
             [
              0.3333333333333333,
              "#9c179e"
             ],
             [
              0.4444444444444444,
              "#bd3786"
             ],
             [
              0.5555555555555556,
              "#d8576b"
             ],
             [
              0.6666666666666666,
              "#ed7953"
             ],
             [
              0.7777777777777778,
              "#fb9f3a"
             ],
             [
              0.8888888888888888,
              "#fdca26"
             ],
             [
              1,
              "#f0f921"
             ]
            ],
            "type": "contour"
           }
          ],
          "contourcarpet": [
           {
            "colorbar": {
             "outlinewidth": 0,
             "ticks": ""
            },
            "type": "contourcarpet"
           }
          ],
          "heatmap": [
           {
            "colorbar": {
             "outlinewidth": 0,
             "ticks": ""
            },
            "colorscale": [
             [
              0,
              "#0d0887"
             ],
             [
              0.1111111111111111,
              "#46039f"
             ],
             [
              0.2222222222222222,
              "#7201a8"
             ],
             [
              0.3333333333333333,
              "#9c179e"
             ],
             [
              0.4444444444444444,
              "#bd3786"
             ],
             [
              0.5555555555555556,
              "#d8576b"
             ],
             [
              0.6666666666666666,
              "#ed7953"
             ],
             [
              0.7777777777777778,
              "#fb9f3a"
             ],
             [
              0.8888888888888888,
              "#fdca26"
             ],
             [
              1,
              "#f0f921"
             ]
            ],
            "type": "heatmap"
           }
          ],
          "histogram": [
           {
            "marker": {
             "pattern": {
              "fillmode": "overlay",
              "size": 10,
              "solidity": 0.2
             }
            },
            "type": "histogram"
           }
          ],
          "histogram2d": [
           {
            "colorbar": {
             "outlinewidth": 0,
             "ticks": ""
            },
            "colorscale": [
             [
              0,
              "#0d0887"
             ],
             [
              0.1111111111111111,
              "#46039f"
             ],
             [
              0.2222222222222222,
              "#7201a8"
             ],
             [
              0.3333333333333333,
              "#9c179e"
             ],
             [
              0.4444444444444444,
              "#bd3786"
             ],
             [
              0.5555555555555556,
              "#d8576b"
             ],
             [
              0.6666666666666666,
              "#ed7953"
             ],
             [
              0.7777777777777778,
              "#fb9f3a"
             ],
             [
              0.8888888888888888,
              "#fdca26"
             ],
             [
              1,
              "#f0f921"
             ]
            ],
            "type": "histogram2d"
           }
          ],
          "histogram2dcontour": [
           {
            "colorbar": {
             "outlinewidth": 0,
             "ticks": ""
            },
            "colorscale": [
             [
              0,
              "#0d0887"
             ],
             [
              0.1111111111111111,
              "#46039f"
             ],
             [
              0.2222222222222222,
              "#7201a8"
             ],
             [
              0.3333333333333333,
              "#9c179e"
             ],
             [
              0.4444444444444444,
              "#bd3786"
             ],
             [
              0.5555555555555556,
              "#d8576b"
             ],
             [
              0.6666666666666666,
              "#ed7953"
             ],
             [
              0.7777777777777778,
              "#fb9f3a"
             ],
             [
              0.8888888888888888,
              "#fdca26"
             ],
             [
              1,
              "#f0f921"
             ]
            ],
            "type": "histogram2dcontour"
           }
          ],
          "mesh3d": [
           {
            "colorbar": {
             "outlinewidth": 0,
             "ticks": ""
            },
            "type": "mesh3d"
           }
          ],
          "parcoords": [
           {
            "line": {
             "colorbar": {
              "outlinewidth": 0,
              "ticks": ""
             }
            },
            "type": "parcoords"
           }
          ],
          "pie": [
           {
            "automargin": true,
            "type": "pie"
           }
          ],
          "scatter": [
           {
            "fillpattern": {
             "fillmode": "overlay",
             "size": 10,
             "solidity": 0.2
            },
            "type": "scatter"
           }
          ],
          "scatter3d": [
           {
            "line": {
             "colorbar": {
              "outlinewidth": 0,
              "ticks": ""
             }
            },
            "marker": {
             "colorbar": {
              "outlinewidth": 0,
              "ticks": ""
             }
            },
            "type": "scatter3d"
           }
          ],
          "scattercarpet": [
           {
            "marker": {
             "colorbar": {
              "outlinewidth": 0,
              "ticks": ""
             }
            },
            "type": "scattercarpet"
           }
          ],
          "scattergeo": [
           {
            "marker": {
             "colorbar": {
              "outlinewidth": 0,
              "ticks": ""
             }
            },
            "type": "scattergeo"
           }
          ],
          "scattergl": [
           {
            "marker": {
             "colorbar": {
              "outlinewidth": 0,
              "ticks": ""
             }
            },
            "type": "scattergl"
           }
          ],
          "scattermap": [
           {
            "marker": {
             "colorbar": {
              "outlinewidth": 0,
              "ticks": ""
             }
            },
            "type": "scattermap"
           }
          ],
          "scattermapbox": [
           {
            "marker": {
             "colorbar": {
              "outlinewidth": 0,
              "ticks": ""
             }
            },
            "type": "scattermapbox"
           }
          ],
          "scatterpolar": [
           {
            "marker": {
             "colorbar": {
              "outlinewidth": 0,
              "ticks": ""
             }
            },
            "type": "scatterpolar"
           }
          ],
          "scatterpolargl": [
           {
            "marker": {
             "colorbar": {
              "outlinewidth": 0,
              "ticks": ""
             }
            },
            "type": "scatterpolargl"
           }
          ],
          "scatterternary": [
           {
            "marker": {
             "colorbar": {
              "outlinewidth": 0,
              "ticks": ""
             }
            },
            "type": "scatterternary"
           }
          ],
          "surface": [
           {
            "colorbar": {
             "outlinewidth": 0,
             "ticks": ""
            },
            "colorscale": [
             [
              0,
              "#0d0887"
             ],
             [
              0.1111111111111111,
              "#46039f"
             ],
             [
              0.2222222222222222,
              "#7201a8"
             ],
             [
              0.3333333333333333,
              "#9c179e"
             ],
             [
              0.4444444444444444,
              "#bd3786"
             ],
             [
              0.5555555555555556,
              "#d8576b"
             ],
             [
              0.6666666666666666,
              "#ed7953"
             ],
             [
              0.7777777777777778,
              "#fb9f3a"
             ],
             [
              0.8888888888888888,
              "#fdca26"
             ],
             [
              1,
              "#f0f921"
             ]
            ],
            "type": "surface"
           }
          ],
          "table": [
           {
            "cells": {
             "fill": {
              "color": "#EBF0F8"
             },
             "line": {
              "color": "white"
             }
            },
            "header": {
             "fill": {
              "color": "#C8D4E3"
             },
             "line": {
              "color": "white"
             }
            },
            "type": "table"
           }
          ]
         },
         "layout": {
          "annotationdefaults": {
           "arrowcolor": "#2a3f5f",
           "arrowhead": 0,
           "arrowwidth": 1
          },
          "autotypenumbers": "strict",
          "coloraxis": {
           "colorbar": {
            "outlinewidth": 0,
            "ticks": ""
           }
          },
          "colorscale": {
           "diverging": [
            [
             0,
             "#8e0152"
            ],
            [
             0.1,
             "#c51b7d"
            ],
            [
             0.2,
             "#de77ae"
            ],
            [
             0.3,
             "#f1b6da"
            ],
            [
             0.4,
             "#fde0ef"
            ],
            [
             0.5,
             "#f7f7f7"
            ],
            [
             0.6,
             "#e6f5d0"
            ],
            [
             0.7,
             "#b8e186"
            ],
            [
             0.8,
             "#7fbc41"
            ],
            [
             0.9,
             "#4d9221"
            ],
            [
             1,
             "#276419"
            ]
           ],
           "sequential": [
            [
             0,
             "#0d0887"
            ],
            [
             0.1111111111111111,
             "#46039f"
            ],
            [
             0.2222222222222222,
             "#7201a8"
            ],
            [
             0.3333333333333333,
             "#9c179e"
            ],
            [
             0.4444444444444444,
             "#bd3786"
            ],
            [
             0.5555555555555556,
             "#d8576b"
            ],
            [
             0.6666666666666666,
             "#ed7953"
            ],
            [
             0.7777777777777778,
             "#fb9f3a"
            ],
            [
             0.8888888888888888,
             "#fdca26"
            ],
            [
             1,
             "#f0f921"
            ]
           ],
           "sequentialminus": [
            [
             0,
             "#0d0887"
            ],
            [
             0.1111111111111111,
             "#46039f"
            ],
            [
             0.2222222222222222,
             "#7201a8"
            ],
            [
             0.3333333333333333,
             "#9c179e"
            ],
            [
             0.4444444444444444,
             "#bd3786"
            ],
            [
             0.5555555555555556,
             "#d8576b"
            ],
            [
             0.6666666666666666,
             "#ed7953"
            ],
            [
             0.7777777777777778,
             "#fb9f3a"
            ],
            [
             0.8888888888888888,
             "#fdca26"
            ],
            [
             1,
             "#f0f921"
            ]
           ]
          },
          "colorway": [
           "#636efa",
           "#EF553B",
           "#00cc96",
           "#ab63fa",
           "#FFA15A",
           "#19d3f3",
           "#FF6692",
           "#B6E880",
           "#FF97FF",
           "#FECB52"
          ],
          "font": {
           "color": "#2a3f5f"
          },
          "geo": {
           "bgcolor": "white",
           "lakecolor": "white",
           "landcolor": "#E5ECF6",
           "showlakes": true,
           "showland": true,
           "subunitcolor": "white"
          },
          "hoverlabel": {
           "align": "left"
          },
          "hovermode": "closest",
          "mapbox": {
           "style": "light"
          },
          "paper_bgcolor": "white",
          "plot_bgcolor": "#E5ECF6",
          "polar": {
           "angularaxis": {
            "gridcolor": "white",
            "linecolor": "white",
            "ticks": ""
           },
           "bgcolor": "#E5ECF6",
           "radialaxis": {
            "gridcolor": "white",
            "linecolor": "white",
            "ticks": ""
           }
          },
          "scene": {
           "xaxis": {
            "backgroundcolor": "#E5ECF6",
            "gridcolor": "white",
            "gridwidth": 2,
            "linecolor": "white",
            "showbackground": true,
            "ticks": "",
            "zerolinecolor": "white"
           },
           "yaxis": {
            "backgroundcolor": "#E5ECF6",
            "gridcolor": "white",
            "gridwidth": 2,
            "linecolor": "white",
            "showbackground": true,
            "ticks": "",
            "zerolinecolor": "white"
           },
           "zaxis": {
            "backgroundcolor": "#E5ECF6",
            "gridcolor": "white",
            "gridwidth": 2,
            "linecolor": "white",
            "showbackground": true,
            "ticks": "",
            "zerolinecolor": "white"
           }
          },
          "shapedefaults": {
           "line": {
            "color": "#2a3f5f"
           }
          },
          "ternary": {
           "aaxis": {
            "gridcolor": "white",
            "linecolor": "white",
            "ticks": ""
           },
           "baxis": {
            "gridcolor": "white",
            "linecolor": "white",
            "ticks": ""
           },
           "bgcolor": "#E5ECF6",
           "caxis": {
            "gridcolor": "white",
            "linecolor": "white",
            "ticks": ""
           }
          },
          "title": {
           "x": 0.05
          },
          "xaxis": {
           "automargin": true,
           "gridcolor": "white",
           "linecolor": "white",
           "ticks": "",
           "title": {
            "standoff": 15
           },
           "zerolinecolor": "white",
           "zerolinewidth": 2
          },
          "yaxis": {
           "automargin": true,
           "gridcolor": "white",
           "linecolor": "white",
           "ticks": "",
           "title": {
            "standoff": 15
           },
           "zerolinecolor": "white",
           "zerolinewidth": 2
          }
         }
        },
        "title": {
         "text": "3D Interactive Cluster Plot"
        },
        "width": 1200
       }
      }
     },
     "metadata": {},
     "output_type": "display_data"
    }
   ],
   "source": [
    "import plotly.express as px\n",
    "\n",
    "# Create 3D scatter plot using Plotly\n",
    "fig = px.scatter_3d(grouped_df, x='monetary_value', y='recency', z='frequency',\n",
    "                    color='cluster_id',  # Color by cluster\n",
    "                    title=\"3D Interactive Cluster Plot\",\n",
    "                    labels={'monetary_value': 'Revenue', 'recency': 'Recency', 'frequency': 'Frequency'},\n",
    "                    opacity=0.99, color_continuous_scale='viridis_r')\n",
    "\n",
    "# Set the figure size (width, height) and background color\n",
    "fig.update_layout(\n",
    "    width=1200,  # Width of the plot\n",
    "    height=1200,  # Height of the plot\n",
    "    plot_bgcolor='rgb(28, 28, 28)',  # Dark background for the plot\n",
    "    paper_bgcolor='rgb(28, 28, 28)',  # Dark background for the entire paper\n",
    "    font=dict(color='white')  # White font color for visibility\n",
    ")\n",
    "\n",
    "# Show the plot\n",
    "fig.show()\n"
   ]
  },
  {
   "cell_type": "markdown",
   "metadata": {},
   "source": [
    "The K-Means algorithm effectively groups customers into three actionable segments based on their RFM (Recency, Frequency, Monetary) scores.\n",
    "\n",
    "### Cluster 0 (Purple): The High-Value, Loyal Customers (Champions)\n",
    "\n",
    "*   **Identity:** These are the best customers, defined by high frequency, high spending, and low recency (they've purchased recently). They represent the loyal core of the business.\n",
    "*   **Actionable Insights:** Reward them with a VIP/loyalty program. Use personalized communication instead of generic promotions and seek their feedback for service improvements.\n",
    "\n",
    "### Cluster 1 (Yellow): The Recent, Promising Customers (Potential Loyalists)\n",
    "\n",
    "*   **Identity:** This group's defining trait is their recent purchasing activity (low recency), but they currently have low-to-mid frequency and spending. They are a key growth opportunity.\n",
    "*   **Actionable Insights:** The goal is to increase their loyalty. Encourage repeat purchases with follow-up offers and personalized product recommendations to build buying habits.\n",
    "\n",
    "### Cluster 2 (Teal/Green): The At-Risk / Lapsed Customers\n",
    "\n",
    "*   **Identity:** This segment requires re-engagement. They are defined by high recency (it has been a long time since their last purchase) and low frequency and revenue.\n",
    "*   **Actionable Insights:** Target them with \"We Miss You!\" win-back campaigns that include special offers. Use low-cost channels like email and survey them to understand the reasons for churn.\n",
    "\n",
    "\n",
    "### **Overall Conclusion from the Plot**\n",
    "\n",
    "The K-Means algorithm has done an excellent job of creating three distinct and, most importantly, **actionable** customer segments. The visualization clearly separates the **\"Best Customers\" (purple)**, the **\"New/Potential Customers\" (yellow)**, and the **\"Lapsed Customers\" (teal)**, allowing the business to design highly targeted and efficient marketing strategies for each."
   ]
  },
  {
   "cell_type": "markdown",
   "metadata": {},
   "source": [
    "# 6. Hierarchical Clustering"
   ]
  },
  {
   "cell_type": "code",
   "execution_count": 44,
   "metadata": {},
   "outputs": [
    {
     "data": {
      "text/html": [
       "<div>\n",
       "<style scoped>\n",
       "    .dataframe tbody tr th:only-of-type {\n",
       "        vertical-align: middle;\n",
       "    }\n",
       "\n",
       "    .dataframe tbody tr th {\n",
       "        vertical-align: top;\n",
       "    }\n",
       "\n",
       "    .dataframe thead th {\n",
       "        text-align: right;\n",
       "    }\n",
       "</style>\n",
       "<table border=\"1\" class=\"dataframe\">\n",
       "  <thead>\n",
       "    <tr style=\"text-align: right;\">\n",
       "      <th></th>\n",
       "      <th>monetary_value</th>\n",
       "      <th>frequency</th>\n",
       "      <th>recency</th>\n",
       "    </tr>\n",
       "  </thead>\n",
       "  <tbody>\n",
       "    <tr>\n",
       "      <th>0</th>\n",
       "      <td>1.293234</td>\n",
       "      <td>-0.384518</td>\n",
       "      <td>-0.246172</td>\n",
       "    </tr>\n",
       "    <tr>\n",
       "      <th>1</th>\n",
       "      <td>1.240948</td>\n",
       "      <td>0.630165</td>\n",
       "      <td>-0.830527</td>\n",
       "    </tr>\n",
       "    <tr>\n",
       "      <th>2</th>\n",
       "      <td>-0.633865</td>\n",
       "      <td>-0.722746</td>\n",
       "      <td>2.206033</td>\n",
       "    </tr>\n",
       "    <tr>\n",
       "      <th>3</th>\n",
       "      <td>2.226985</td>\n",
       "      <td>0.920074</td>\n",
       "      <td>-0.653134</td>\n",
       "    </tr>\n",
       "    <tr>\n",
       "      <th>4</th>\n",
       "      <td>-0.957147</td>\n",
       "      <td>-1.036814</td>\n",
       "      <td>1.099932</td>\n",
       "    </tr>\n",
       "  </tbody>\n",
       "</table>\n",
       "</div>"
      ],
      "text/plain": [
       "   monetary_value  frequency   recency\n",
       "0        1.293234  -0.384518 -0.246172\n",
       "1        1.240948   0.630165 -0.830527\n",
       "2       -0.633865  -0.722746  2.206033\n",
       "3        2.226985   0.920074 -0.653134\n",
       "4       -0.957147  -1.036814  1.099932"
      ]
     },
     "execution_count": 44,
     "metadata": {},
     "output_type": "execute_result"
    }
   ],
   "source": [
    "rfm_scaled.head()"
   ]
  },
  {
   "cell_type": "code",
   "execution_count": 45,
   "metadata": {},
   "outputs": [
    {
     "data": {
      "text/html": [
       "<div>\n",
       "<style scoped>\n",
       "    .dataframe tbody tr th:only-of-type {\n",
       "        vertical-align: middle;\n",
       "    }\n",
       "\n",
       "    .dataframe tbody tr th {\n",
       "        vertical-align: top;\n",
       "    }\n",
       "\n",
       "    .dataframe thead th {\n",
       "        text-align: right;\n",
       "    }\n",
       "</style>\n",
       "<table border=\"1\" class=\"dataframe\">\n",
       "  <thead>\n",
       "    <tr style=\"text-align: right;\">\n",
       "      <th></th>\n",
       "      <th>CustomerID</th>\n",
       "      <th>recency</th>\n",
       "      <th>frequency</th>\n",
       "      <th>monetary_value</th>\n",
       "      <th>cluster_id</th>\n",
       "    </tr>\n",
       "  </thead>\n",
       "  <tbody>\n",
       "    <tr>\n",
       "      <th>2</th>\n",
       "      <td>12348.0</td>\n",
       "      <td>74</td>\n",
       "      <td>31.0</td>\n",
       "      <td>1797.24</td>\n",
       "      <td>0</td>\n",
       "    </tr>\n",
       "    <tr>\n",
       "      <th>3</th>\n",
       "      <td>12349.0</td>\n",
       "      <td>18</td>\n",
       "      <td>73.0</td>\n",
       "      <td>1757.55</td>\n",
       "      <td>2</td>\n",
       "    </tr>\n",
       "    <tr>\n",
       "      <th>4</th>\n",
       "      <td>12350.0</td>\n",
       "      <td>309</td>\n",
       "      <td>17.0</td>\n",
       "      <td>334.40</td>\n",
       "      <td>1</td>\n",
       "    </tr>\n",
       "    <tr>\n",
       "      <th>5</th>\n",
       "      <td>12352.0</td>\n",
       "      <td>35</td>\n",
       "      <td>85.0</td>\n",
       "      <td>2506.04</td>\n",
       "      <td>2</td>\n",
       "    </tr>\n",
       "    <tr>\n",
       "      <th>6</th>\n",
       "      <td>12353.0</td>\n",
       "      <td>203</td>\n",
       "      <td>4.0</td>\n",
       "      <td>89.00</td>\n",
       "      <td>1</td>\n",
       "    </tr>\n",
       "  </tbody>\n",
       "</table>\n",
       "</div>"
      ],
      "text/plain": [
       "   CustomerID  recency  frequency  monetary_value  cluster_id\n",
       "2     12348.0       74       31.0         1797.24           0\n",
       "3     12349.0       18       73.0         1757.55           2\n",
       "4     12350.0      309       17.0          334.40           1\n",
       "5     12352.0       35       85.0         2506.04           2\n",
       "6     12353.0      203        4.0           89.00           1"
      ]
     },
     "execution_count": 45,
     "metadata": {},
     "output_type": "execute_result"
    }
   ],
   "source": [
    "grouped_df.head()"
   ]
  },
  {
   "cell_type": "markdown",
   "metadata": {},
   "source": [
    "### 6.1 Single Linkage"
   ]
  },
  {
   "cell_type": "code",
   "execution_count": 46,
   "metadata": {},
   "outputs": [
    {
     "data": {
      "image/png": "[encoded data removed]",
      "text/plain": [
       "<Figure size 640x480 with 1 Axes>"
      ]
     },
     "metadata": {},
     "output_type": "display_data"
    }
   ],
   "source": [
    "mergings = linkage(rfm_scaled, method='single', metric='euclidean')\n",
    "dendrogram(mergings)\n",
    "plt.show()"
   ]
  },
  {
   "cell_type": "markdown",
   "metadata": {},
   "source": [
    "### 6.2 Complete Linkage"
   ]
  },
  {
   "cell_type": "code",
   "execution_count": 47,
   "metadata": {},
   "outputs": [
    {
     "data": {
      "image/png": "[encoded data removed]",
      "text/plain": [
       "<Figure size 640x480 with 1 Axes>"
      ]
     },
     "metadata": {},
     "output_type": "display_data"
    }
   ],
   "source": [
    "mergings = linkage(rfm_scaled, method='complete', metric='euclidean')\n",
    "dendrogram(mergings)\n",
    "plt.show()"
   ]
  },
  {
   "cell_type": "code",
   "execution_count": 48,
   "metadata": {},
   "outputs": [
    {
     "data": {
      "text/plain": [
       "(3586, 1)"
      ]
     },
     "execution_count": 48,
     "metadata": {},
     "output_type": "execute_result"
    }
   ],
   "source": [
    "# 3 clusters\n",
    "cut_tree(mergings, n_clusters=3).shape"
   ]
  },
  {
   "cell_type": "code",
   "execution_count": 49,
   "metadata": {},
   "outputs": [
    {
     "data": {
      "text/plain": [
       "array([0, 1, 2, ..., 2, 2, 1])"
      ]
     },
     "execution_count": 49,
     "metadata": {},
     "output_type": "execute_result"
    }
   ],
   "source": [
    "cluster_labels = cut_tree(mergings, n_clusters=3).reshape(-1,)\n",
    "cluster_labels"
   ]
  },
  {
   "cell_type": "code",
   "execution_count": 50,
   "metadata": {},
   "outputs": [
    {
     "data": {
      "text/plain": [
       "(3586,)"
      ]
     },
     "execution_count": 50,
     "metadata": {},
     "output_type": "execute_result"
    }
   ],
   "source": [
    "cluster_labels.shape"
   ]
  },
  {
   "cell_type": "markdown",
   "metadata": {},
   "source": [
    "### Assign Cluster Labels"
   ]
  },
  {
   "cell_type": "code",
   "execution_count": 51,
   "metadata": {},
   "outputs": [
    {
     "data": {
      "text/html": [
       "<div>\n",
       "<style scoped>\n",
       "    .dataframe tbody tr th:only-of-type {\n",
       "        vertical-align: middle;\n",
       "    }\n",
       "\n",
       "    .dataframe tbody tr th {\n",
       "        vertical-align: top;\n",
       "    }\n",
       "\n",
       "    .dataframe thead th {\n",
       "        text-align: right;\n",
       "    }\n",
       "</style>\n",
       "<table border=\"1\" class=\"dataframe\">\n",
       "  <thead>\n",
       "    <tr style=\"text-align: right;\">\n",
       "      <th></th>\n",
       "      <th>CustomerID</th>\n",
       "      <th>recency</th>\n",
       "      <th>frequency</th>\n",
       "      <th>monetary_value</th>\n",
       "      <th>cluster_id</th>\n",
       "      <th>cluster_labels</th>\n",
       "    </tr>\n",
       "  </thead>\n",
       "  <tbody>\n",
       "    <tr>\n",
       "      <th>2</th>\n",
       "      <td>12348.0</td>\n",
       "      <td>74</td>\n",
       "      <td>31.0</td>\n",
       "      <td>1797.24</td>\n",
       "      <td>0</td>\n",
       "      <td>0</td>\n",
       "    </tr>\n",
       "    <tr>\n",
       "      <th>3</th>\n",
       "      <td>12349.0</td>\n",
       "      <td>18</td>\n",
       "      <td>73.0</td>\n",
       "      <td>1757.55</td>\n",
       "      <td>2</td>\n",
       "      <td>1</td>\n",
       "    </tr>\n",
       "    <tr>\n",
       "      <th>4</th>\n",
       "      <td>12350.0</td>\n",
       "      <td>309</td>\n",
       "      <td>17.0</td>\n",
       "      <td>334.40</td>\n",
       "      <td>1</td>\n",
       "      <td>2</td>\n",
       "    </tr>\n",
       "    <tr>\n",
       "      <th>5</th>\n",
       "      <td>12352.0</td>\n",
       "      <td>35</td>\n",
       "      <td>85.0</td>\n",
       "      <td>2506.04</td>\n",
       "      <td>2</td>\n",
       "      <td>0</td>\n",
       "    </tr>\n",
       "    <tr>\n",
       "      <th>6</th>\n",
       "      <td>12353.0</td>\n",
       "      <td>203</td>\n",
       "      <td>4.0</td>\n",
       "      <td>89.00</td>\n",
       "      <td>1</td>\n",
       "      <td>2</td>\n",
       "    </tr>\n",
       "  </tbody>\n",
       "</table>\n",
       "</div>"
      ],
      "text/plain": [
       "   CustomerID  recency  frequency  monetary_value  cluster_id  cluster_labels\n",
       "2     12348.0       74       31.0         1797.24           0               0\n",
       "3     12349.0       18       73.0         1757.55           2               1\n",
       "4     12350.0      309       17.0          334.40           1               2\n",
       "5     12352.0       35       85.0         2506.04           2               0\n",
       "6     12353.0      203        4.0           89.00           1               2"
      ]
     },
     "execution_count": 51,
     "metadata": {},
     "output_type": "execute_result"
    }
   ],
   "source": [
    "grouped_df['cluster_labels'] = cluster_labels\n",
    "grouped_df.head()"
   ]
  },
  {
   "cell_type": "markdown",
   "metadata": {},
   "source": [
    "##### cluster_id vs cluster_labels\n",
    "- cluster_id - assigned through k-means\n",
    "- cluster_labels - assigned through hierarchical clustering"
   ]
  },
  {
   "cell_type": "markdown",
   "metadata": {},
   "source": [
    "### 6.3 Plots"
   ]
  },
  {
   "cell_type": "code",
   "execution_count": 52,
   "metadata": {},
   "outputs": [
    {
     "data": {
      "text/plain": [
       "<Axes: xlabel='cluster_labels', ylabel='monetary_value'>"
      ]
     },
     "execution_count": 52,
     "metadata": {},
     "output_type": "execute_result"
    },
    {
     "data": {
      "image/png": "[encoded data removed]",
      "text/plain": [
       "<Figure size 640x480 with 1 Axes>"
      ]
     },
     "metadata": {},
     "output_type": "display_data"
    }
   ],
   "source": [
    "sns.boxplot(x='cluster_labels', y='monetary_value', data=grouped_df, orientation='vertical')"
   ]
  },
  {
   "cell_type": "code",
   "execution_count": 53,
   "metadata": {},
   "outputs": [
    {
     "data": {
      "text/plain": [
       "<Axes: xlabel='cluster_labels', ylabel='frequency'>"
      ]
     },
     "execution_count": 53,
     "metadata": {},
     "output_type": "execute_result"
    },
    {
     "data": {
      "image/png": "[encoded data removed]",
      "text/plain": [
       "<Figure size 640x480 with 1 Axes>"
      ]
     },
     "metadata": {},
     "output_type": "display_data"
    }
   ],
   "source": [
    "sns.boxplot(x='cluster_labels', y='frequency', data=grouped_df, orientation='vertical')"
   ]
  },
  {
   "cell_type": "code",
   "execution_count": 54,
   "metadata": {},
   "outputs": [
    {
     "data": {
      "text/plain": [
       "<Axes: xlabel='cluster_labels', ylabel='recency'>"
      ]
     },
     "execution_count": 54,
     "metadata": {},
     "output_type": "execute_result"
    },
    {
     "data": {
      "image/png": "[encoded data removed]",
      "text/plain": [
       "<Figure size 640x480 with 1 Axes>"
      ]
     },
     "metadata": {},
     "output_type": "display_data"
    }
   ],
   "source": [
    "sns.boxplot(x='cluster_labels', y='recency', data=grouped_df, orientation='vertical')"
   ]
  },
  {
   "cell_type": "markdown",
   "metadata": {},
   "source": [
    "### 6.4 Hierarchical Cluster 3D Plot"
   ]
  },
  {
   "cell_type": "code",
   "execution_count": 55,
   "metadata": {},
   "outputs": [
    {
     "data": {
      "application/vnd.plotly.v1+json": {
       "config": {
        "plotlyServerURL": "https://plot.ly"
       },
       "data": [
        {
         "hovertemplate": "Revenue=%{x}<br>Recency=%{y}<br>Frequency=%{z}<br>cluster_labels=%{marker.color}<extra></extra>",
         "legendgroup": "",
         "marker": {
          "color": {
           "bdata": "AAECAAICAgAAAAICAQICAAECAgICAgIAAQICAgACAQEAAAABAgICAgIAAQACAgICAgICAgEAAgICAgICAAICAgICAgICAAAAAAICAgEAAgICAgIAAAICAgICAgICAAICAgICAgICAgIAAQIAAgIBAgIBAQICAgICAgICAgICAgICAQICAQICAgICAgICAQEAAgICAgAAAgICAgICAgACAAIAAgICAgECAQICAAIBAgICAAECAgIAAgICAQECAgICAgACAQACAgICAgACAAICAgICAAACAgEAAgIBAAICAAICAgACAgIAAgACAgICAgICAAICAgACAgICAgICAgIBAgACAAEBAgICAAIBAgIBAAICAgICAgICAgICAgICAgICAgICAgACAQICAgICAgIAAgEAAgECAgECAgICAQICAgECAgICAgIBAQICAgACAgIBAgICAgICAgIAAgEAAAACAAIAAgICAgIBAgIBAQIBAgECAgIBAQACAQICAgEBAgICAQICAgICAgICAgICAgICAgICAgICAgIBAAACAgACAgIAAQICAgICAgICAgICAAECAgICAgICAgICAgICAgIBAgIAAgICAgACAgICAAIBAgEBAgICAgICAQICAgICAQAAAgIAAgICAgIBAgIBAQIBAgICAgICAQICAgICAgICAQICAgICAgECAgIBAgIBAQICAgICAgECAgICAgICAgICAgICAgECAgICAgICAgICAQECAgICAgICAAICAgICAgIBAgICAgICAQIAAQICAQIAAgECAgICAAICAgICAgICAgACAgICAAICAgICAgICAAICAQICAgACAgEAAgICAgICAAIAAAICAgICAAICAgICAgEAAgACAgICAgICAAICAgIBAgICAQIAAgICAQICAgICAQIBAgICAgICAgECAgIBAgIAAgICAgICAAICAQICAgIAAQICAAICAgICAgIAAgEBAQICAgECAgECAgIBAgICAgICAQICAgICAAIBAgIBAgECAgECAgIBAgICAgICAgEBAAECAgECAgICAAIBAgECAgACAgIAAgICAgICAgICAgICAgIAAgICAAACAgIAAgICAgICAgICAQICAgIAAgECAgICAgICAgICAAICAgACAgICAAICAgIAAAABAgICAgEAAgIAAgICAgIAAgIBAgACAgECAgICAgEAAAIBAgECAgICAQICAgIAAQEAAgICAgIBAgICAgAAAgIBAgICAAIAAgICAgICAQICAgACAgICAAIAAAICAAICAgECAgICAgICAgICAgICAgICAgIAAgIAAAICAQECAgICAAICAgICAgIBAAICAgICAgAAAQIAAgACAgICAgIBAgICAgICAgABAQICAQICAAIAAgICAgICAgECAgICAgICAgICAQICAgECAgECAgACAgIAAAIBAgACAAICAgICAgICAgICAgICAgICAgICAgIAAAICAgICAAICAQICAQICAgICAgICAgIBAQECAgEBAQICAgICAQEAAAIBAAEAAgIBAgICAAICAgIBAAIAAgIAAgICAgICAgICAgACAgIBAgICAgICAQAAAgECAAICAQICAgICAgACAQICAgECAgICAgICAgICAgICAgECAgICAgICAgECAgIBAgICAAIAAQIAAAACAgIBAgECAgICAgECAAICAAABAgECAgIBAgICAAICAQEBAgICAgIAAgICAQICAgECAgIAAgICAgICAAEBAgICAgIBAgICAgICAgECAgICAgECAAECAgICAgECAgECAAAAAgIBAgICAgICAQECAQICAgICAAICAgICAQIBAgIAAgECAgICAgABAgICAgICAQIBAgECAgIBAQECAQECAQEAAgICAgIBAgIBAgIBAgIAAQICAgICAgICAgAAAgICAAICAQICAgICAgECAgICAgACAgICAAICAgICAgICAgICAQICAgICAgICAgICAgICAgABAAICAQIBAgAAAAICAgACAAIBAgICAgICAgIAAgIBAgIBAgICAgICAAICAgICAgICAQECAgIAAgICAQICAAIBAgICAAABAgACAgICAgICAgICAgICAgICAgABAgICAgICAgICAgICAgIBAQECAgECAgICAgEBAgIAAgIBAgEBAgICAgIBAgEBAgIBAgECAgACAQECAgICAgICAgICAgACAgICAgICAgICAgEBAgICAAEAAgABAgICAgIBAgIBAAICAgECAgIBAgICAgICAgICAgECAgIBAgICAQICAgACAgICAgICAAIAAgECAgICAgICAgECAgIBAgICAgICAAICAgACAQICAQECAgACAgICAgICAgICAgICAgICAAIAAgICAgICAgACAgECAgICAgICAgICAgICAgICAgACAgICAgICAgIBAAICAgICAgICAgICAgECAQIAAAACAQACAgICAgIBAgACAgIBAgICAgIBAgABAgICAgICAgICAgICAgICAgICAgICAgICAgICAgICAgIBAgICAgICAAIAAgIAAgIAAgEAAgIAAQICAgECAgICAgICAQIAAgECAgICAgICAgECAgICAgICAgIBAgICAgIBAQICAgIAAgECAgICAgECAgICAAICAgACAgICAAICAgEAAgICAgACAAICAgIBAgICAgICAgICAgICAgIBAgICAAICAgIAAAACAgIBAQACAAICAgICAAICAgACAgICAgIBAgEBAQICAgICAgICAgICAgICAQICAgACAgICAgICAgICAgICAgACAQICAQICAAABAQICAgICAgEBAAIBAAECAgICAQECAgICAgICAgICAgICAQICAAICAQECAAICAgIBAQICAgICAgICAgICAQIBAgECAgECAgECAgICAAICAgICAgIAAgIBAgEBAgICAQICAgACAgICAAABAgIBAgICAgEAAgIBAgEBAgICAgECAgICAgECAgICAgACAgICAgECAgIBAgIBAgICAgECAAICAgECAgICAgICAAICAQACAgIAAgICAgICAgIAAgICAgEAAgICAgICAgACAgICAgECAQACAgICAgIBAQICAQICAgICAgICAgICAgICAQICAgECAgIAAgICAgICAgABAQEBAgICAgICAgICAgIBAgIBAgACAgIBAgICAQICAgIBAAIBAQICAQECAgICAgACAgICAAICAgICAgIBAgIBAgICAQECAgICAQICAgICAgIBAQECAgIAAgECAQEBAQICAQABAgIBAgACAQICAgICAgICAAICAgICAgECAgICAgICAgICAQECAQICAgICAgICAQECAQICAQECAQICAgACAgICAgICAgICAgEBAAICAgICAgICAQIBAgICAgECAgICAgECAgACAgICAgICAgICAgICAgECAgICAgICAgICAgICAgICAgICAgACAgICAgICAAICAgICAgIBAgACAgECAgICAgICAgICAgACAgICAQABAQACAAACAgICAgICAgABAgAAAgICAgICAQICAgACAgICAgEBAAIBAgICAgIBAgICAgIBAgIBAgICAgIBAgECAgIBAgICAgECAgECAgICAQICAgICAgICAgICAgIAAgECAgICAgICAgICAgICAgEAAgEBAgECAgICAQIBAQICAQECAAIBAQIAAgICAQIBAgICAQICAgICAgICAgICAgIBAgICAgECAgIAAgICAgICAQICAQABAgACAQACAgICAAICAgICAgICAgIBAgICAgICAgICAgEBAgICAgICAQIBAgICAQIAAgABAgICAgICAQIAAQEBAQIBAgIAAgIBAgIBAgICAgICAgICAgACAgICAgICAQIAAgICAgEBAQIAAgICAgICAQICAQIAAgIAAgIAAgABAgACAgICAAECAgICAgICAgACAgICAQICAgICAgICAgIBAgIBAAIBAgICAQICAgIBAgEBAQECAQICAgICAgICAgIAAAACAQICAgICAgICAgIBAgICAgAAAgICAgECAgIBAgICAgICAgICAgIAAgACAgIBAgACAgACAgICAgICAgIBAgICAgICAgIAAgICAQIAAgIBAgICAAIBAgECAgICAQICAgECAgIBAAICAgICAAICAgACAgICAgACAgEBAgECAgICAgIAAgICAgICAgICAQICAgICAAEBAgICAgICAQICAgICAgICAAAAAgIAAgICAgIBAQICAgICAAICAgECAgECAgICAgACAgECAgICAAECAAIBAgIBAgACAAACAQIAAgACAAICAgICAQICAAIBAgIBAgICAgICAgICAAACAgACAgICAgEAAgACAgICAQECAgICAgIBAgICAQICAgICAgAAAgICAgIBAQECAgECAgIBAgICAgICAQACAgIAAgICAgACAgABAgICAgACAgICAgEBAgECAgICAgICAgIBAgICAgICAgICAgIBAAECAAICAgACAQICAgICAgICAgICAgICAgICAQICAgICAgECAgICAgICAgICAAECAgICAAICAgICAQICAgICAgICAQIBAgICAQECAgICAgICAQICAAICAgICAAIAAAICAgICAgAAAgACAgICAgICAgICAgICAgICAgICAgICAgACAgICAgICAQICAgECAgABAgACAAICAQEBAQICAgIBAgICAgICAQICAgICAAICAgICAgIBAgICAgICAAACAgECAgICAQEAAgICAgECAQAAAgICAgICAAICAgICAgICAQ==",
           "dtype": "i1"
          },
          "coloraxis": "coloraxis",
          "opacity": 0.99,
          "symbol": "circle"
         },
         "mode": "markers",
         "name": "",
         "scene": "scene",
         "showlegend": false,
         "type": "scatter3d",
         "x": {
          "bdata": "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",
          "dtype": "f8"
         },
         "y": {
          "bdata": "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",
          "dtype": "i2"
         },
         "z": {
          "bdata": "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",
          "dtype": "f8"
         }
        }
       ],
       "layout": {
        "coloraxis": {
         "colorbar": {
          "title": {
           "text": "cluster_labels"
          }
         },
         "colorscale": [
          [
           0,
           "#fde725"
          ],
          [
           0.1111111111111111,
           "#b5de2b"
          ],
          [
           0.2222222222222222,
           "#6ece58"
          ],
          [
           0.3333333333333333,
           "#35b779"
          ],
          [
           0.4444444444444444,
           "#1f9e89"
          ],
          [
           0.5555555555555556,
           "#26828e"
          ],
          [
           0.6666666666666666,
           "#31688e"
          ],
          [
           0.7777777777777778,
           "#3e4989"
          ],
          [
           0.8888888888888888,
           "#482878"
          ],
          [
           1,
           "#440154"
          ]
         ]
        },
        "font": {
         "color": "white"
        },
        "height": 1200,
        "legend": {
         "tracegroupgap": 0
        },
        "paper_bgcolor": "rgb(28, 28, 28)",
        "plot_bgcolor": "rgb(28, 28, 28)",
        "scene": {
         "domain": {
          "x": [
           0,
           1
          ],
          "y": [
           0,
           1
          ]
         },
         "xaxis": {
          "title": {
           "text": "Revenue"
          }
         },
         "yaxis": {
          "title": {
           "text": "Recency"
          }
         },
         "zaxis": {
          "title": {
           "text": "Frequency"
          }
         }
        },
        "template": {
         "data": {
          "bar": [
           {
            "error_x": {
             "color": "#2a3f5f"
            },
            "error_y": {
             "color": "#2a3f5f"
            },
            "marker": {
             "line": {
              "color": "#E5ECF6",
              "width": 0.5
             },
             "pattern": {
              "fillmode": "overlay",
              "size": 10,
              "solidity": 0.2
             }
            },
            "type": "bar"
           }
          ],
          "barpolar": [
           {
            "marker": {
             "line": {
              "color": "#E5ECF6",
              "width": 0.5
             },
             "pattern": {
              "fillmode": "overlay",
              "size": 10,
              "solidity": 0.2
             }
            },
            "type": "barpolar"
           }
          ],
          "carpet": [
           {
            "aaxis": {
             "endlinecolor": "#2a3f5f",
             "gridcolor": "white",
             "linecolor": "white",
             "minorgridcolor": "white",
             "startlinecolor": "#2a3f5f"
            },
            "baxis": {
             "endlinecolor": "#2a3f5f",
             "gridcolor": "white",
             "linecolor": "white",
             "minorgridcolor": "white",
             "startlinecolor": "#2a3f5f"
            },
            "type": "carpet"
           }
          ],
          "choropleth": [
           {
            "colorbar": {
             "outlinewidth": 0,
             "ticks": ""
            },
            "type": "choropleth"
           }
          ],
          "contour": [
           {
            "colorbar": {
             "outlinewidth": 0,
             "ticks": ""
            },
            "colorscale": [
             [
              0,
              "#0d0887"
             ],
             [
              0.1111111111111111,
              "#46039f"
             ],
             [
              0.2222222222222222,
              "#7201a8"
             ],
             [
              0.3333333333333333,
              "#9c179e"
             ],
             [
              0.4444444444444444,
              "#bd3786"
             ],
             [
              0.5555555555555556,
              "#d8576b"
             ],
             [
              0.6666666666666666,
              "#ed7953"
             ],
             [
              0.7777777777777778,
              "#fb9f3a"
             ],
             [
              0.8888888888888888,
              "#fdca26"
             ],
             [
              1,
              "#f0f921"
             ]
            ],
            "type": "contour"
           }
          ],
          "contourcarpet": [
           {
            "colorbar": {
             "outlinewidth": 0,
             "ticks": ""
            },
            "type": "contourcarpet"
           }
          ],
          "heatmap": [
           {
            "colorbar": {
             "outlinewidth": 0,
             "ticks": ""
            },
            "colorscale": [
             [
              0,
              "#0d0887"
             ],
             [
              0.1111111111111111,
              "#46039f"
             ],
             [
              0.2222222222222222,
              "#7201a8"
             ],
             [
              0.3333333333333333,
              "#9c179e"
             ],
             [
              0.4444444444444444,
              "#bd3786"
             ],
             [
              0.5555555555555556,
              "#d8576b"
             ],
             [
              0.6666666666666666,
              "#ed7953"
             ],
             [
              0.7777777777777778,
              "#fb9f3a"
             ],
             [
              0.8888888888888888,
              "#fdca26"
             ],
             [
              1,
              "#f0f921"
             ]
            ],
            "type": "heatmap"
           }
          ],
          "histogram": [
           {
            "marker": {
             "pattern": {
              "fillmode": "overlay",
              "size": 10,
              "solidity": 0.2
             }
            },
            "type": "histogram"
           }
          ],
          "histogram2d": [
           {
            "colorbar": {
             "outlinewidth": 0,
             "ticks": ""
            },
            "colorscale": [
             [
              0,
              "#0d0887"
             ],
             [
              0.1111111111111111,
              "#46039f"
             ],
             [
              0.2222222222222222,
              "#7201a8"
             ],
             [
              0.3333333333333333,
              "#9c179e"
             ],
             [
              0.4444444444444444,
              "#bd3786"
             ],
             [
              0.5555555555555556,
              "#d8576b"
             ],
             [
              0.6666666666666666,
              "#ed7953"
             ],
             [
              0.7777777777777778,
              "#fb9f3a"
             ],
             [
              0.8888888888888888,
              "#fdca26"
             ],
             [
              1,
              "#f0f921"
             ]
            ],
            "type": "histogram2d"
           }
          ],
          "histogram2dcontour": [
           {
            "colorbar": {
             "outlinewidth": 0,
             "ticks": ""
            },
            "colorscale": [
             [
              0,
              "#0d0887"
             ],
             [
              0.1111111111111111,
              "#46039f"
             ],
             [
              0.2222222222222222,
              "#7201a8"
             ],
             [
              0.3333333333333333,
              "#9c179e"
             ],
             [
              0.4444444444444444,
              "#bd3786"
             ],
             [
              0.5555555555555556,
              "#d8576b"
             ],
             [
              0.6666666666666666,
              "#ed7953"
             ],
             [
              0.7777777777777778,
              "#fb9f3a"
             ],
             [
              0.8888888888888888,
              "#fdca26"
             ],
             [
              1,
              "#f0f921"
             ]
            ],
            "type": "histogram2dcontour"
           }
          ],
          "mesh3d": [
           {
            "colorbar": {
             "outlinewidth": 0,
             "ticks": ""
            },
            "type": "mesh3d"
           }
          ],
          "parcoords": [
           {
            "line": {
             "colorbar": {
              "outlinewidth": 0,
              "ticks": ""
             }
            },
            "type": "parcoords"
           }
          ],
          "pie": [
           {
            "automargin": true,
            "type": "pie"
           }
          ],
          "scatter": [
           {
            "fillpattern": {
             "fillmode": "overlay",
             "size": 10,
             "solidity": 0.2
            },
            "type": "scatter"
           }
          ],
          "scatter3d": [
           {
            "line": {
             "colorbar": {
              "outlinewidth": 0,
              "ticks": ""
             }
            },
            "marker": {
             "colorbar": {
              "outlinewidth": 0,
              "ticks": ""
             }
            },
            "type": "scatter3d"
           }
          ],
          "scattercarpet": [
           {
            "marker": {
             "colorbar": {
              "outlinewidth": 0,
              "ticks": ""
             }
            },
            "type": "scattercarpet"
           }
          ],
          "scattergeo": [
           {
            "marker": {
             "colorbar": {
              "outlinewidth": 0,
              "ticks": ""
             }
            },
            "type": "scattergeo"
           }
          ],
          "scattergl": [
           {
            "marker": {
             "colorbar": {
              "outlinewidth": 0,
              "ticks": ""
             }
            },
            "type": "scattergl"
           }
          ],
          "scattermap": [
           {
            "marker": {
             "colorbar": {
              "outlinewidth": 0,
              "ticks": ""
             }
            },
            "type": "scattermap"
           }
          ],
          "scattermapbox": [
           {
            "marker": {
             "colorbar": {
              "outlinewidth": 0,
              "ticks": ""
             }
            },
            "type": "scattermapbox"
           }
          ],
          "scatterpolar": [
           {
            "marker": {
             "colorbar": {
              "outlinewidth": 0,
              "ticks": ""
             }
            },
            "type": "scatterpolar"
           }
          ],
          "scatterpolargl": [
           {
            "marker": {
             "colorbar": {
              "outlinewidth": 0,
              "ticks": ""
             }
            },
            "type": "scatterpolargl"
           }
          ],
          "scatterternary": [
           {
            "marker": {
             "colorbar": {
              "outlinewidth": 0,
              "ticks": ""
             }
            },
            "type": "scatterternary"
           }
          ],
          "surface": [
           {
            "colorbar": {
             "outlinewidth": 0,
             "ticks": ""
            },
            "colorscale": [
             [
              0,
              "#0d0887"
             ],
             [
              0.1111111111111111,
              "#46039f"
             ],
             [
              0.2222222222222222,
              "#7201a8"
             ],
             [
              0.3333333333333333,
              "#9c179e"
             ],
             [
              0.4444444444444444,
              "#bd3786"
             ],
             [
              0.5555555555555556,
              "#d8576b"
             ],
             [
              0.6666666666666666,
              "#ed7953"
             ],
             [
              0.7777777777777778,
              "#fb9f3a"
             ],
             [
              0.8888888888888888,
              "#fdca26"
             ],
             [
              1,
              "#f0f921"
             ]
            ],
            "type": "surface"
           }
          ],
          "table": [
           {
            "cells": {
             "fill": {
              "color": "#EBF0F8"
             },
             "line": {
              "color": "white"
             }
            },
            "header": {
             "fill": {
              "color": "#C8D4E3"
             },
             "line": {
              "color": "white"
             }
            },
            "type": "table"
           }
          ]
         },
         "layout": {
          "annotationdefaults": {
           "arrowcolor": "#2a3f5f",
           "arrowhead": 0,
           "arrowwidth": 1
          },
          "autotypenumbers": "strict",
          "coloraxis": {
           "colorbar": {
            "outlinewidth": 0,
            "ticks": ""
           }
          },
          "colorscale": {
           "diverging": [
            [
             0,
             "#8e0152"
            ],
            [
             0.1,
             "#c51b7d"
            ],
            [
             0.2,
             "#de77ae"
            ],
            [
             0.3,
             "#f1b6da"
            ],
            [
             0.4,
             "#fde0ef"
            ],
            [
             0.5,
             "#f7f7f7"
            ],
            [
             0.6,
             "#e6f5d0"
            ],
            [
             0.7,
             "#b8e186"
            ],
            [
             0.8,
             "#7fbc41"
            ],
            [
             0.9,
             "#4d9221"
            ],
            [
             1,
             "#276419"
            ]
           ],
           "sequential": [
            [
             0,
             "#0d0887"
            ],
            [
             0.1111111111111111,
             "#46039f"
            ],
            [
             0.2222222222222222,
             "#7201a8"
            ],
            [
             0.3333333333333333,
             "#9c179e"
            ],
            [
             0.4444444444444444,
             "#bd3786"
            ],
            [
             0.5555555555555556,
             "#d8576b"
            ],
            [
             0.6666666666666666,
             "#ed7953"
            ],
            [
             0.7777777777777778,
             "#fb9f3a"
            ],
            [
             0.8888888888888888,
             "#fdca26"
            ],
            [
             1,
             "#f0f921"
            ]
           ],
           "sequentialminus": [
            [
             0,
             "#0d0887"
            ],
            [
             0.1111111111111111,
             "#46039f"
            ],
            [
             0.2222222222222222,
             "#7201a8"
            ],
            [
             0.3333333333333333,
             "#9c179e"
            ],
            [
             0.4444444444444444,
             "#bd3786"
            ],
            [
             0.5555555555555556,
             "#d8576b"
            ],
            [
             0.6666666666666666,
             "#ed7953"
            ],
            [
             0.7777777777777778,
             "#fb9f3a"
            ],
            [
             0.8888888888888888,
             "#fdca26"
            ],
            [
             1,
             "#f0f921"
            ]
           ]
          },
          "colorway": [
           "#636efa",
           "#EF553B",
           "#00cc96",
           "#ab63fa",
           "#FFA15A",
           "#19d3f3",
           "#FF6692",
           "#B6E880",
           "#FF97FF",
           "#FECB52"
          ],
          "font": {
           "color": "#2a3f5f"
          },
          "geo": {
           "bgcolor": "white",
           "lakecolor": "white",
           "landcolor": "#E5ECF6",
           "showlakes": true,
           "showland": true,
           "subunitcolor": "white"
          },
          "hoverlabel": {
           "align": "left"
          },
          "hovermode": "closest",
          "mapbox": {
           "style": "light"
          },
          "paper_bgcolor": "white",
          "plot_bgcolor": "#E5ECF6",
          "polar": {
           "angularaxis": {
            "gridcolor": "white",
            "linecolor": "white",
            "ticks": ""
           },
           "bgcolor": "#E5ECF6",
           "radialaxis": {
            "gridcolor": "white",
            "linecolor": "white",
            "ticks": ""
           }
          },
          "scene": {
           "xaxis": {
            "backgroundcolor": "#E5ECF6",
            "gridcolor": "white",
            "gridwidth": 2,
            "linecolor": "white",
            "showbackground": true,
            "ticks": "",
            "zerolinecolor": "white"
           },
           "yaxis": {
            "backgroundcolor": "#E5ECF6",
            "gridcolor": "white",
            "gridwidth": 2,
            "linecolor": "white",
            "showbackground": true,
            "ticks": "",
            "zerolinecolor": "white"
           },
           "zaxis": {
            "backgroundcolor": "#E5ECF6",
            "gridcolor": "white",
            "gridwidth": 2,
            "linecolor": "white",
            "showbackground": true,
            "ticks": "",
            "zerolinecolor": "white"
           }
          },
          "shapedefaults": {
           "line": {
            "color": "#2a3f5f"
           }
          },
          "ternary": {
           "aaxis": {
            "gridcolor": "white",
            "linecolor": "white",
            "ticks": ""
           },
           "baxis": {
            "gridcolor": "white",
            "linecolor": "white",
            "ticks": ""
           },
           "bgcolor": "#E5ECF6",
           "caxis": {
            "gridcolor": "white",
            "linecolor": "white",
            "ticks": ""
           }
          },
          "title": {
           "x": 0.05
          },
          "xaxis": {
           "automargin": true,
           "gridcolor": "white",
           "linecolor": "white",
           "ticks": "",
           "title": {
            "standoff": 15
           },
           "zerolinecolor": "white",
           "zerolinewidth": 2
          },
          "yaxis": {
           "automargin": true,
           "gridcolor": "white",
           "linecolor": "white",
           "ticks": "",
           "title": {
            "standoff": 15
           },
           "zerolinecolor": "white",
           "zerolinewidth": 2
          }
         }
        },
        "title": {
         "text": "3D Interactive Cluster Plot"
        },
        "width": 1200
       }
      }
     },
     "metadata": {},
     "output_type": "display_data"
    }
   ],
   "source": [
    "import plotly.express as px\n",
    "\n",
    "# Create 3D scatter plot using Plotly\n",
    "fig = px.scatter_3d(grouped_df, x='monetary_value', y='recency', z='frequency',\n",
    "                    color='cluster_labels',  # Color by cluster\n",
    "                    title=\"3D Interactive Cluster Plot\",\n",
    "                    labels={'monetary_value': 'Revenue', 'recency': 'Recency', 'frequency': 'Frequency'},\n",
    "                    opacity=0.99, color_continuous_scale='viridis_r')\n",
    "\n",
    "# Set the figure size (width, height) and background color\n",
    "fig.update_layout(\n",
    "    width=1200,  \n",
    "    height=1200,  \n",
    "    plot_bgcolor='rgb(28, 28, 28)',  # background for the plot\n",
    "    paper_bgcolor='rgb(28, 28, 28)',  # background for the entire paper\n",
    "    font=dict(color='white')  # font color for visibility\n",
    ")\n",
    "\n",
    "# Show the plot\n",
    "fig.show()\n"
   ]
  },
  {
   "cell_type": "markdown",
   "metadata": {},
   "source": [
    "Hierarchical Clustering produced unique segments by prioritizing spending patterns over recency, offering a different perspective than K-Means.\n",
    "\n",
    "### Cluster 0 (Purple): The Big Spenders\n",
    "\n",
    "*   **Identity:** These customers are defined by high revenue and moderate-to-high frequency. Critically, this group contains both active and lapsed customers, as they are spread across the entire recency axis.\n",
    "*   **Actionable Insight:** This group must be sub-segmented by recency. Target active big spenders with VIP programs and lapsed ones with high-incentive \"we miss you\" campaigns to win back these valuable lost customers.\n",
    "\n",
    "### Cluster 1 (Yellow): Low-Value, Occasional Shoppers\n",
    "\n",
    "*   **Identity:** Characterized by the lowest spending and frequency, this group is spread across all recency values.\n",
    "*   **Actionable Insight:** Minimize marketing investment. Use low-cost, automated communication (e.g., general newsletters) and only target the most recent buyers for a potential second purchase.\n",
    "\n",
    "### Cluster 2 (Teal/Green): The Active & Frequent Regulars\n",
    "\n",
    "*   **Identity:** Their defining trait is high frequency, while their spending is in the low-to-mid range. They are generally recent shoppers and represent the loyal backbone of the business.\n",
    "*   **Actionable Insight:** The primary goal is to increase their Average Order Value (AOV). Target them with bundles, upsells, and \"free shipping\" thresholds to encourage larger purchases and nurture their loyalty.\n",
    "\n",
    "\n",
    "### **Actionable Insights & Recommendations:**\n",
    "*   **Increase Average Order Value (AOV):** The main goal for this segment is to get them to spend more per visit.\n",
    "*   **Promote Bundles & Upsells:** Offer them \"3 for 2\" deals, product bundles, or a \"spend $X more to get free shipping\" incentive.\n",
    "*   **Nurture their Loyalty:** They are clearly fans of the brand. Keep them engaged with content and community-building initiatives. They are your brand advocates.\n",
    "\n",
    "### **Overall Conclusion: K-Means vs. Hierarchical**\n",
    "\n",
    "This is a classic comparison of clustering outcomes:\n",
    "\n",
    "*   **K-Means (Previous Plot):** Created segments that were highly intuitive for **time-based marketing**. It cleanly separated customers into \"Champions,\" \"Potential,\" and \"At-Risk\" based largely on their **recency**. This is often more immediately useful for a marketing team.\n",
    "*   **Hierarchical Clustering (This Plot):** Ignored recency as the primary separator and instead created segments based on **spending behavior**. It gave you \"Big Spenders,\" \"Frequent Regulars,\" and \"Low-Value Shoppers.\""
   ]
  },
  {
   "cell_type": "markdown",
   "metadata": {},
   "source": [
    "---"
   ]
  },
  {
   "cell_type": "markdown",
   "metadata": {},
   "source": [
    "### **Final Analysis and Recommendations**\n",
    "\n",
    "This project successfully employed two distinct clustering techniques, K-Means and Hierarchical Clustering, to segment the customer base into meaningful groups, directly addressing the primary objective of enabling targeted marketing. The analysis of both models provides a comprehensive view of the customer landscape, offering insights for both immediate tactical campaigns and long-term business strategy.\n",
    "\n",
    "**The K-Means model excelled at creating highly actionable, time-sensitive segments:**\n",
    "\n",
    "*   **Champions (High-Value & Recent):** This group represents the most valuable customers, making them ideal targets for loyalty programs and personalized engagement to reinforce their behavior.\n",
    "*   **Potential Loyalists (Recent & Developing):** These are new or recently engaged customers. Marketing efforts should focus on onboarding and encouraging repeat purchases to increase their lifetime value.\n",
    "*   **At-Risk Customers (Lapsed):** This segment consists of customers who have not purchased in a long time. They are prime candidates for targeted win-back campaigns designed to re-engage their interest.\n",
    "\n",
    "This segmentation directly supports the goal of designing specific marketing campaigns for different customer lifecycle stages.\n",
    "\n",
    "**The Hierarchical Clustering model provided a strategic overview based on purchasing power and loyalty:**\n",
    "\n",
    "*   **Big Spenders (High Revenue):** This group, containing both active and lapsed customers, holds the highest revenue potential. This insight is critical for high-stakes retention efforts.\n",
    "*   **Loyal Regulars (High Frequency):** A key discovery, this segment consists of customers who purchase very frequently but spend moderately. They are the brand's most engaged advocates and represent a significant opportunity for upselling and increasing average order value. This directly informs inventory planning for high-frequency items.\n",
    "*   **Low-Engagement Shoppers (Low Value):** This group allows the business to optimize marketing spend by minimizing efforts on customers with low lifetime value potential.\n",
    "\n",
    "### **Conclusion**\n",
    "\n",
    "By leveraging the insights from both models, the retailer can move beyond a one-size-fits-all approach. The **K-Means segmentation** provides a clear, tactical framework for day-to-day marketing actions focused on customer retention and growth. Simultaneously, the **Hierarchical segmentation** offers a strategic lens to understand the fundamental value and behavior patterns within the customer base, guiding long-term decisions on product offerings, inventory management, and loyalty program design. Together, they provide a powerful, data-driven foundation to enhance customer relationships, drive sales, and optimize overall business strategy."
   ]
  },
  {
   "cell_type": "code",
   "execution_count": 56,
   "metadata": {},
   "outputs": [],
   "source": [
    "# End"
   ]
  }
 ],
 "metadata": {
  "kernelspec": {
   "display_name": "upgrad",
   "language": "python",
   "name": "python3"
  },
  "language_info": {
   "codemirror_mode": {
    "name": "ipython",
    "version": 3
   },
   "file_extension": ".py",
   "mimetype": "text/x-python",
   "name": "python",
   "nbconvert_exporter": "python",
   "pygments_lexer": "ipython3",
   "version": "3.10.13"
  }
 },
 "nbformat": 4,
 "nbformat_minor": 2
}
